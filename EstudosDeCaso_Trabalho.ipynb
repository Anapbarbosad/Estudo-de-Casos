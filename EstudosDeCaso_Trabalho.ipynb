{
  "nbformat": 4,
  "nbformat_minor": 0,
  "metadata": {
    "colab": {
      "provenance": [],
      "toc_visible": true,
      "authorship_tag": "ABX9TyNObYHE9fbA7Cjk2TeJhtp3",
      "include_colab_link": true
    },
    "kernelspec": {
      "name": "python3",
      "display_name": "Python 3"
    },
    "language_info": {
      "name": "python"
    }
  },
  "cells": [
    {
      "cell_type": "markdown",
      "metadata": {
        "id": "view-in-github",
        "colab_type": "text"
      },
      "source": [
        "<a href=\"https://colab.research.google.com/github/Anapbarbosad/Estudo-de-Casos/blob/main/EstudosDeCaso_Trabalho.ipynb\" target=\"_parent\"><img src=\"https://colab.research.google.com/assets/colab-badge.svg\" alt=\"Open In Colab\"/></a>"
      ]
    },
    {
      "cell_type": "markdown",
      "source": [
        "#Introdução\n",
        "#O presente trabalho visa mostrar o consumo mundial de carne do período que se extende de 1990 a 2022. Além de uma breve análise dos dados, pretente-se responder também:\n",
        "\n",
        "\n",
        "\n",
        "\n",
        "\n",
        "## *   Qual o tipo de carne mais consumido mundialmente em média.\n",
        "\n",
        "\n",
        "## *   Consumo de carne ao longo dos anos\n",
        "\n",
        "\n",
        "## *   Qual país em média consome mais e menos carne.\n",
        "\n",
        "\n",
        "\n",
        "\n",
        "\n",
        "\n",
        "\n",
        "\n",
        "---\n",
        "\n",
        "\n",
        "\n",
        "Informações úteis:\n",
        "\n",
        "Nome das colunas\n",
        "\n",
        "***LOCATION***: Localização, o nome do país\n",
        "\n",
        "***SUBJECT***:O tipo de animal\n",
        "\n",
        "***TIME***:O ano da informação (1990-2022)\n",
        "\n",
        "***MEASURE ***:Medida (KG_CAP) e (THND_TONNE)\n",
        "\n",
        "***Value***:O valor \n",
        "\n",
        "\n"
      ],
      "metadata": {
        "id": "AN511kNHgfG9"
      }
    },
    {
      "cell_type": "code",
      "source": [
        "import pandas as pd\n",
        "import numpy as np\n",
        "import seaborn as sb\n",
        "import matplotlib.pyplot as plt\n",
        "import plotly.express as px\n",
        "\n",
        "#importando bibliotecas"
      ],
      "metadata": {
        "id": "vKJGoIcZdHEJ"
      },
      "execution_count": 1,
      "outputs": []
    },
    {
      "cell_type": "code",
      "execution_count": 2,
      "metadata": {
        "colab": {
          "base_uri": "https://localhost:8080/",
          "height": 424
        },
        "id": "QNYCcCska3oq",
        "outputId": "bbd71674-7a1d-45fb-f529-8ba5d81382d8"
      },
      "outputs": [
        {
          "output_type": "display_data",
          "data": {
            "text/plain": [
              "      LOCATION SUBJECT     MEASURE    TIME      Value\n",
              "0          AUS    BEEF      KG_CAP  1991.0  27.721815\n",
              "1          AUS    BEEF      KG_CAP  1992.0  26.199591\n",
              "2          AUS    BEEF      KG_CAP  1993.0  26.169094\n",
              "3          AUS    BEEF      KG_CAP  1994.0  25.456134\n",
              "4          AUS    BEEF      KG_CAP  1995.0  25.340226\n",
              "...        ...     ...         ...     ...        ...\n",
              "13751      MYS   SHEEP  THND_TONNE  2018.0  41.373219\n",
              "13752      MYS   SHEEP  THND_TONNE  2019.0  42.042755\n",
              "13753      MYS   SHEEP  THND_TONNE  2020.0  42.695193\n",
              "13754      MYS   SHEEP  THND_TONNE  2021.0  43.412791\n",
              "13755      MYS   SHEEP  THND_TONNE  2022.0  44.154151\n",
              "\n",
              "[12256 rows x 5 columns]"
            ],
            "text/html": [
              "\n",
              "  <div id=\"df-4589a00b-b569-4b2a-be51-3c0c8605e97c\">\n",
              "    <div class=\"colab-df-container\">\n",
              "      <div>\n",
              "<style scoped>\n",
              "    .dataframe tbody tr th:only-of-type {\n",
              "        vertical-align: middle;\n",
              "    }\n",
              "\n",
              "    .dataframe tbody tr th {\n",
              "        vertical-align: top;\n",
              "    }\n",
              "\n",
              "    .dataframe thead th {\n",
              "        text-align: right;\n",
              "    }\n",
              "</style>\n",
              "<table border=\"1\" class=\"dataframe\">\n",
              "  <thead>\n",
              "    <tr style=\"text-align: right;\">\n",
              "      <th></th>\n",
              "      <th>LOCATION</th>\n",
              "      <th>SUBJECT</th>\n",
              "      <th>MEASURE</th>\n",
              "      <th>TIME</th>\n",
              "      <th>Value</th>\n",
              "    </tr>\n",
              "  </thead>\n",
              "  <tbody>\n",
              "    <tr>\n",
              "      <th>0</th>\n",
              "      <td>AUS</td>\n",
              "      <td>BEEF</td>\n",
              "      <td>KG_CAP</td>\n",
              "      <td>1991.0</td>\n",
              "      <td>27.721815</td>\n",
              "    </tr>\n",
              "    <tr>\n",
              "      <th>1</th>\n",
              "      <td>AUS</td>\n",
              "      <td>BEEF</td>\n",
              "      <td>KG_CAP</td>\n",
              "      <td>1992.0</td>\n",
              "      <td>26.199591</td>\n",
              "    </tr>\n",
              "    <tr>\n",
              "      <th>2</th>\n",
              "      <td>AUS</td>\n",
              "      <td>BEEF</td>\n",
              "      <td>KG_CAP</td>\n",
              "      <td>1993.0</td>\n",
              "      <td>26.169094</td>\n",
              "    </tr>\n",
              "    <tr>\n",
              "      <th>3</th>\n",
              "      <td>AUS</td>\n",
              "      <td>BEEF</td>\n",
              "      <td>KG_CAP</td>\n",
              "      <td>1994.0</td>\n",
              "      <td>25.456134</td>\n",
              "    </tr>\n",
              "    <tr>\n",
              "      <th>4</th>\n",
              "      <td>AUS</td>\n",
              "      <td>BEEF</td>\n",
              "      <td>KG_CAP</td>\n",
              "      <td>1995.0</td>\n",
              "      <td>25.340226</td>\n",
              "    </tr>\n",
              "    <tr>\n",
              "      <th>...</th>\n",
              "      <td>...</td>\n",
              "      <td>...</td>\n",
              "      <td>...</td>\n",
              "      <td>...</td>\n",
              "      <td>...</td>\n",
              "    </tr>\n",
              "    <tr>\n",
              "      <th>13751</th>\n",
              "      <td>MYS</td>\n",
              "      <td>SHEEP</td>\n",
              "      <td>THND_TONNE</td>\n",
              "      <td>2018.0</td>\n",
              "      <td>41.373219</td>\n",
              "    </tr>\n",
              "    <tr>\n",
              "      <th>13752</th>\n",
              "      <td>MYS</td>\n",
              "      <td>SHEEP</td>\n",
              "      <td>THND_TONNE</td>\n",
              "      <td>2019.0</td>\n",
              "      <td>42.042755</td>\n",
              "    </tr>\n",
              "    <tr>\n",
              "      <th>13753</th>\n",
              "      <td>MYS</td>\n",
              "      <td>SHEEP</td>\n",
              "      <td>THND_TONNE</td>\n",
              "      <td>2020.0</td>\n",
              "      <td>42.695193</td>\n",
              "    </tr>\n",
              "    <tr>\n",
              "      <th>13754</th>\n",
              "      <td>MYS</td>\n",
              "      <td>SHEEP</td>\n",
              "      <td>THND_TONNE</td>\n",
              "      <td>2021.0</td>\n",
              "      <td>43.412791</td>\n",
              "    </tr>\n",
              "    <tr>\n",
              "      <th>13755</th>\n",
              "      <td>MYS</td>\n",
              "      <td>SHEEP</td>\n",
              "      <td>THND_TONNE</td>\n",
              "      <td>2022.0</td>\n",
              "      <td>44.154151</td>\n",
              "    </tr>\n",
              "  </tbody>\n",
              "</table>\n",
              "<p>12256 rows × 5 columns</p>\n",
              "</div>\n",
              "      <button class=\"colab-df-convert\" onclick=\"convertToInteractive('df-4589a00b-b569-4b2a-be51-3c0c8605e97c')\"\n",
              "              title=\"Convert this dataframe to an interactive table.\"\n",
              "              style=\"display:none;\">\n",
              "        \n",
              "  <svg xmlns=\"http://www.w3.org/2000/svg\" height=\"24px\"viewBox=\"0 0 24 24\"\n",
              "       width=\"24px\">\n",
              "    <path d=\"M0 0h24v24H0V0z\" fill=\"none\"/>\n",
              "    <path d=\"M18.56 5.44l.94 2.06.94-2.06 2.06-.94-2.06-.94-.94-2.06-.94 2.06-2.06.94zm-11 1L8.5 8.5l.94-2.06 2.06-.94-2.06-.94L8.5 2.5l-.94 2.06-2.06.94zm10 10l.94 2.06.94-2.06 2.06-.94-2.06-.94-.94-2.06-.94 2.06-2.06.94z\"/><path d=\"M17.41 7.96l-1.37-1.37c-.4-.4-.92-.59-1.43-.59-.52 0-1.04.2-1.43.59L10.3 9.45l-7.72 7.72c-.78.78-.78 2.05 0 2.83L4 21.41c.39.39.9.59 1.41.59.51 0 1.02-.2 1.41-.59l7.78-7.78 2.81-2.81c.8-.78.8-2.07 0-2.86zM5.41 20L4 18.59l7.72-7.72 1.47 1.35L5.41 20z\"/>\n",
              "  </svg>\n",
              "      </button>\n",
              "      \n",
              "  <style>\n",
              "    .colab-df-container {\n",
              "      display:flex;\n",
              "      flex-wrap:wrap;\n",
              "      gap: 12px;\n",
              "    }\n",
              "\n",
              "    .colab-df-convert {\n",
              "      background-color: #E8F0FE;\n",
              "      border: none;\n",
              "      border-radius: 50%;\n",
              "      cursor: pointer;\n",
              "      display: none;\n",
              "      fill: #1967D2;\n",
              "      height: 32px;\n",
              "      padding: 0 0 0 0;\n",
              "      width: 32px;\n",
              "    }\n",
              "\n",
              "    .colab-df-convert:hover {\n",
              "      background-color: #E2EBFA;\n",
              "      box-shadow: 0px 1px 2px rgba(60, 64, 67, 0.3), 0px 1px 3px 1px rgba(60, 64, 67, 0.15);\n",
              "      fill: #174EA6;\n",
              "    }\n",
              "\n",
              "    [theme=dark] .colab-df-convert {\n",
              "      background-color: #3B4455;\n",
              "      fill: #D2E3FC;\n",
              "    }\n",
              "\n",
              "    [theme=dark] .colab-df-convert:hover {\n",
              "      background-color: #434B5C;\n",
              "      box-shadow: 0px 1px 3px 1px rgba(0, 0, 0, 0.15);\n",
              "      filter: drop-shadow(0px 1px 2px rgba(0, 0, 0, 0.3));\n",
              "      fill: #FFFFFF;\n",
              "    }\n",
              "  </style>\n",
              "\n",
              "      <script>\n",
              "        const buttonEl =\n",
              "          document.querySelector('#df-4589a00b-b569-4b2a-be51-3c0c8605e97c button.colab-df-convert');\n",
              "        buttonEl.style.display =\n",
              "          google.colab.kernel.accessAllowed ? 'block' : 'none';\n",
              "\n",
              "        async function convertToInteractive(key) {\n",
              "          const element = document.querySelector('#df-4589a00b-b569-4b2a-be51-3c0c8605e97c');\n",
              "          const dataTable =\n",
              "            await google.colab.kernel.invokeFunction('convertToInteractive',\n",
              "                                                     [key], {});\n",
              "          if (!dataTable) return;\n",
              "\n",
              "          const docLinkHtml = 'Like what you see? Visit the ' +\n",
              "            '<a target=\"_blank\" href=https://colab.research.google.com/notebooks/data_table.ipynb>data table notebook</a>'\n",
              "            + ' to learn more about interactive tables.';\n",
              "          element.innerHTML = '';\n",
              "          dataTable['output_type'] = 'display_data';\n",
              "          await google.colab.output.renderOutput(dataTable, element);\n",
              "          const docLink = document.createElement('div');\n",
              "          docLink.innerHTML = docLinkHtml;\n",
              "          element.appendChild(docLink);\n",
              "        }\n",
              "      </script>\n",
              "    </div>\n",
              "  </div>\n",
              "  "
            ]
          },
          "metadata": {}
        }
      ],
      "source": [
        "df = pd.read_excel('df.xlsx')\n",
        "df = df.loc[df['TIME'] <= 2022]\n",
        "display(df)\n",
        "#filtrando apenas dados antes ou iguais a 2022"
      ]
    },
    {
      "cell_type": "code",
      "source": [
        "df.shape"
      ],
      "metadata": {
        "colab": {
          "base_uri": "https://localhost:8080/"
        },
        "id": "bfa2QOgQtw1f",
        "outputId": "58a1be12-977a-49b6-ae9b-720f71da5f83"
      },
      "execution_count": 3,
      "outputs": [
        {
          "output_type": "execute_result",
          "data": {
            "text/plain": [
              "(12256, 5)"
            ]
          },
          "metadata": {},
          "execution_count": 3
        }
      ]
    },
    {
      "cell_type": "code",
      "source": [
        "df.info()\n",
        "#pegando informações sobre o data frame\n"
      ],
      "metadata": {
        "colab": {
          "base_uri": "https://localhost:8080/"
        },
        "id": "CCflzhPxeY_I",
        "outputId": "cbf1d91e-1b8f-4c4a-da34-91e3a305b147"
      },
      "execution_count": 4,
      "outputs": [
        {
          "output_type": "stream",
          "name": "stdout",
          "text": [
            "<class 'pandas.core.frame.DataFrame'>\n",
            "Int64Index: 12256 entries, 0 to 13755\n",
            "Data columns (total 5 columns):\n",
            " #   Column    Non-Null Count  Dtype  \n",
            "---  ------    --------------  -----  \n",
            " 0   LOCATION  12256 non-null  object \n",
            " 1   SUBJECT   12256 non-null  object \n",
            " 2   MEASURE   12256 non-null  object \n",
            " 3   TIME      12256 non-null  float64\n",
            " 4   Value     12256 non-null  float64\n",
            "dtypes: float64(2), object(3)\n",
            "memory usage: 574.5+ KB\n"
          ]
        }
      ]
    },
    {
      "cell_type": "code",
      "source": [
        "df.columns.values\n",
        "\n",
        "#Nome de cada coluna"
      ],
      "metadata": {
        "colab": {
          "base_uri": "https://localhost:8080/"
        },
        "id": "DMM_NTiOegLe",
        "outputId": "5ace8a5d-bd44-4143-db0a-cb60faa4fba3"
      },
      "execution_count": 5,
      "outputs": [
        {
          "output_type": "execute_result",
          "data": {
            "text/plain": [
              "array(['LOCATION', 'SUBJECT', 'MEASURE', 'TIME', 'Value'], dtype=object)"
            ]
          },
          "metadata": {},
          "execution_count": 5
        }
      ]
    },
    {
      "cell_type": "code",
      "source": [
        "df.head(10)\n",
        "#mostrando os primeiros itens"
      ],
      "metadata": {
        "colab": {
          "base_uri": "https://localhost:8080/",
          "height": 363
        },
        "id": "LYhZeH_9f7Kc",
        "outputId": "b72ceb8a-64a6-4019-9cd9-09bd97f01fa4"
      },
      "execution_count": 6,
      "outputs": [
        {
          "output_type": "execute_result",
          "data": {
            "text/plain": [
              "  LOCATION SUBJECT MEASURE    TIME      Value\n",
              "0      AUS    BEEF  KG_CAP  1991.0  27.721815\n",
              "1      AUS    BEEF  KG_CAP  1992.0  26.199591\n",
              "2      AUS    BEEF  KG_CAP  1993.0  26.169094\n",
              "3      AUS    BEEF  KG_CAP  1994.0  25.456134\n",
              "4      AUS    BEEF  KG_CAP  1995.0  25.340226\n",
              "5      AUS    BEEF  KG_CAP  1996.0  27.259104\n",
              "6      AUS    BEEF  KG_CAP  1997.0  28.802913\n",
              "7      AUS    BEEF  KG_CAP  1998.0  26.590477\n",
              "8      AUS    BEEF  KG_CAP  1999.0  27.918283\n",
              "9      AUS    BEEF  KG_CAP  2000.0  26.354624"
            ],
            "text/html": [
              "\n",
              "  <div id=\"df-f92e331e-ff86-4f1b-984e-4550a836e6b0\">\n",
              "    <div class=\"colab-df-container\">\n",
              "      <div>\n",
              "<style scoped>\n",
              "    .dataframe tbody tr th:only-of-type {\n",
              "        vertical-align: middle;\n",
              "    }\n",
              "\n",
              "    .dataframe tbody tr th {\n",
              "        vertical-align: top;\n",
              "    }\n",
              "\n",
              "    .dataframe thead th {\n",
              "        text-align: right;\n",
              "    }\n",
              "</style>\n",
              "<table border=\"1\" class=\"dataframe\">\n",
              "  <thead>\n",
              "    <tr style=\"text-align: right;\">\n",
              "      <th></th>\n",
              "      <th>LOCATION</th>\n",
              "      <th>SUBJECT</th>\n",
              "      <th>MEASURE</th>\n",
              "      <th>TIME</th>\n",
              "      <th>Value</th>\n",
              "    </tr>\n",
              "  </thead>\n",
              "  <tbody>\n",
              "    <tr>\n",
              "      <th>0</th>\n",
              "      <td>AUS</td>\n",
              "      <td>BEEF</td>\n",
              "      <td>KG_CAP</td>\n",
              "      <td>1991.0</td>\n",
              "      <td>27.721815</td>\n",
              "    </tr>\n",
              "    <tr>\n",
              "      <th>1</th>\n",
              "      <td>AUS</td>\n",
              "      <td>BEEF</td>\n",
              "      <td>KG_CAP</td>\n",
              "      <td>1992.0</td>\n",
              "      <td>26.199591</td>\n",
              "    </tr>\n",
              "    <tr>\n",
              "      <th>2</th>\n",
              "      <td>AUS</td>\n",
              "      <td>BEEF</td>\n",
              "      <td>KG_CAP</td>\n",
              "      <td>1993.0</td>\n",
              "      <td>26.169094</td>\n",
              "    </tr>\n",
              "    <tr>\n",
              "      <th>3</th>\n",
              "      <td>AUS</td>\n",
              "      <td>BEEF</td>\n",
              "      <td>KG_CAP</td>\n",
              "      <td>1994.0</td>\n",
              "      <td>25.456134</td>\n",
              "    </tr>\n",
              "    <tr>\n",
              "      <th>4</th>\n",
              "      <td>AUS</td>\n",
              "      <td>BEEF</td>\n",
              "      <td>KG_CAP</td>\n",
              "      <td>1995.0</td>\n",
              "      <td>25.340226</td>\n",
              "    </tr>\n",
              "    <tr>\n",
              "      <th>5</th>\n",
              "      <td>AUS</td>\n",
              "      <td>BEEF</td>\n",
              "      <td>KG_CAP</td>\n",
              "      <td>1996.0</td>\n",
              "      <td>27.259104</td>\n",
              "    </tr>\n",
              "    <tr>\n",
              "      <th>6</th>\n",
              "      <td>AUS</td>\n",
              "      <td>BEEF</td>\n",
              "      <td>KG_CAP</td>\n",
              "      <td>1997.0</td>\n",
              "      <td>28.802913</td>\n",
              "    </tr>\n",
              "    <tr>\n",
              "      <th>7</th>\n",
              "      <td>AUS</td>\n",
              "      <td>BEEF</td>\n",
              "      <td>KG_CAP</td>\n",
              "      <td>1998.0</td>\n",
              "      <td>26.590477</td>\n",
              "    </tr>\n",
              "    <tr>\n",
              "      <th>8</th>\n",
              "      <td>AUS</td>\n",
              "      <td>BEEF</td>\n",
              "      <td>KG_CAP</td>\n",
              "      <td>1999.0</td>\n",
              "      <td>27.918283</td>\n",
              "    </tr>\n",
              "    <tr>\n",
              "      <th>9</th>\n",
              "      <td>AUS</td>\n",
              "      <td>BEEF</td>\n",
              "      <td>KG_CAP</td>\n",
              "      <td>2000.0</td>\n",
              "      <td>26.354624</td>\n",
              "    </tr>\n",
              "  </tbody>\n",
              "</table>\n",
              "</div>\n",
              "      <button class=\"colab-df-convert\" onclick=\"convertToInteractive('df-f92e331e-ff86-4f1b-984e-4550a836e6b0')\"\n",
              "              title=\"Convert this dataframe to an interactive table.\"\n",
              "              style=\"display:none;\">\n",
              "        \n",
              "  <svg xmlns=\"http://www.w3.org/2000/svg\" height=\"24px\"viewBox=\"0 0 24 24\"\n",
              "       width=\"24px\">\n",
              "    <path d=\"M0 0h24v24H0V0z\" fill=\"none\"/>\n",
              "    <path d=\"M18.56 5.44l.94 2.06.94-2.06 2.06-.94-2.06-.94-.94-2.06-.94 2.06-2.06.94zm-11 1L8.5 8.5l.94-2.06 2.06-.94-2.06-.94L8.5 2.5l-.94 2.06-2.06.94zm10 10l.94 2.06.94-2.06 2.06-.94-2.06-.94-.94-2.06-.94 2.06-2.06.94z\"/><path d=\"M17.41 7.96l-1.37-1.37c-.4-.4-.92-.59-1.43-.59-.52 0-1.04.2-1.43.59L10.3 9.45l-7.72 7.72c-.78.78-.78 2.05 0 2.83L4 21.41c.39.39.9.59 1.41.59.51 0 1.02-.2 1.41-.59l7.78-7.78 2.81-2.81c.8-.78.8-2.07 0-2.86zM5.41 20L4 18.59l7.72-7.72 1.47 1.35L5.41 20z\"/>\n",
              "  </svg>\n",
              "      </button>\n",
              "      \n",
              "  <style>\n",
              "    .colab-df-container {\n",
              "      display:flex;\n",
              "      flex-wrap:wrap;\n",
              "      gap: 12px;\n",
              "    }\n",
              "\n",
              "    .colab-df-convert {\n",
              "      background-color: #E8F0FE;\n",
              "      border: none;\n",
              "      border-radius: 50%;\n",
              "      cursor: pointer;\n",
              "      display: none;\n",
              "      fill: #1967D2;\n",
              "      height: 32px;\n",
              "      padding: 0 0 0 0;\n",
              "      width: 32px;\n",
              "    }\n",
              "\n",
              "    .colab-df-convert:hover {\n",
              "      background-color: #E2EBFA;\n",
              "      box-shadow: 0px 1px 2px rgba(60, 64, 67, 0.3), 0px 1px 3px 1px rgba(60, 64, 67, 0.15);\n",
              "      fill: #174EA6;\n",
              "    }\n",
              "\n",
              "    [theme=dark] .colab-df-convert {\n",
              "      background-color: #3B4455;\n",
              "      fill: #D2E3FC;\n",
              "    }\n",
              "\n",
              "    [theme=dark] .colab-df-convert:hover {\n",
              "      background-color: #434B5C;\n",
              "      box-shadow: 0px 1px 3px 1px rgba(0, 0, 0, 0.15);\n",
              "      filter: drop-shadow(0px 1px 2px rgba(0, 0, 0, 0.3));\n",
              "      fill: #FFFFFF;\n",
              "    }\n",
              "  </style>\n",
              "\n",
              "      <script>\n",
              "        const buttonEl =\n",
              "          document.querySelector('#df-f92e331e-ff86-4f1b-984e-4550a836e6b0 button.colab-df-convert');\n",
              "        buttonEl.style.display =\n",
              "          google.colab.kernel.accessAllowed ? 'block' : 'none';\n",
              "\n",
              "        async function convertToInteractive(key) {\n",
              "          const element = document.querySelector('#df-f92e331e-ff86-4f1b-984e-4550a836e6b0');\n",
              "          const dataTable =\n",
              "            await google.colab.kernel.invokeFunction('convertToInteractive',\n",
              "                                                     [key], {});\n",
              "          if (!dataTable) return;\n",
              "\n",
              "          const docLinkHtml = 'Like what you see? Visit the ' +\n",
              "            '<a target=\"_blank\" href=https://colab.research.google.com/notebooks/data_table.ipynb>data table notebook</a>'\n",
              "            + ' to learn more about interactive tables.';\n",
              "          element.innerHTML = '';\n",
              "          dataTable['output_type'] = 'display_data';\n",
              "          await google.colab.output.renderOutput(dataTable, element);\n",
              "          const docLink = document.createElement('div');\n",
              "          docLink.innerHTML = docLinkHtml;\n",
              "          element.appendChild(docLink);\n",
              "        }\n",
              "      </script>\n",
              "    </div>\n",
              "  </div>\n",
              "  "
            ]
          },
          "metadata": {},
          "execution_count": 6
        }
      ]
    },
    {
      "cell_type": "code",
      "source": [
        "df.tail(10)\n",
        "#mostrando os 10 ultimos itens "
      ],
      "metadata": {
        "colab": {
          "base_uri": "https://localhost:8080/",
          "height": 363
        },
        "id": "6t1kGI2FgJeQ",
        "outputId": "d7f1dda9-a6ee-46d6-8bcf-18632c5106d9"
      },
      "execution_count": 7,
      "outputs": [
        {
          "output_type": "execute_result",
          "data": {
            "text/plain": [
              "      LOCATION SUBJECT     MEASURE    TIME      Value\n",
              "13746      MYS   SHEEP  THND_TONNE  2013.0  27.000000\n",
              "13747      MYS   SHEEP  THND_TONNE  2014.0  33.000000\n",
              "13748      MYS   SHEEP  THND_TONNE  2015.0  36.000000\n",
              "13749      MYS   SHEEP  THND_TONNE  2016.0  40.000000\n",
              "13750      MYS   SHEEP  THND_TONNE  2017.0  40.612340\n",
              "13751      MYS   SHEEP  THND_TONNE  2018.0  41.373219\n",
              "13752      MYS   SHEEP  THND_TONNE  2019.0  42.042755\n",
              "13753      MYS   SHEEP  THND_TONNE  2020.0  42.695193\n",
              "13754      MYS   SHEEP  THND_TONNE  2021.0  43.412791\n",
              "13755      MYS   SHEEP  THND_TONNE  2022.0  44.154151"
            ],
            "text/html": [
              "\n",
              "  <div id=\"df-7d57e606-3edd-4075-a571-7760e6e970db\">\n",
              "    <div class=\"colab-df-container\">\n",
              "      <div>\n",
              "<style scoped>\n",
              "    .dataframe tbody tr th:only-of-type {\n",
              "        vertical-align: middle;\n",
              "    }\n",
              "\n",
              "    .dataframe tbody tr th {\n",
              "        vertical-align: top;\n",
              "    }\n",
              "\n",
              "    .dataframe thead th {\n",
              "        text-align: right;\n",
              "    }\n",
              "</style>\n",
              "<table border=\"1\" class=\"dataframe\">\n",
              "  <thead>\n",
              "    <tr style=\"text-align: right;\">\n",
              "      <th></th>\n",
              "      <th>LOCATION</th>\n",
              "      <th>SUBJECT</th>\n",
              "      <th>MEASURE</th>\n",
              "      <th>TIME</th>\n",
              "      <th>Value</th>\n",
              "    </tr>\n",
              "  </thead>\n",
              "  <tbody>\n",
              "    <tr>\n",
              "      <th>13746</th>\n",
              "      <td>MYS</td>\n",
              "      <td>SHEEP</td>\n",
              "      <td>THND_TONNE</td>\n",
              "      <td>2013.0</td>\n",
              "      <td>27.000000</td>\n",
              "    </tr>\n",
              "    <tr>\n",
              "      <th>13747</th>\n",
              "      <td>MYS</td>\n",
              "      <td>SHEEP</td>\n",
              "      <td>THND_TONNE</td>\n",
              "      <td>2014.0</td>\n",
              "      <td>33.000000</td>\n",
              "    </tr>\n",
              "    <tr>\n",
              "      <th>13748</th>\n",
              "      <td>MYS</td>\n",
              "      <td>SHEEP</td>\n",
              "      <td>THND_TONNE</td>\n",
              "      <td>2015.0</td>\n",
              "      <td>36.000000</td>\n",
              "    </tr>\n",
              "    <tr>\n",
              "      <th>13749</th>\n",
              "      <td>MYS</td>\n",
              "      <td>SHEEP</td>\n",
              "      <td>THND_TONNE</td>\n",
              "      <td>2016.0</td>\n",
              "      <td>40.000000</td>\n",
              "    </tr>\n",
              "    <tr>\n",
              "      <th>13750</th>\n",
              "      <td>MYS</td>\n",
              "      <td>SHEEP</td>\n",
              "      <td>THND_TONNE</td>\n",
              "      <td>2017.0</td>\n",
              "      <td>40.612340</td>\n",
              "    </tr>\n",
              "    <tr>\n",
              "      <th>13751</th>\n",
              "      <td>MYS</td>\n",
              "      <td>SHEEP</td>\n",
              "      <td>THND_TONNE</td>\n",
              "      <td>2018.0</td>\n",
              "      <td>41.373219</td>\n",
              "    </tr>\n",
              "    <tr>\n",
              "      <th>13752</th>\n",
              "      <td>MYS</td>\n",
              "      <td>SHEEP</td>\n",
              "      <td>THND_TONNE</td>\n",
              "      <td>2019.0</td>\n",
              "      <td>42.042755</td>\n",
              "    </tr>\n",
              "    <tr>\n",
              "      <th>13753</th>\n",
              "      <td>MYS</td>\n",
              "      <td>SHEEP</td>\n",
              "      <td>THND_TONNE</td>\n",
              "      <td>2020.0</td>\n",
              "      <td>42.695193</td>\n",
              "    </tr>\n",
              "    <tr>\n",
              "      <th>13754</th>\n",
              "      <td>MYS</td>\n",
              "      <td>SHEEP</td>\n",
              "      <td>THND_TONNE</td>\n",
              "      <td>2021.0</td>\n",
              "      <td>43.412791</td>\n",
              "    </tr>\n",
              "    <tr>\n",
              "      <th>13755</th>\n",
              "      <td>MYS</td>\n",
              "      <td>SHEEP</td>\n",
              "      <td>THND_TONNE</td>\n",
              "      <td>2022.0</td>\n",
              "      <td>44.154151</td>\n",
              "    </tr>\n",
              "  </tbody>\n",
              "</table>\n",
              "</div>\n",
              "      <button class=\"colab-df-convert\" onclick=\"convertToInteractive('df-7d57e606-3edd-4075-a571-7760e6e970db')\"\n",
              "              title=\"Convert this dataframe to an interactive table.\"\n",
              "              style=\"display:none;\">\n",
              "        \n",
              "  <svg xmlns=\"http://www.w3.org/2000/svg\" height=\"24px\"viewBox=\"0 0 24 24\"\n",
              "       width=\"24px\">\n",
              "    <path d=\"M0 0h24v24H0V0z\" fill=\"none\"/>\n",
              "    <path d=\"M18.56 5.44l.94 2.06.94-2.06 2.06-.94-2.06-.94-.94-2.06-.94 2.06-2.06.94zm-11 1L8.5 8.5l.94-2.06 2.06-.94-2.06-.94L8.5 2.5l-.94 2.06-2.06.94zm10 10l.94 2.06.94-2.06 2.06-.94-2.06-.94-.94-2.06-.94 2.06-2.06.94z\"/><path d=\"M17.41 7.96l-1.37-1.37c-.4-.4-.92-.59-1.43-.59-.52 0-1.04.2-1.43.59L10.3 9.45l-7.72 7.72c-.78.78-.78 2.05 0 2.83L4 21.41c.39.39.9.59 1.41.59.51 0 1.02-.2 1.41-.59l7.78-7.78 2.81-2.81c.8-.78.8-2.07 0-2.86zM5.41 20L4 18.59l7.72-7.72 1.47 1.35L5.41 20z\"/>\n",
              "  </svg>\n",
              "      </button>\n",
              "      \n",
              "  <style>\n",
              "    .colab-df-container {\n",
              "      display:flex;\n",
              "      flex-wrap:wrap;\n",
              "      gap: 12px;\n",
              "    }\n",
              "\n",
              "    .colab-df-convert {\n",
              "      background-color: #E8F0FE;\n",
              "      border: none;\n",
              "      border-radius: 50%;\n",
              "      cursor: pointer;\n",
              "      display: none;\n",
              "      fill: #1967D2;\n",
              "      height: 32px;\n",
              "      padding: 0 0 0 0;\n",
              "      width: 32px;\n",
              "    }\n",
              "\n",
              "    .colab-df-convert:hover {\n",
              "      background-color: #E2EBFA;\n",
              "      box-shadow: 0px 1px 2px rgba(60, 64, 67, 0.3), 0px 1px 3px 1px rgba(60, 64, 67, 0.15);\n",
              "      fill: #174EA6;\n",
              "    }\n",
              "\n",
              "    [theme=dark] .colab-df-convert {\n",
              "      background-color: #3B4455;\n",
              "      fill: #D2E3FC;\n",
              "    }\n",
              "\n",
              "    [theme=dark] .colab-df-convert:hover {\n",
              "      background-color: #434B5C;\n",
              "      box-shadow: 0px 1px 3px 1px rgba(0, 0, 0, 0.15);\n",
              "      filter: drop-shadow(0px 1px 2px rgba(0, 0, 0, 0.3));\n",
              "      fill: #FFFFFF;\n",
              "    }\n",
              "  </style>\n",
              "\n",
              "      <script>\n",
              "        const buttonEl =\n",
              "          document.querySelector('#df-7d57e606-3edd-4075-a571-7760e6e970db button.colab-df-convert');\n",
              "        buttonEl.style.display =\n",
              "          google.colab.kernel.accessAllowed ? 'block' : 'none';\n",
              "\n",
              "        async function convertToInteractive(key) {\n",
              "          const element = document.querySelector('#df-7d57e606-3edd-4075-a571-7760e6e970db');\n",
              "          const dataTable =\n",
              "            await google.colab.kernel.invokeFunction('convertToInteractive',\n",
              "                                                     [key], {});\n",
              "          if (!dataTable) return;\n",
              "\n",
              "          const docLinkHtml = 'Like what you see? Visit the ' +\n",
              "            '<a target=\"_blank\" href=https://colab.research.google.com/notebooks/data_table.ipynb>data table notebook</a>'\n",
              "            + ' to learn more about interactive tables.';\n",
              "          element.innerHTML = '';\n",
              "          dataTable['output_type'] = 'display_data';\n",
              "          await google.colab.output.renderOutput(dataTable, element);\n",
              "          const docLink = document.createElement('div');\n",
              "          docLink.innerHTML = docLinkHtml;\n",
              "          element.appendChild(docLink);\n",
              "        }\n",
              "      </script>\n",
              "    </div>\n",
              "  </div>\n",
              "  "
            ]
          },
          "metadata": {},
          "execution_count": 7
        }
      ]
    },
    {
      "cell_type": "code",
      "source": [
        "print(df['LOCATION'].unique())\n",
        "\n",
        "#Listando os países do dataframe\n",
        "\n"
      ],
      "metadata": {
        "colab": {
          "base_uri": "https://localhost:8080/"
        },
        "id": "Dj8BEjq1uBl1",
        "outputId": "c1eccaeb-aaf3-4d3a-86fd-87b762e917f4"
      },
      "execution_count": 8,
      "outputs": [
        {
          "output_type": "stream",
          "name": "stdout",
          "text": [
            "['AUS' 'CAN' 'JPN' 'KOR' 'MEX' 'NZL' 'TUR' 'USA' 'DZA' 'ARG' 'BGD' 'BRA'\n",
            " 'CHL' 'CHN' 'COL' 'EGY' 'ETH' 'GHA' 'HTI' 'IND' 'IDN' 'IRN' 'ISR' 'KAZ'\n",
            " 'MYS' 'MOZ' 'NGA' 'PAK' 'PRY' 'PER' 'PHL' 'RUS' 'SAU' 'ZAF' 'SDN' 'TZA'\n",
            " 'THA' 'UKR' 'URY' 'VNM' 'ZMB' 'WLD' 'SSA' 'OECD' 'BRICS' 'EU28' 'NOR'\n",
            " 'CHE']\n"
          ]
        }
      ]
    },
    {
      "cell_type": "code",
      "source": [
        "print(df['SUBJECT'].unique())\n",
        "#Listando os tipos de carne do dataframe\n"
      ],
      "metadata": {
        "colab": {
          "base_uri": "https://localhost:8080/"
        },
        "id": "NG65kCbuuScD",
        "outputId": "f9037465-fb57-465c-9d4f-0d15bd8808df"
      },
      "execution_count": 9,
      "outputs": [
        {
          "output_type": "stream",
          "name": "stdout",
          "text": [
            "['BEEF' 'PIG' 'POULTRY' 'SHEEP']\n"
          ]
        }
      ]
    },
    {
      "cell_type": "markdown",
      "source": [
        "## Qual o tipo de carne mais consumido mundialmente em média."
      ],
      "metadata": {
        "id": "haderfi3JW7k"
      }
    },
    {
      "cell_type": "code",
      "source": [
        "meat = df.groupby(by='SUBJECT')['Value'].sum().reset_index().sort_values('Value', ascending=False)\n",
        "meat\n",
        "\n",
        "labels = meat['SUBJECT']\n",
        "values = meat['Value']\n",
        "plt.figure(figsize=(5,5))\n",
        "plt.pie(values, labels=labels, autopct = '%1.2f%%', startangle=0,explode = (0.1, 0.04, 0.01, 0.01),)\n",
        "plt.title('  Consumo mundial de carne em porcentagens')\n",
        "plt.show()\n",
        "\n",
        "plt.figure(figsize=(5,5))\n",
        "sb.barplot(x = meat['SUBJECT'], y = meat['Value'], data=meat)\n",
        "plt.title('Consumo mundial de carne')\n",
        "plt.xticks(rotation=90)\n",
        "\n",
        "#É possível perceber que a carne de porco é a mais consumida em termos mundiais, seguida de aves, bovina e de carneiro.\n"
      ],
      "metadata": {
        "colab": {
          "base_uri": "https://localhost:8080/",
          "height": 702
        },
        "id": "CxWoFZccuvZX",
        "outputId": "ddacb99e-72c1-4b60-f011-faf692d6d228"
      },
      "execution_count": 10,
      "outputs": [
        {
          "output_type": "display_data",
          "data": {
            "text/plain": [
              "<Figure size 360x360 with 1 Axes>"
            ],
            "image/png": "[encoded data removed]"
          },
          "metadata": {}
        },
        {
          "output_type": "execute_result",
          "data": {
            "text/plain": [
              "(array([0, 1, 2, 3]), <a list of 4 Text major ticklabel objects>)"
            ]
          },
          "metadata": {},
          "execution_count": 10
        },
        {
          "output_type": "display_data",
          "data": {
            "text/plain": [
              "<Figure size 360x360 with 1 Axes>"
            ],
            "image/png": "[encoded data removed]"
          },
          "metadata": {
            "needs_background": "light"
          }
        }
      ]
    },
    {
      "cell_type": "markdown",
      "source": [
        "## Consumo de carne ao longo dos anos"
      ],
      "metadata": {
        "id": "Cen65F6eJpYh"
      }
    },
    {
      "cell_type": "code",
      "source": [
        "time = df.groupby(by=['TIME'])['Value'].sum().reset_index().sort_values('TIME', ascending=True)\n",
        "plt.figure(figsize=(7,5))\n",
        "sb.lineplot(x=time['TIME'], y = time['Value'])\n",
        "plt.show()\n",
        "\n",
        "#É possível perceber que o consumo de Carne aumentou "
      ],
      "metadata": {
        "colab": {
          "base_uri": "https://localhost:8080/",
          "height": 334
        },
        "id": "5O7o0MozvG9m",
        "outputId": "a3cc98d7-5e25-4b0b-a5a4-cb1a80d22e8a"
      },
      "execution_count": 11,
      "outputs": [
        {
          "output_type": "display_data",
          "data": {
            "text/plain": [
              "<Figure size 504x360 with 1 Axes>"
            ],
            "image/png": "[encoded data removed]"
          },
          "metadata": {
            "needs_background": "light"
          }
        }
      ]
    },
    {
      "cell_type": "code",
      "source": [
        "df['LOCATION'].value_counts()\n",
        "\n",
        "#Verificando quantos dados sobre cada país estão no dataframe"
      ],
      "metadata": {
        "colab": {
          "base_uri": "https://localhost:8080/"
        },
        "id": "6LasLmRNzzNv",
        "outputId": "8e3acd22-2a90-453e-ccd3-e25aaba52638"
      },
      "execution_count": 12,
      "outputs": [
        {
          "output_type": "execute_result",
          "data": {
            "text/plain": [
              "MYS      264\n",
              "THA      264\n",
              "IDN      264\n",
              "IRN      264\n",
              "ISR      264\n",
              "VNM      264\n",
              "CAN      264\n",
              "MOZ      264\n",
              "NGA      264\n",
              "PAK      264\n",
              "PRY      264\n",
              "PER      264\n",
              "PHL      264\n",
              "URY      264\n",
              "SAU      264\n",
              "ZAF      264\n",
              "SDN      264\n",
              "IND      264\n",
              "HTI      264\n",
              "GHA      264\n",
              "DZA      264\n",
              "JPN      264\n",
              "SSA      264\n",
              "MEX      264\n",
              "NZL      264\n",
              "TUR      264\n",
              "USA      264\n",
              "TZA      264\n",
              "ZMB      264\n",
              "BGD      264\n",
              "BRA      264\n",
              "CHL      264\n",
              "COL      264\n",
              "EGY      264\n",
              "CHN      262\n",
              "ARG      262\n",
              "AUS      260\n",
              "KOR      260\n",
              "UKR      256\n",
              "KAZ      256\n",
              "ETH      252\n",
              "RUS      246\n",
              "BRICS    246\n",
              "EU28     244\n",
              "OECD     242\n",
              "WLD      230\n",
              "NOR      132\n",
              "CHE      132\n",
              "Name: LOCATION, dtype: int64"
            ]
          },
          "metadata": {},
          "execution_count": 12
        }
      ]
    },
    {
      "cell_type": "markdown",
      "source": [
        "## Qual país em média consome mais e menos carne"
      ],
      "metadata": {
        "id": "-9-8JiagIxjv"
      }
    },
    {
      "cell_type": "code",
      "source": [
        "df.groupby(['LOCATION'])['Value'].mean().sort_values(ascending=False)\n",
        "#O país que mais consome carne em média é a China. \n"
      ],
      "metadata": {
        "colab": {
          "base_uri": "https://localhost:8080/"
        },
        "id": "RwBgqqYA3gh-",
        "outputId": "95cffd24-316e-4068-e963-2bba06c9bebf"
      },
      "execution_count": 13,
      "outputs": [
        {
          "output_type": "execute_result",
          "data": {
            "text/plain": [
              "LOCATION\n",
              "WLD      33542.506864\n",
              "BRICS    12725.248687\n",
              "OECD     12655.175333\n",
              "CHN       8468.982089\n",
              "EU28      5275.850251\n",
              "USA       4505.582662\n",
              "BRA       1972.000259\n",
              "RUS       1119.306824\n",
              "SSA        976.425796\n",
              "MEX        725.719843\n",
              "JPN        684.900803\n",
              "IND        557.637178\n",
              "ARG        521.695389\n",
              "VNM        473.039795\n",
              "CAN        383.890609\n",
              "PHL        342.560501\n",
              "IDN        330.129203\n",
              "KOR        324.799977\n",
              "ZAF        312.643463\n",
              "AUS        305.589233\n",
              "UKR        293.914306\n",
              "PAK        292.445672\n",
              "IRN        267.167162\n",
              "TUR        244.874263\n",
              "COL        243.192720\n",
              "THA        222.238246\n",
              "EGY        220.188496\n",
              "MYS        190.527732\n",
              "SAU        176.720096\n",
              "CHL        156.060216\n",
              "PER        148.890418\n",
              "NGA        138.933179\n",
              "CHE        135.517019\n",
              "KAZ        127.032176\n",
              "SDN         88.385729\n",
              "ISR         88.179534\n",
              "DZA         86.917083\n",
              "NOR         75.699419\n",
              "BGD         65.215226\n",
              "ETH         64.651227\n",
              "NZL         59.810854\n",
              "PRY         56.196200\n",
              "TZA         51.018590\n",
              "URY         50.783472\n",
              "GHA         25.346412\n",
              "ZMB         23.848151\n",
              "MOZ         23.219807\n",
              "HTI         17.983110\n",
              "Name: Value, dtype: float64"
            ]
          },
          "metadata": {},
          "execution_count": 13
        }
      ]
    },
    {
      "cell_type": "code",
      "source": [
        "df.groupby(['LOCATION'])['Value'].mean().sort_values(ascending=True)\n",
        "#O país que menos consome carne em média é o Haiti. \n"
      ],
      "metadata": {
        "colab": {
          "base_uri": "https://localhost:8080/"
        },
        "id": "vZcNqoDFJIRt",
        "outputId": "7814dc00-d615-4b75-91a2-05c849c34027"
      },
      "execution_count": 14,
      "outputs": [
        {
          "output_type": "execute_result",
          "data": {
            "text/plain": [
              "LOCATION\n",
              "HTI         17.983110\n",
              "MOZ         23.219807\n",
              "ZMB         23.848151\n",
              "GHA         25.346412\n",
              "URY         50.783472\n",
              "TZA         51.018590\n",
              "PRY         56.196200\n",
              "NZL         59.810854\n",
              "ETH         64.651227\n",
              "BGD         65.215226\n",
              "NOR         75.699419\n",
              "DZA         86.917083\n",
              "ISR         88.179534\n",
              "SDN         88.385729\n",
              "KAZ        127.032176\n",
              "CHE        135.517019\n",
              "NGA        138.933179\n",
              "PER        148.890418\n",
              "CHL        156.060216\n",
              "SAU        176.720096\n",
              "MYS        190.527732\n",
              "EGY        220.188496\n",
              "THA        222.238246\n",
              "COL        243.192720\n",
              "TUR        244.874263\n",
              "IRN        267.167162\n",
              "PAK        292.445672\n",
              "UKR        293.914306\n",
              "AUS        305.589233\n",
              "ZAF        312.643463\n",
              "KOR        324.799977\n",
              "IDN        330.129203\n",
              "PHL        342.560501\n",
              "CAN        383.890609\n",
              "VNM        473.039795\n",
              "ARG        521.695389\n",
              "IND        557.637178\n",
              "JPN        684.900803\n",
              "MEX        725.719843\n",
              "SSA        976.425796\n",
              "RUS       1119.306824\n",
              "BRA       1972.000259\n",
              "USA       4505.582662\n",
              "EU28      5275.850251\n",
              "CHN       8468.982089\n",
              "OECD     12655.175333\n",
              "BRICS    12725.248687\n",
              "WLD      33542.506864\n",
              "Name: Value, dtype: float64"
            ]
          },
          "metadata": {},
          "execution_count": 14
        }
      ]
    },
    {
      "cell_type": "code",
      "source": [
        "df_copy = df.groupby(['LOCATION','TIME'])['Value'].agg('sum').reset_index()\n",
        "fig = px.line(df_copy,x=\"TIME\", y=\"Value\",color=\"LOCATION\",title=  'Consumo de carne por ano e país')\n",
        "fig.show() \n",
        "\n",
        "\n"
      ],
      "metadata": {
        "colab": {
          "base_uri": "https://localhost:8080/",
          "height": 542
        },
        "id": "BuOFVv6O1USz",
        "outputId": "66dd71f5-a7e3-497c-920b-a035f862f58f"
      },
      "execution_count": 17,
      "outputs": [
        {
          "output_type": "display_data",
          "data": {
            "text/html": [
              "<html>\n",
              "<head><meta charset=\"utf-8\" /></head>\n",
              "<body>\n",
              "    <div>            <script src=\"https://cdnjs.cloudflare.com/ajax/libs/mathjax/2.7.5/MathJax.js?config=TeX-AMS-MML_SVG\"></script><script type=\"text/javascript\">if (window.MathJax) {MathJax.Hub.Config({SVG: {font: \"STIX-Web\"}});}</script>                <script type=\"text/javascript\">window.PlotlyConfig = {MathJaxConfig: 'local'};</script>\n",
              "        <script src=\"https://cdn.plot.ly/plotly-2.8.3.min.js\"></script>                <div id=\"1539ff70-d1c3-4ae1-8c21-18b52e314a06\" class=\"plotly-graph-div\" style=\"height:525px; width:100%;\"></div>            <script type=\"text/javascript\">                                    window.PLOTLYENV=window.PLOTLYENV || {};                                    if (document.getElementById(\"1539ff70-d1c3-4ae1-8c21-18b52e314a06\")) {                    Plotly.newPlot(                        \"1539ff70-d1c3-4ae1-8c21-18b52e314a06\",                        [{\"hovertemplate\":\"LOCATION=ARG<br>TIME=%{x}<br>Value=%{y}<extra></extra>\",\"legendgroup\":\"ARG\",\"line\":{\"color\":\"#636efa\",\"dash\":\"solid\"},\"marker\":{\"symbol\":\"circle\"},\"mode\":\"lines\",\"name\":\"ARG\",\"showlegend\":true,\"x\":[1990.0,1991.0,1992.0,1993.0,1994.0,1995.0,1996.0,1997.0,1998.0,1999.0,2000.0,2001.0,2002.0,2003.0,2004.0,2005.0,2006.0,2007.0,2008.0,2009.0,2010.0,2011.0,2012.0,2013.0,2014.0,2015.0,2016.0,2017.0,2018.0,2019.0,2020.0,2021.0,2022.0],\"xaxis\":\"x\",\"y\":[3148.4871732259408,3151.0846519472166,3365.461542470264,3581.8198746625544,3494.981027420527,3363.596416643885,3358.852211037249,3450.460678327982,3482.578353035144,3762.318844904685,3734.8356266026512,3355.9204802554696,3213.507894475121,3419.4891286728666,3676.6362372237118,3832.465949188258,4039.098542055717,4385.013252580979,4483.574584697134,4585.7996604115315,4364.128182914408,4380.9985056454525,4490.372352923791,4763.013063802226,4677.553372597585,5017.275804236989,4926.607941700364,5144.3976914236355,5167.834867884883,5173.538753369629,5210.234090805235,5246.74505005773,5235.510215850677],\"yaxis\":\"y\",\"type\":\"scattergl\"},{\"hovertemplate\":\"LOCATION=AUS<br>TIME=%{x}<br>Value=%{y}<extra></extra>\",\"legendgroup\":\"AUS\",\"line\":{\"color\":\"#EF553B\",\"dash\":\"solid\"},\"marker\":{\"symbol\":\"circle\"},\"mode\":\"lines\",\"name\":\"AUS\",\"showlegend\":true,\"x\":[1990.0,1991.0,1992.0,1993.0,1994.0,1995.0,1996.0,1997.0,1998.0,1999.0,2000.0,2001.0,2002.0,2003.0,2004.0,2005.0,2006.0,2007.0,2008.0,2009.0,2010.0,2011.0,2012.0,2013.0,2014.0,2015.0,2016.0,2017.0,2018.0,2019.0,2020.0,2021.0,2022.0],\"xaxis\":\"x\",\"y\":[829.98702975482,1902.876340783425,1872.9129614183873,1901.5218812733333,1957.2911715144378,1890.5205656922535,1939.2572491622748,2040.597047430609,2063.3153823516773,2120.3201785830115,2165.995205746628,2092.529493912117,2198.5545508271125,2217.766979168491,2364.329759522945,2407.6108449292706,2468.589212787502,2467.923470670403,2399.141426359016,2455.887414035656,2639.4856655846515,2624.959541533154,2705.474369757686,2769.4848785738473,2771.0671437837104,2811.7325908737926,2939.4885229821793,2968.8788107078008,3014.761472528927,3053.1810508613944,3098.048762232598,3133.369848438948,3166.339841319512],\"yaxis\":\"y\",\"type\":\"scattergl\"},{\"hovertemplate\":\"LOCATION=BGD<br>TIME=%{x}<br>Value=%{y}<extra></extra>\",\"legendgroup\":\"BGD\",\"line\":{\"color\":\"#00cc96\",\"dash\":\"solid\"},\"marker\":{\"symbol\":\"circle\"},\"mode\":\"lines\",\"name\":\"BGD\",\"showlegend\":true,\"x\":[1990.0,1991.0,1992.0,1993.0,1994.0,1995.0,1996.0,1997.0,1998.0,1999.0,2000.0,2001.0,2002.0,2003.0,2004.0,2005.0,2006.0,2007.0,2008.0,2009.0,2010.0,2011.0,2012.0,2013.0,2014.0,2015.0,2016.0,2017.0,2018.0,2019.0,2020.0,2021.0,2022.0],\"xaxis\":\"x\",\"y\":[301.2381824947119,309.25260857898763,321.2942236814087,337.3655211656978,350.4091240150445,363.4530625604054,395.6264858527156,421.73771902439677,407.5908893844475,418.60024354386576,422.5741162448246,425.5431464347612,439.58251712425874,472.7452530845763,494.83642428353494,513.9094871061914,537.0096340310236,555.0792344662077,565.1016914114301,582.1660778641152,597.2150380433498,615.2749380984496,623.283541243126,631.2874955123975,635.2688114566031,644.2757070924877,649.2642067703614,661.3084942873542,672.0679233330471,685.59727086276,702.947598886115,721.8172501052201,742.0956624262459],\"yaxis\":\"y\",\"type\":\"scattergl\"},{\"hovertemplate\":\"LOCATION=BRA<br>TIME=%{x}<br>Value=%{y}<extra></extra>\",\"legendgroup\":\"BRA\",\"line\":{\"color\":\"#ab63fa\",\"dash\":\"solid\"},\"marker\":{\"symbol\":\"circle\"},\"mode\":\"lines\",\"name\":\"BRA\",\"showlegend\":true,\"x\":[1990.0,1991.0,1992.0,1993.0,1994.0,1995.0,1996.0,1997.0,1998.0,1999.0,2000.0,2001.0,2002.0,2003.0,2004.0,2005.0,2006.0,2007.0,2008.0,2009.0,2010.0,2011.0,2012.0,2013.0,2014.0,2015.0,2016.0,2017.0,2018.0,2019.0,2020.0,2021.0,2022.0],\"xaxis\":\"x\",\"y\":[7390.033967446921,7784.172231559274,7980.250840738687,8350.218157691317,9233.578985695165,10571.47827162439,11184.612991756087,11394.595887042638,11798.73611726824,12417.385693953627,13868.789808648868,14266.192723100761,14928.226037794608,14634.549121990167,14914.672418192375,15334.848286771705,15796.037900492935,16896.626476010966,17591.025605113897,18089.345565463813,18844.471203921687,19364.75391968822,19417.42720004499,19530.20592875642,19939.589097230808,20059.626527312706,20380.153302524395,20945.620720879502,21162.671598672958,21361.647302907928,21522.045583345294,21711.256287254473,21943.22264122591],\"yaxis\":\"y\",\"type\":\"scattergl\"},{\"hovertemplate\":\"LOCATION=BRICS<br>TIME=%{x}<br>Value=%{y}<extra></extra>\",\"legendgroup\":\"BRICS\",\"line\":{\"color\":\"#FFA15A\",\"dash\":\"solid\"},\"marker\":{\"symbol\":\"circle\"},\"mode\":\"lines\",\"name\":\"BRICS\",\"showlegend\":true,\"x\":[1992.0,1993.0,1994.0,1995.0,1996.0,1997.0,1998.0,1999.0,2000.0,2001.0,2002.0,2003.0,2004.0,2005.0,2006.0,2007.0,2008.0,2009.0,2010.0,2011.0,2012.0,2013.0,2014.0,2015.0,2016.0,2017.0,2018.0,2019.0,2020.0,2021.0,2022.0],\"xaxis\":\"x\",\"y\":[25087.79979779107,59856.27380279507,65669.83046677397,70229.89491685979,69072.13811022718,76570.55513822741,80793.12664901646,81745.63230232948,85751.06841135478,88596.01692130962,92469.56946731325,91069.17808005483,92668.41540341446,97201.04681277904,100097.5085571225,100545.36772663452,107444.92151357794,111109.57910848544,114868.38404520287,114683.17574679542,119554.23248346872,122322.15393854202,124023.83383123636,124354.73728175391,125523.9588772972,127132.07070876668,128887.73807878606,130824.12674776287,132507.6805177772,134083.41528693875,135667.74616425845],\"yaxis\":\"y\",\"type\":\"scattergl\"},{\"hovertemplate\":\"LOCATION=CAN<br>TIME=%{x}<br>Value=%{y}<extra></extra>\",\"legendgroup\":\"CAN\",\"line\":{\"color\":\"#19d3f3\",\"dash\":\"solid\"},\"marker\":{\"symbol\":\"circle\"},\"mode\":\"lines\",\"name\":\"CAN\",\"showlegend\":true,\"x\":[1990.0,1991.0,1992.0,1993.0,1994.0,1995.0,1996.0,1997.0,1998.0,1999.0,2000.0,2001.0,2002.0,2003.0,2004.0,2005.0,2006.0,2007.0,2008.0,2009.0,2010.0,2011.0,2012.0,2013.0,2014.0,2015.0,2016.0,2017.0,2018.0,2019.0,2020.0,2021.0,2022.0],\"xaxis\":\"x\",\"y\":[2618.9513813312333,2620.446666462406,2698.909627004361,2682.471312712877,2806.9048611226317,2812.1863182749858,2765.865080632565,2791.5993023322058,2952.4497499020554,3083.852054592922,3104.2827677837067,3144.2901673254496,3145.574798946006,3151.01942746304,3195.8197650906964,3083.473116131719,3132.5896084749447,3248.926078677635,3215.5837723163895,3171.8488047169926,3124.08029796076,3066.8702521015525,3121.053577917286,3105.0476578965713,3085.9040360652693,3173.1362039301976,3232.839563973113,3264.186292621228,3252.9648149063187,3355.0946483305775,3380.6829579915407,3382.94330977337,3375.272492908416],\"yaxis\":\"y\",\"type\":\"scattergl\"},{\"hovertemplate\":\"LOCATION=CHE<br>TIME=%{x}<br>Value=%{y}<extra></extra>\",\"legendgroup\":\"CHE\",\"line\":{\"color\":\"#FF6692\",\"dash\":\"solid\"},\"marker\":{\"symbol\":\"circle\"},\"mode\":\"lines\",\"name\":\"CHE\",\"showlegend\":true,\"x\":[1990.0,1991.0,1992.0,1993.0,1994.0,1995.0,1996.0,1997.0,1998.0,1999.0,2000.0,2001.0,2002.0,2003.0,2004.0,2005.0,2006.0,2007.0,2008.0,2009.0,2010.0,2011.0,2012.0,2013.0,2014.0,2015.0,2016.0,2017.0,2018.0,2019.0,2020.0,2021.0,2022.0],\"xaxis\":\"x\",\"y\":[531.999730103764,537.999640184893,532.999640173847,522.999640049787,498.999730654941,505.99964059015804,493.999640247643,492.99964054453403,506.99964026212604,499.242819288781,496.155640027481,501.399729374738,508.837820081023,513.19373,512.5816392370609,516.692731633354,522.879551617598,535.676551708657,551.291731491724,550.594069210614,570.1941971261881,574.5837137721351,561.526532366659,568.290171909218,584.9032823405839,579.756647106554,575.80520710141,581.866763428432,584.594537384,588.393779595111,591.673846056223,594.9364819173339,598.178332728445],\"yaxis\":\"y\",\"type\":\"scattergl\"},{\"hovertemplate\":\"LOCATION=CHL<br>TIME=%{x}<br>Value=%{y}<extra></extra>\",\"legendgroup\":\"CHL\",\"line\":{\"color\":\"#B6E880\",\"dash\":\"solid\"},\"marker\":{\"symbol\":\"circle\"},\"mode\":\"lines\",\"name\":\"CHL\",\"showlegend\":true,\"x\":[1990.0,1991.0,1992.0,1993.0,1994.0,1995.0,1996.0,1997.0,1998.0,1999.0,2000.0,2001.0,2002.0,2003.0,2004.0,2005.0,2006.0,2007.0,2008.0,2009.0,2010.0,2011.0,2012.0,2013.0,2014.0,2015.0,2016.0,2017.0,2018.0,2019.0,2020.0,2021.0,2022.0],\"xaxis\":\"x\",\"y\":[523.8710315648494,538.3738603644587,617.776222657602,705.0341222816699,769.9694023448669,863.400905594551,911.292237715702,958.9883904901099,995.4902093531942,1004.4630015109175,1065.0415001449282,1077.2463625815676,1082.723301735978,1126.1385582420544,1170.865851574047,1200.5660883032845,1294.8892162216448,1363.338334538077,1353.1509227954364,1319.8967555478444,1391.5152438576436,1447.7380926220155,1497.1611967491044,1588.162025349585,1566.4730403402646,1568.1780235465876,1690.6154170699624,1716.3532960662733,1724.1689428974278,1740.452808441616,1756.844951936875,1774.9488596932888,1794.7687981720792],\"yaxis\":\"y\",\"type\":\"scattergl\"},{\"hovertemplate\":\"LOCATION=CHN<br>TIME=%{x}<br>Value=%{y}<extra></extra>\",\"legendgroup\":\"CHN\",\"line\":{\"color\":\"#FF97FF\",\"dash\":\"solid\"},\"marker\":{\"symbol\":\"circle\"},\"mode\":\"lines\",\"name\":\"CHN\",\"showlegend\":true,\"x\":[1990.0,1991.0,1992.0,1993.0,1994.0,1995.0,1996.0,1997.0,1998.0,1999.0,2000.0,2001.0,2002.0,2003.0,2004.0,2005.0,2006.0,2007.0,2008.0,2009.0,2010.0,2011.0,2012.0,2013.0,2014.0,2015.0,2016.0,2017.0,2018.0,2019.0,2020.0,2021.0,2022.0],\"xaxis\":\"x\",\"y\":[24726.710725384535,30689.15679954591,33733.09328199695,37669.05142568861,42817.0165150075,46678.141500220794,45349.97070576272,52306.98818074972,56650.53187212222,57923.75162149244,60632.46018174877,61875.384136430934,64259.41923738492,63206.42713891882,64293.868248994346,67516.45752600794,69338.56357389141,67558.96026669003,72359.6360813466,75537.29188846517,78459.7697432526,77454.16566429462,81609.18294398504,84747.23185694213,86181.57733938075,86090.87593531786,86468.52486561156,87115.13362650908,88429.15007489153,89934.78143906865,91257.23285827591,92436.27039929279,93566.52966815913],\"yaxis\":\"y\",\"type\":\"scattergl\"},{\"hovertemplate\":\"LOCATION=COL<br>TIME=%{x}<br>Value=%{y}<extra></extra>\",\"legendgroup\":\"COL\",\"line\":{\"color\":\"#FECB52\",\"dash\":\"solid\"},\"marker\":{\"symbol\":\"circle\"},\"mode\":\"lines\",\"name\":\"COL\",\"showlegend\":true,\"x\":[1990.0,1991.0,1992.0,1993.0,1994.0,1995.0,1996.0,1997.0,1998.0,1999.0,2000.0,2001.0,2002.0,2003.0,2004.0,2005.0,2006.0,2007.0,2008.0,2009.0,2010.0,2011.0,2012.0,2013.0,2014.0,2015.0,2016.0,2017.0,2018.0,2019.0,2020.0,2021.0,2022.0],\"xaxis\":\"x\",\"y\":[1206.0507546198655,1235.604408139699,1176.1308541261938,1230.934952094437,1336.7452955364963,1454.7457559669656,1394.8035924165233,1373.8254367077486,1417.458284969743,1389.601686419242,1433.0315087927024,1475.770926331049,1512.218660946217,1517.0597786827004,1610.2850696186888,1757.5310112083362,1888.586749077351,1971.8523312296547,2043.8895417229562,2002.9205174884423,2109.2724067415684,2229.886974763206,2340.357078834889,2498.9472117570817,2613.51704355115,2680.3412325026384,2658.679511756288,2694.187613096244,2721.6174986556716,2753.3629245748966,2788.684943223949,2824.908555298265,2860.0679964946826],\"yaxis\":\"y\",\"type\":\"scattergl\"},{\"hovertemplate\":\"LOCATION=DZA<br>TIME=%{x}<br>Value=%{y}<extra></extra>\",\"legendgroup\":\"DZA\",\"line\":{\"color\":\"#636efa\",\"dash\":\"solid\"},\"marker\":{\"symbol\":\"circle\"},\"mode\":\"lines\",\"name\":\"DZA\",\"showlegend\":true,\"x\":[1990.0,1991.0,1992.0,1993.0,1994.0,1995.0,1996.0,1997.0,1998.0,1999.0,2000.0,2001.0,2002.0,2003.0,2004.0,2005.0,2006.0,2007.0,2008.0,2009.0,2010.0,2011.0,2012.0,2013.0,2014.0,2015.0,2016.0,2017.0,2018.0,2019.0,2020.0,2021.0,2022.0],\"xaxis\":\"x\",\"y\":[454.2086633560201,471.37433061638274,492.68971616854765,518.116256471789,536.2788889080852,534.9804700338705,552.2734408999913,530.4962546490666,574.457753071509,572.1027658284728,590.3798495750659,548.2391719995239,591.0082571672306,628.6925984314192,705.2330258321698,722.4276156377816,686.4050664116887,692.3189682321245,677.7283346154929,713.244376343682,718.1354594940193,756.8057797545723,819.7609541598256,835.7917956619863,855.8510841203637,849.4429216376934,851.2023196977409,872.902856325816,886.0819304896684,900.5798379682521,916.1756486088925,935.5531114617862,955.1704573569095],\"yaxis\":\"y\",\"type\":\"scattergl\"},{\"hovertemplate\":\"LOCATION=EGY<br>TIME=%{x}<br>Value=%{y}<extra></extra>\",\"legendgroup\":\"EGY\",\"line\":{\"color\":\"#EF553B\",\"dash\":\"solid\"},\"marker\":{\"symbol\":\"circle\"},\"mode\":\"lines\",\"name\":\"EGY\",\"showlegend\":true,\"x\":[1990.0,1991.0,1992.0,1993.0,1994.0,1995.0,1996.0,1997.0,1998.0,1999.0,2000.0,2001.0,2002.0,2003.0,2004.0,2005.0,2006.0,2007.0,2008.0,2009.0,2010.0,2011.0,2012.0,2013.0,2014.0,2015.0,2016.0,2017.0,2018.0,2019.0,2020.0,2021.0,2022.0],\"xaxis\":\"x\",\"y\":[769.5533477063695,857.4474249620773,876.4870467780975,956.2282470810637,1017.7955530059398,1057.1417662629958,1103.4534401184483,1291.5652334653755,1308.4623685371776,1381.040438139445,1448.4794270570383,1264.4218494409838,1337.8966184831172,1391.167833187054,1470.616866498442,1581.426276705276,1833.631966289034,1999.0640858044158,1899.743640482718,2040.7848299976977,2170.5887325347976,2168.246186698442,2362.7177265240034,2220.9137328764346,2288.9808728922535,2363.1319927158347,2393.9656106529233,2439.572912369841,2479.14963921485,2520.30618063678,2571.639337859,2611.408386723173,2652.7334001147315],\"yaxis\":\"y\",\"type\":\"scattergl\"},{\"hovertemplate\":\"LOCATION=ETH<br>TIME=%{x}<br>Value=%{y}<extra></extra>\",\"legendgroup\":\"ETH\",\"line\":{\"color\":\"#00cc96\",\"dash\":\"solid\"},\"marker\":{\"symbol\":\"circle\"},\"mode\":\"lines\",\"name\":\"ETH\",\"showlegend\":true,\"x\":[1990.0,1991.0,1992.0,1993.0,1994.0,1995.0,1996.0,1997.0,1998.0,1999.0,2000.0,2001.0,2002.0,2003.0,2004.0,2005.0,2006.0,2007.0,2008.0,2009.0,2010.0,2011.0,2012.0,2013.0,2014.0,2015.0,2016.0,2017.0,2018.0,2019.0,2020.0,2021.0,2022.0],\"xaxis\":\"x\",\"y\":[328.0,329.0,327.0,332.6213448012395,332.46370839272544,336.363593416383,368.606915010577,370.4894952249231,378.4603918119466,393.4929400639751,398.4202902913147,425.61537584257366,491.1742285289476,479.92818879535633,491.93752463695677,509.9759536907361,554.2784201520835,561.238344424051,574.2012762216866,555.9328211146033,627.3875085496747,609.0915492879376,547.5229908578052,557.4952128510675,566.4489031570442,574.3945739417401,560.1832726627235,579.138354712059,587.3903019599292,600.0840260521425,618.6979115042519,645.5653378887146,679.5084524058602],\"yaxis\":\"y\",\"type\":\"scattergl\"},{\"hovertemplate\":\"LOCATION=EU28<br>TIME=%{x}<br>Value=%{y}<extra></extra>\",\"legendgroup\":\"EU28\",\"line\":{\"color\":\"#ab63fa\",\"dash\":\"solid\"},\"marker\":{\"symbol\":\"circle\"},\"mode\":\"lines\",\"name\":\"EU28\",\"showlegend\":true,\"x\":[1990.0,1991.0,1992.0,1993.0,1994.0,1995.0,1996.0,1997.0,1998.0,1999.0,2000.0,2001.0,2002.0,2003.0,2004.0,2005.0,2006.0,2007.0,2008.0,2009.0,2010.0,2011.0,2012.0,2013.0,2014.0,2015.0,2016.0,2017.0,2018.0,2019.0,2020.0,2021.0,2022.0],\"xaxis\":\"x\",\"y\":[29746.06977518009,29510.762337170687,29751.740301713013,29865.922258934836,30441.87692447749,30698.3348127032,31098.800329368238,31201.61652955707,33006.58514496133,32131.77845304826,40789.06814429858,41366.41545494128,42437.235927679685,41880.25422380825,41733.66384472804,42042.840976890504,41882.52203516592,42996.335599322934,42337.84576292912,41757.32401069421,42254.15429144654,42181.24722091467,41604.95037762601,41102.86789664905,42125.28724354869,43439.49358846026,43825.51354495541,44156.773781977594,43853.19286625695,43854.00727444682,44126.099013406834,44103.95395483038,44002.927388218726],\"yaxis\":\"y\",\"type\":\"scattergl\"},{\"hovertemplate\":\"LOCATION=GHA<br>TIME=%{x}<br>Value=%{y}<extra></extra>\",\"legendgroup\":\"GHA\",\"line\":{\"color\":\"#FFA15A\",\"dash\":\"solid\"},\"marker\":{\"symbol\":\"circle\"},\"mode\":\"lines\",\"name\":\"GHA\",\"showlegend\":true,\"x\":[1990.0,1991.0,1992.0,1993.0,1994.0,1995.0,1996.0,1997.0,1998.0,1999.0,2000.0,2001.0,2002.0,2003.0,2004.0,2005.0,2006.0,2007.0,2008.0,2009.0,2010.0,2011.0,2012.0,2013.0,2014.0,2015.0,2016.0,2017.0,2018.0,2019.0,2020.0,2021.0,2022.0],\"xaxis\":\"x\",\"y\":[70.60945184184584,93.56964622136658,91.34216913259388,80.74923619685123,79.6292775595587,81.64775589031436,78.48414399963656,80.5199202212131,78.3646817493006,97.10129658629612,101.20717354962738,94.85512444412194,115.62498319703985,144.70094654623892,136.284904529596,149.64575813097167,174.37484972820107,231.22974391025585,232.0775500174771,217.45324537092483,253.5386259326014,295.7575064684999,321.3795093749902,350.04629453039865,304.406195635131,295.8887624138587,309.0955853343407,323.41115125033417,337.817829464523,351.195213734861,362.3532974511025,372.8285813649215,384.2622386380207],\"yaxis\":\"y\",\"type\":\"scattergl\"},{\"hovertemplate\":\"LOCATION=HTI<br>TIME=%{x}<br>Value=%{y}<extra></extra>\",\"legendgroup\":\"HTI\",\"line\":{\"color\":\"#19d3f3\",\"dash\":\"solid\"},\"marker\":{\"symbol\":\"circle\"},\"mode\":\"lines\",\"name\":\"HTI\",\"showlegend\":true,\"x\":[1990.0,1991.0,1992.0,1993.0,1994.0,1995.0,1996.0,1997.0,1998.0,1999.0,2000.0,2001.0,2002.0,2003.0,2004.0,2005.0,2006.0,2007.0,2008.0,2009.0,2010.0,2011.0,2012.0,2013.0,2014.0,2015.0,2016.0,2017.0,2018.0,2019.0,2020.0,2021.0,2022.0],\"xaxis\":\"x\",\"y\":[54.26780595881815,56.35384674855282,60.650489984391434,64.93570318828262,71.54861099348395,81.41961761219262,81.19347690994344,88.81069903044273,104.07430907382471,119.39217552710484,111.2944369063772,117.69104613600597,130.66698057894178,138.1624051975367,122.66972907651785,136.67425494499327,135.4065261842312,142.8779360800924,139.4398395487747,153.42804946741836,177.19650146705573,188.8887656741473,190.81886958964236,188.46147393648891,188.23870628441273,202.14424515944717,203.0466087828638,207.40046144535884,210.16906253057164,213.73192491131107,217.7834376187891,222.16828761026895,226.53483794988946],\"yaxis\":\"y\",\"type\":\"scattergl\"},{\"hovertemplate\":\"LOCATION=IDN<br>TIME=%{x}<br>Value=%{y}<extra></extra>\",\"legendgroup\":\"IDN\",\"line\":{\"color\":\"#FF6692\",\"dash\":\"solid\"},\"marker\":{\"symbol\":\"circle\"},\"mode\":\"lines\",\"name\":\"IDN\",\"showlegend\":true,\"x\":[1990.0,1991.0,1992.0,1993.0,1994.0,1995.0,1996.0,1997.0,1998.0,1999.0,2000.0,2001.0,2002.0,2003.0,2004.0,2005.0,2006.0,2007.0,2008.0,2009.0,2010.0,2011.0,2012.0,2013.0,2014.0,2015.0,2016.0,2017.0,2018.0,2019.0,2020.0,2021.0,2022.0],\"xaxis\":\"x\",\"y\":[1457.4330933489684,1573.8517822574731,1587.7650500287332,1844.762847858461,1977.2296624763826,1921.923522723263,2075.422090486104,2082.301346018328,1731.724162977746,1644.3137185584178,1876.2044856862585,2019.6928565066733,2108.955592950221,2197.1778909832365,2336.5517619337534,2255.157001821399,2504.9502066569726,2507.8734745110382,2639.186832622956,2753.4523657270365,2977.0795018879976,3145.530200677469,3210.629909910927,3391.0765274470778,3458.1393466454037,3521.2306922610483,3556.2084107404567,3617.0180326504155,3691.6999354552427,3759.6907839043283,3833.5365280799333,3909.5330231227485,3986.806965753425],\"yaxis\":\"y\",\"type\":\"scattergl\"},{\"hovertemplate\":\"LOCATION=IND<br>TIME=%{x}<br>Value=%{y}<extra></extra>\",\"legendgroup\":\"IND\",\"line\":{\"color\":\"#B6E880\",\"dash\":\"solid\"},\"marker\":{\"symbol\":\"circle\"},\"mode\":\"lines\",\"name\":\"IND\",\"showlegend\":true,\"x\":[1990.0,1991.0,1992.0,1993.0,1994.0,1995.0,1996.0,1997.0,1998.0,1999.0,2000.0,2001.0,2002.0,2003.0,2004.0,2005.0,2006.0,2007.0,2008.0,2009.0,2010.0,2011.0,2012.0,2013.0,2014.0,2015.0,2016.0,2017.0,2018.0,2019.0,2020.0,2021.0,2022.0],\"xaxis\":\"x\",\"y\":[3462.02485023635,3623.120131371725,3698.122736527898,3764.1264209744504,3781.0827997256665,3794.042453431097,3936.0998975452053,3849.9772586112335,3955.0091413256578,4023.0143289322386,4005.966687084572,4128.007216638893,4267.076963771874,4264.038264547102,4336.049625949069,4344.02181314587,4487.088164642911,4768.2473736244465,4891.288072899783,5110.389540768915,4997.299805682274,4712.100110120196,4611.009299759691,4266.788016315892,4301.797700818839,4678.980663196023,4917.098608742789,5066.876609058531,5200.788802083155,5315.64745905746,5430.484790944129,5553.142367561614,5675.407133593353],\"yaxis\":\"y\",\"type\":\"scattergl\"},{\"hovertemplate\":\"LOCATION=IRN<br>TIME=%{x}<br>Value=%{y}<extra></extra>\",\"legendgroup\":\"IRN\",\"line\":{\"color\":\"#FF97FF\",\"dash\":\"solid\"},\"marker\":{\"symbol\":\"circle\"},\"mode\":\"lines\",\"name\":\"IRN\",\"showlegend\":true,\"x\":[1990.0,1991.0,1992.0,1993.0,1994.0,1995.0,1996.0,1997.0,1998.0,1999.0,2000.0,2001.0,2002.0,2003.0,2004.0,2005.0,2006.0,2007.0,2008.0,2009.0,2010.0,2011.0,2012.0,2013.0,2014.0,2015.0,2016.0,2017.0,2018.0,2019.0,2020.0,2021.0,2022.0],\"xaxis\":\"x\",\"y\":[1110.0309408969329,1154.5634088044135,1282.249500721812,1364.1305863012562,1353.7882552683495,1369.7879847217469,1498.0820953263405,1552.4803102124142,1596.7002066560588,1500.2099256693296,1597.2573239372205,1689.0858899567147,1734.4460467322947,1911.2906892215356,2032.4258320658246,2086.8863893617417,2233.2293227386426,2360.418334429863,2294.5320321364943,2657.5830271530813,2610.4596730087806,2690.06407235962,2664.5529050653004,2607.585573289254,2673.920290244578,2741.376167799732,2788.4759423396445,2773.7937113657094,2820.2766650441827,2867.680669291605,2915.6382880381016,2969.825295616294,3029.303496877653],\"yaxis\":\"y\",\"type\":\"scattergl\"},{\"hovertemplate\":\"LOCATION=ISR<br>TIME=%{x}<br>Value=%{y}<extra></extra>\",\"legendgroup\":\"ISR\",\"line\":{\"color\":\"#FECB52\",\"dash\":\"solid\"},\"marker\":{\"symbol\":\"circle\"},\"mode\":\"lines\",\"name\":\"ISR\",\"showlegend\":true,\"x\":[1990.0,1991.0,1992.0,1993.0,1994.0,1995.0,1996.0,1997.0,1998.0,1999.0,2000.0,2001.0,2002.0,2003.0,2004.0,2005.0,2006.0,2007.0,2008.0,2009.0,2010.0,2011.0,2012.0,2013.0,2014.0,2015.0,2016.0,2017.0,2018.0,2019.0,2020.0,2021.0,2022.0],\"xaxis\":\"x\",\"y\":[302.1154615528232,338.038435022406,345.05076368114703,371.20469748177266,426.94769457193206,414.87419958661724,437.2598432328274,450.505501707794,452.7190590194649,460.74168174550096,647.7633590578861,683.1111977526843,714.0002435811558,717.9884927158323,737.9437098631386,750.1288493688368,837.2974992745942,824.2012958114427,872.7016116868086,827.0176787425513,857.3029741104554,876.6337975468477,908.5748410230151,871.1996643565597,869.9020893055967,877.4529689832888,878.390993669789,890.9208874127147,903.2283879566604,915.0860091010148,927.1064217681742,939.557122418905,952.4296215735429],\"yaxis\":\"y\",\"type\":\"scattergl\"},{\"hovertemplate\":\"LOCATION=JPN<br>TIME=%{x}<br>Value=%{y}<extra></extra>\",\"legendgroup\":\"JPN\",\"line\":{\"color\":\"#636efa\",\"dash\":\"solid\"},\"marker\":{\"symbol\":\"circle\"},\"mode\":\"lines\",\"name\":\"JPN\",\"showlegend\":true,\"x\":[1990.0,1991.0,1992.0,1993.0,1994.0,1995.0,1996.0,1997.0,1998.0,1999.0,2000.0,2001.0,2002.0,2003.0,2004.0,2005.0,2006.0,2007.0,2008.0,2009.0,2010.0,2011.0,2012.0,2013.0,2014.0,2015.0,2016.0,2017.0,2018.0,2019.0,2020.0,2021.0,2022.0],\"xaxis\":\"x\",\"y\":[5061.510888124655,5046.333099816364,5164.079813336173,5224.342921413932,5368.157062802689,5505.539161408542,5548.068858089919,5374.140540208255,5359.12696697872,5409.046813709482,5574.024972768993,5335.826558380659,5454.648856180571,5389.5469774162675,5427.527265275821,5346.952822766743,5259.358599707079,5308.637740339027,5365.821269342667,5375.505440289377,5493.73853823194,5488.868626337677,5582.689205654525,5559.929026196071,5634.612249265548,5703.208830383004,5754.53388841032,5783.948768146138,5800.1319682838985,5793.240794130901,5783.604440132481,5771.623721705472,5765.485374118916],\"yaxis\":\"y\",\"type\":\"scattergl\"},{\"hovertemplate\":\"LOCATION=KAZ<br>TIME=%{x}<br>Value=%{y}<extra></extra>\",\"legendgroup\":\"KAZ\",\"line\":{\"color\":\"#EF553B\",\"dash\":\"solid\"},\"marker\":{\"symbol\":\"circle\"},\"mode\":\"lines\",\"name\":\"KAZ\",\"showlegend\":true,\"x\":[1990.0,1991.0,1992.0,1993.0,1994.0,1995.0,1996.0,1997.0,1998.0,1999.0,2000.0,2001.0,2002.0,2003.0,2004.0,2005.0,2006.0,2007.0,2008.0,2009.0,2010.0,2011.0,2012.0,2013.0,2014.0,2015.0,2016.0,2017.0,2018.0,2019.0,2020.0,2021.0,2022.0],\"xaxis\":\"x\",\"y\":[1475.0,1453.0,1243.7767178754461,1284.8487244810303,1143.7668365021132,913.6729719055301,803.202946639439,683.2559995861797,631.099079033543,609.1646940004608,626.4183323003563,672.9523469178112,713.9279058178978,738.8074206767542,815.2298654350232,888.4767421165888,995.4291277293507,1035.7571119195898,1065.5992390033407,1045.172608886868,1078.3531208500965,1078.946769753617,1009.443142271836,1011.7333409358725,1032.986017423821,1043.844804862121,1035.866890539434,1042.589204360389,1043.3055508195766,1051.2271215404594,1064.1148453952292,1084.2376145049698,1105.0299596971518],\"yaxis\":\"y\",\"type\":\"scattergl\"},{\"hovertemplate\":\"LOCATION=KOR<br>TIME=%{x}<br>Value=%{y}<extra></extra>\",\"legendgroup\":\"KOR\",\"line\":{\"color\":\"#00cc96\",\"dash\":\"solid\"},\"marker\":{\"symbol\":\"circle\"},\"mode\":\"lines\",\"name\":\"KOR\",\"showlegend\":true,\"x\":[1990.0,1991.0,1992.0,1993.0,1994.0,1995.0,1996.0,1997.0,1998.0,1999.0,2000.0,2001.0,2002.0,2003.0,2004.0,2005.0,2006.0,2007.0,2008.0,2009.0,2010.0,2011.0,2012.0,2013.0,2014.0,2015.0,2016.0,2017.0,2018.0,2019.0,2020.0,2021.0,2022.0],\"xaxis\":\"x\",\"y\":[287.7432939598986,1228.663226018436,1520.7961524118903,1529.9203765945704,1596.7771441229725,1735.0270335154528,1855.5952407495247,1882.9365191993193,1779.0091353516527,2109.383070321729,2096.9571598192806,2118.6813241739446,2246.81227886289,2408.474129129191,2154.525408695619,2236.29853431444,2579.8945047174743,2714.6902947787544,2749.941018803403,2719.33618858601,2931.412003213244,2967.7991511184437,2940.1278545913265,3174.4966927944724,3425.274567106961,3568.2539529812534,3609.820583032829,3640.8177035004287,3670.4928756404033,3699.0797701350666,3727.3653647533865,3755.784315242223,3785.8071441661596],\"yaxis\":\"y\",\"type\":\"scattergl\"},{\"hovertemplate\":\"LOCATION=MEX<br>TIME=%{x}<br>Value=%{y}<extra></extra>\",\"legendgroup\":\"MEX\",\"line\":{\"color\":\"#ab63fa\",\"dash\":\"solid\"},\"marker\":{\"symbol\":\"circle\"},\"mode\":\"lines\",\"name\":\"MEX\",\"showlegend\":true,\"x\":[1990.0,1991.0,1992.0,1993.0,1994.0,1995.0,1996.0,1997.0,1998.0,1999.0,2000.0,2001.0,2002.0,2003.0,2004.0,2005.0,2006.0,2007.0,2008.0,2009.0,2010.0,2011.0,2012.0,2013.0,2014.0,2015.0,2016.0,2017.0,2018.0,2019.0,2020.0,2021.0,2022.0],\"xaxis\":\"x\",\"y\":[2548.0415060336186,2984.500914107634,3111.853118040128,3181.3248787634343,3581.704197006155,3535.4132788581155,3717.3851109816455,4044.0280136331694,4464.717237824967,4656.26820165617,4891.056172100312,5137.266096427265,5521.819004463359,5715.149589338363,5749.2421378162635,6005.8825382125015,6010.7921040013225,6229.490136246461,6476.8945145929865,6615.836098032111,6643.796018327958,6570.315878148723,6781.054433275895,7077.701642660047,7154.266557444349,7447.1289490392755,7577.096038515777,7662.465160390275,7821.3218471482105,7983.590902673665,8102.246502175269,8235.925718093004,8354.463963935577],\"yaxis\":\"y\",\"type\":\"scattergl\"},{\"hovertemplate\":\"LOCATION=MOZ<br>TIME=%{x}<br>Value=%{y}<extra></extra>\",\"legendgroup\":\"MOZ\",\"line\":{\"color\":\"#FFA15A\",\"dash\":\"solid\"},\"marker\":{\"symbol\":\"circle\"},\"mode\":\"lines\",\"name\":\"MOZ\",\"showlegend\":true,\"x\":[1990.0,1991.0,1992.0,1993.0,1994.0,1995.0,1996.0,1997.0,1998.0,1999.0,2000.0,2001.0,2002.0,2003.0,2004.0,2005.0,2006.0,2007.0,2008.0,2009.0,2010.0,2011.0,2012.0,2013.0,2014.0,2015.0,2016.0,2017.0,2018.0,2019.0,2020.0,2021.0,2022.0],\"xaxis\":\"x\",\"y\":[72.18337761750885,75.26972598096917,74.07491134533325,76.0241258050282,80.0994410622356,79.95774550527553,82.99859116995049,86.04554048207481,91.19578481271417,85.86068019311277,203.59917632746294,200.23313303917124,203.15351092992196,171.65378728956017,187.0427750892163,205.518455337043,166.98126954539222,184.38203477336845,180.10657942401934,188.21114597926828,191.12381000153772,206.43724327375233,226.82782722371684,244.1560324900499,252.21773879457442,261.2836164023982,264.16905217701003,272.70547063808937,280.6326266768944,290.61703480006247,302.45065889566973,315.0786286110914,327.73748607147814],\"yaxis\":\"y\",\"type\":\"scattergl\"},{\"hovertemplate\":\"LOCATION=MYS<br>TIME=%{x}<br>Value=%{y}<extra></extra>\",\"legendgroup\":\"MYS\",\"line\":{\"color\":\"#19d3f3\",\"dash\":\"solid\"},\"marker\":{\"symbol\":\"circle\"},\"mode\":\"lines\",\"name\":\"MYS\",\"showlegend\":true,\"x\":[1990.0,1991.0,1992.0,1993.0,1994.0,1995.0,1996.0,1997.0,1998.0,1999.0,2000.0,2001.0,2002.0,2003.0,2004.0,2005.0,2006.0,2007.0,2008.0,2009.0,2010.0,2011.0,2012.0,2013.0,2014.0,2015.0,2016.0,2017.0,2018.0,2019.0,2020.0,2021.0,2022.0],\"xaxis\":\"x\",\"y\":[724.5455958179352,829.3279532737604,942.2945318103214,1044.6349034250456,1114.3551639885004,1154.842625246256,1167.1910212559405,1179.5846631508525,1161.0115635788861,1095.974469159223,1101.1490772071775,1179.003411234332,1263.090846726372,1281.9503148847057,1386.473340667921,1429.1385712269907,1499.6419551423007,1507.1837571233877,1472.450539793848,1577.8717350264017,1754.3543981934245,1800.8784011602575,1836.1295268338367,1898.0385330304694,1951.783693398435,2011.554068591847,2026.2280726856488,2072.687081775296,2097.634135655184,2131.9675912261237,2166.3339986117444,2202.4535594508866,2237.5620524483015],\"yaxis\":\"y\",\"type\":\"scattergl\"},{\"hovertemplate\":\"LOCATION=NGA<br>TIME=%{x}<br>Value=%{y}<extra></extra>\",\"legendgroup\":\"NGA\",\"line\":{\"color\":\"#FF6692\",\"dash\":\"solid\"},\"marker\":{\"symbol\":\"circle\"},\"mode\":\"lines\",\"name\":\"NGA\",\"showlegend\":true,\"x\":[1990.0,1991.0,1992.0,1993.0,1994.0,1995.0,1996.0,1997.0,1998.0,1999.0,2000.0,2001.0,2002.0,2003.0,2004.0,2005.0,2006.0,2007.0,2008.0,2009.0,2010.0,2011.0,2012.0,2013.0,2014.0,2015.0,2016.0,2017.0,2018.0,2019.0,2020.0,2021.0,2022.0],\"xaxis\":\"x\",\"y\":[655.4862428209943,653.326580581175,663.2691822031194,712.4926511770943,766.7660726509268,796.8540101795879,832.967544538664,885.1953910088216,913.2452138524939,947.3313349673106,944.180340751283,1073.850140150049,1144.0921963866194,1073.5276085317496,1114.600882783718,1119.4814237815995,1104.2763919203176,1201.60308183687,1235.621946842313,1270.6371946548336,1193.123014533378,902.3608541138655,1040.9600452685563,1308.0605317130562,1345.067074199727,1374.0378055208625,1382.9207147256213,1415.484833844597,1447.8794806537471,1482.7814768304454,1520.4184318527919,1559.182511624599,1597.276959641078],\"yaxis\":\"y\",\"type\":\"scattergl\"},{\"hovertemplate\":\"LOCATION=NOR<br>TIME=%{x}<br>Value=%{y}<extra></extra>\",\"legendgroup\":\"NOR\",\"line\":{\"color\":\"#B6E880\",\"dash\":\"solid\"},\"marker\":{\"symbol\":\"circle\"},\"mode\":\"lines\",\"name\":\"NOR\",\"showlegend\":true,\"x\":[1990.0,1991.0,1992.0,1993.0,1994.0,1995.0,1996.0,1997.0,1998.0,1999.0,2000.0,2001.0,2002.0,2003.0,2004.0,2005.0,2006.0,2007.0,2008.0,2009.0,2010.0,2011.0,2012.0,2013.0,2014.0,2015.0,2016.0,2017.0,2018.0,2019.0,2020.0,2021.0,2022.0],\"xaxis\":\"x\",\"y\":[202.00009,207.0,216.0,223.0,237.99982,245.9997299999999,255.99991,249.00009,255.0,249.15599999999978,264.0489999999998,267.552,266.988,275.848,287.73,294.112,295.459,316.0749999999999,335.479,323.9739999999999,326.8839999999989,333.6079999999998,346.2739999999999,358.866,352.292,360.328,371.8996767475768,368.5,373.35,377.2,381.05,384.90000000000003,388.75],\"yaxis\":\"y\",\"type\":\"scattergl\"},{\"hovertemplate\":\"LOCATION=NZL<br>TIME=%{x}<br>Value=%{y}<extra></extra>\",\"legendgroup\":\"NZL\",\"line\":{\"color\":\"#FF97FF\",\"dash\":\"solid\"},\"marker\":{\"symbol\":\"circle\"},\"mode\":\"lines\",\"name\":\"NZL\",\"showlegend\":true,\"x\":[1990.0,1991.0,1992.0,1993.0,1994.0,1995.0,1996.0,1997.0,1998.0,1999.0,2000.0,2001.0,2002.0,2003.0,2004.0,2005.0,2006.0,2007.0,2008.0,2009.0,2010.0,2011.0,2012.0,2013.0,2014.0,2015.0,2016.0,2017.0,2018.0,2019.0,2020.0,2021.0,2022.0],\"xaxis\":\"x\",\"y\":[417.5785928449186,419.0699542127421,434.3729574596718,405.0794561217341,494.53752775986777,518.0100388543341,447.46284863664033,477.2887583004008,473.4985701673348,473.5041345221309,500.6081025695246,509.2340876073256,463.1445378204098,549.7500698546243,489.5667122828637,516.2965494725831,518.4212275816245,529.6118778901788,528.3697097822529,428.6810749564851,427.4269612013629,475.1077426497492,488.9252302202177,437.947733877315,459.4484631617804,469.3452105977099,443.382574613476,479.2030865658437,501.22737965385295,496.4578811105334,500.4326743304666,506.79014507727743,510.2835736715698],\"yaxis\":\"y\",\"type\":\"scattergl\"},{\"hovertemplate\":\"LOCATION=OECD<br>TIME=%{x}<br>Value=%{y}<extra></extra>\",\"legendgroup\":\"OECD\",\"line\":{\"color\":\"#FECB52\",\"dash\":\"solid\"},\"marker\":{\"symbol\":\"circle\"},\"mode\":\"lines\",\"name\":\"OECD\",\"showlegend\":true,\"x\":[1990.0,1991.0,1992.0,1993.0,1994.0,1995.0,1996.0,1997.0,1998.0,1999.0,2000.0,2001.0,2002.0,2003.0,2004.0,2005.0,2006.0,2007.0,2008.0,2009.0,2010.0,2011.0,2012.0,2013.0,2014.0,2015.0,2016.0,2017.0,2018.0,2019.0,2020.0,2021.0,2022.0],\"xaxis\":\"x\",\"y\":[25316.18589350466,58983.44626938338,60826.54338785364,61444.6069587404,63017.55155100384,63685.1845263353,63998.83840158706,64560.72413596725,67820.94422288946,68870.40301743364,97532.72636265362,98006.60901945169,101364.06291982463,101351.47443704522,102123.72155017949,102900.70686033613,103669.00684406818,105863.36596734892,104982.86504814378,103889.58254907366,105362.26544342662,105149.01076935578,104800.61732737254,105137.37004728973,106708.0729039951,110694.29927498766,112570.30485833637,114123.40329409172,114089.74874986215,114831.60984809228,115768.09777387447,116363.8538589448,116745.22662671513],\"yaxis\":\"y\",\"type\":\"scattergl\"},{\"hovertemplate\":\"LOCATION=PAK<br>TIME=%{x}<br>Value=%{y}<extra></extra>\",\"legendgroup\":\"PAK\",\"line\":{\"color\":\"#636efa\",\"dash\":\"solid\"},\"marker\":{\"symbol\":\"circle\"},\"mode\":\"lines\",\"name\":\"PAK\",\"showlegend\":true,\"x\":[1990.0,1991.0,1992.0,1993.0,1994.0,1995.0,1996.0,1997.0,1998.0,1999.0,2000.0,2001.0,2002.0,2003.0,2004.0,2005.0,2006.0,2007.0,2008.0,2009.0,2010.0,2011.0,2012.0,2013.0,2014.0,2015.0,2016.0,2017.0,2018.0,2019.0,2020.0,2021.0,2022.0],\"xaxis\":\"x\",\"y\":[1321.6137203165833,1379.7648654242803,1470.1502312316697,1643.1334268691146,1755.6210567015235,1854.9852699877242,1520.5517408876658,1663.1345389691505,1589.3788155245063,1646.503773353713,1685.5160061475667,1734.5953625936652,1789.6983269862285,1840.7787325051067,1883.8043075861938,1930.8448716139112,2226.9580133101285,2313.1675562977807,2402.3822754347025,2507.6577205892504,2609.8953701734986,2727.1859847156284,2851.496690444495,2975.795090626129,3046.823614952864,3115.837786118039,3172.791485737619,3236.4435832574077,3330.491188716425,3384.524255182883,3456.2786640483882,3529.4147856602094,3608.4382427158225],\"yaxis\":\"y\",\"type\":\"scattergl\"},{\"hovertemplate\":\"LOCATION=PER<br>TIME=%{x}<br>Value=%{y}<extra></extra>\",\"legendgroup\":\"PER\",\"line\":{\"color\":\"#EF553B\",\"dash\":\"solid\"},\"marker\":{\"symbol\":\"circle\"},\"mode\":\"lines\",\"name\":\"PER\",\"showlegend\":true,\"x\":[1990.0,1991.0,1992.0,1993.0,1994.0,1995.0,1996.0,1997.0,1998.0,1999.0,2000.0,2001.0,2002.0,2003.0,2004.0,2005.0,2006.0,2007.0,2008.0,2009.0,2010.0,2011.0,2012.0,2013.0,2014.0,2015.0,2016.0,2017.0,2018.0,2019.0,2020.0,2021.0,2022.0],\"xaxis\":\"x\",\"y\":[491.7938356120449,533.0278475241136,559.6683300303557,540.6083465391546,550.6677369750917,598.9943757498307,641.1070869208725,708.0011910223417,728.3978604541157,773.5378756166549,834.1455966610688,874.0580046120994,919.1578529900238,890.8908973061585,905.9693424201569,998.4512106122293,1070.2179337644848,1141.9858122764226,1247.7732774015826,1343.145534240227,1418.8166519369067,1487.2508245158165,1596.7657106042454,1647.552903833281,1693.2075426619506,1808.7520399710995,1827.6556151496402,1845.2567589286468,1867.5213881464556,1894.6557866023163,1921.8197651376895,1962.2512923660045,1983.964191739829],\"yaxis\":\"y\",\"type\":\"scattergl\"},{\"hovertemplate\":\"LOCATION=PHL<br>TIME=%{x}<br>Value=%{y}<extra></extra>\",\"legendgroup\":\"PHL\",\"line\":{\"color\":\"#00cc96\",\"dash\":\"solid\"},\"marker\":{\"symbol\":\"circle\"},\"mode\":\"lines\",\"name\":\"PHL\",\"showlegend\":true,\"x\":[1990.0,1991.0,1992.0,1993.0,1994.0,1995.0,1996.0,1997.0,1998.0,1999.0,2000.0,2001.0,2002.0,2003.0,2004.0,2005.0,2006.0,2007.0,2008.0,2009.0,2010.0,2011.0,2012.0,2013.0,2014.0,2015.0,2016.0,2017.0,2018.0,2019.0,2020.0,2021.0,2022.0],\"xaxis\":\"x\",\"y\":[1107.0170667537946,1168.4878108844064,1156.0174465149225,1299.423010594112,1365.8223614169551,1492.889639985045,1808.9730169275524,1950.0444316056655,1997.0782141021587,2162.2798043605558,2258.778503122905,2341.183351100327,2467.9502410867763,2518.94960307565,2560.877654151336,2577.6351012295254,2755.8483609972955,2962.3299788873237,3048.766966654086,3088.7729121227107,3242.7208780413353,3340.102703001855,3321.6079357349277,3460.366837590579,3602.1056902204377,3616.792624385051,3721.2212831416446,3827.3582568402053,3882.4398923866447,3966.30606760484,4051.2215674228373,4120.629805709818,4193.97335719584],\"yaxis\":\"y\",\"type\":\"scattergl\"},{\"hovertemplate\":\"LOCATION=PRY<br>TIME=%{x}<br>Value=%{y}<extra></extra>\",\"legendgroup\":\"PRY\",\"line\":{\"color\":\"#ab63fa\",\"dash\":\"solid\"},\"marker\":{\"symbol\":\"circle\"},\"mode\":\"lines\",\"name\":\"PRY\",\"showlegend\":true,\"x\":[1990.0,1991.0,1992.0,1993.0,1994.0,1995.0,1996.0,1997.0,1998.0,1999.0,2000.0,2001.0,2002.0,2003.0,2004.0,2005.0,2006.0,2007.0,2008.0,2009.0,2010.0,2011.0,2012.0,2013.0,2014.0,2015.0,2016.0,2017.0,2018.0,2019.0,2020.0,2021.0,2022.0],\"xaxis\":\"x\",\"y\":[273.9769610844523,373.8040893741037,408.47850313801376,401.3993042559281,411.9441995863451,429.13247634350995,405.86095193904754,409.3777746543917,407.19961055624424,447.08686842260215,389.02459124596896,379.22472778791956,392.58162403945823,427.58889612068583,343.73116937307793,306.155708931714,432.18066226966744,430.94708824436486,482.9011112787333,515.6018832053658,482.81740944488445,458.9691376855807,498.37053154333785,484.4727444084589,489.38977370538345,519.7118051789996,519.0858720850458,531.6636016852992,537.41611591537,545.735113829375,555.7274367150737,566.4348419153899,577.8041490946795],\"yaxis\":\"y\",\"type\":\"scattergl\"},{\"hovertemplate\":\"LOCATION=RUS<br>TIME=%{x}<br>Value=%{y}<extra></extra>\",\"legendgroup\":\"RUS\",\"line\":{\"color\":\"#FFA15A\",\"dash\":\"solid\"},\"marker\":{\"symbol\":\"circle\"},\"mode\":\"lines\",\"name\":\"RUS\",\"showlegend\":true,\"x\":[1992.0,1993.0,1994.0,1995.0,1996.0,1997.0,1998.0,1999.0,2000.0,2001.0,2002.0,2003.0,2004.0,2005.0,2006.0,2007.0,2008.0,2009.0,2010.0,2011.0,2012.0,2013.0,2014.0,2015.0,2016.0,2017.0,2018.0,2019.0,2020.0,2021.0,2022.0],\"xaxis\":\"x\",\"y\":[6142.31446423345,8670.968552603068,8401.100571385954,7693.660532248305,7118.062401478381,7489.506585263884,6921.138628399908,5691.0560042781835,5574.492512989834,6573.952208987808,7218.50356102562,7088.768659087212,7144.616412964893,7902.97884136462,8151.3407642015645,8809.704559471651,9895.33319360112,9596.63493487695,9724.04692874993,10225.945705192076,10910.852772120195,10801.078243345659,10635.468055952795,10463.330913876209,10566.562126149407,10798.70447998024,10894.76948411779,10981.454073212044,11033.210140127545,11083.161238623317,11146.76119268248],\"yaxis\":\"y\",\"type\":\"scattergl\"},{\"hovertemplate\":\"LOCATION=SAU<br>TIME=%{x}<br>Value=%{y}<extra></extra>\",\"legendgroup\":\"SAU\",\"line\":{\"color\":\"#19d3f3\",\"dash\":\"solid\"},\"marker\":{\"symbol\":\"circle\"},\"mode\":\"lines\",\"name\":\"SAU\",\"showlegend\":true,\"x\":[1990.0,1991.0,1992.0,1993.0,1994.0,1995.0,1996.0,1997.0,1998.0,1999.0,2000.0,2001.0,2002.0,2003.0,2004.0,2005.0,2006.0,2007.0,2008.0,2009.0,2010.0,2011.0,2012.0,2013.0,2014.0,2015.0,2016.0,2017.0,2018.0,2019.0,2020.0,2021.0,2022.0],\"xaxis\":\"x\",\"y\":[686.2867864847246,754.5127971097702,712.7256050088853,687.6977306625716,648.742989875379,853.0389301655301,799.8134671511184,866.2100543699572,964.3584089892322,1029.2294052488528,1146.6245461490469,1184.0882726870395,1133.1119357805046,1146.001134948405,1119.754434004266,1283.3055928875551,1271.6302288081151,1356.2640993240175,1403.783026673891,1518.1368079065521,1617.0352003246633,1738.4730370940558,1789.464547194339,1856.0120452352785,1822.4395011452286,2030.2233667797273,2058.0005367260387,2103.22176699397,2138.026023878364,2175.9372778743673,2214.267655479764,2252.522198650351,2293.166026456009],\"yaxis\":\"y\",\"type\":\"scattergl\"},{\"hovertemplate\":\"LOCATION=SDN<br>TIME=%{x}<br>Value=%{y}<extra></extra>\",\"legendgroup\":\"SDN\",\"line\":{\"color\":\"#FF6692\",\"dash\":\"solid\"},\"marker\":{\"symbol\":\"circle\"},\"mode\":\"lines\",\"name\":\"SDN\",\"showlegend\":true,\"x\":[1990.0,1991.0,1992.0,1993.0,1994.0,1995.0,1996.0,1997.0,1998.0,1999.0,2000.0,2001.0,2002.0,2003.0,2004.0,2005.0,2006.0,2007.0,2008.0,2009.0,2010.0,2011.0,2012.0,2013.0,2014.0,2015.0,2016.0,2017.0,2018.0,2019.0,2020.0,2021.0,2022.0],\"xaxis\":\"x\",\"y\":[345.013477149271,382.014472468529,401.014717597857,412.01464131420903,437.015040074288,481.01604635225203,481.015580841886,518.016284491428,539.016488058701,549.016345357366,575.016610723064,612.017197896299,614.016773329796,642.01704484861,654.016876148349,708.017750306296,820.019966520524,819.019381715917,847.019481587074,833.01863388634,856.018629633444,866.018349138688,884.018244547138,884.017781002065,883.017284903465,888.016949740064,886.016555632558,894.7071379301059,895.624771810801,908.3111097282939,921.205673010406,940.296490239837,957.2307957271639],\"yaxis\":\"y\",\"type\":\"scattergl\"},{\"hovertemplate\":\"LOCATION=SSA<br>TIME=%{x}<br>Value=%{y}<extra></extra>\",\"legendgroup\":\"SSA\",\"line\":{\"color\":\"#B6E880\",\"dash\":\"solid\"},\"marker\":{\"symbol\":\"circle\"},\"mode\":\"lines\",\"name\":\"SSA\",\"showlegend\":true,\"x\":[1990.0,1991.0,1992.0,1993.0,1994.0,1995.0,1996.0,1997.0,1998.0,1999.0,2000.0,2001.0,2002.0,2003.0,2004.0,2005.0,2006.0,2007.0,2008.0,2009.0,2010.0,2011.0,2012.0,2013.0,2014.0,2015.0,2016.0,2017.0,2018.0,2019.0,2020.0,2021.0,2022.0],\"xaxis\":\"x\",\"y\":[4446.128109497957,4547.07849300835,4637.01837716784,4656.991843100825,4708.89445220802,4866.944004830253,5026.974014685471,5263.121028531674,5431.159650853183,5623.210700975953,5997.496879643675,6316.70059498868,6710.171972484071,6828.8881764195785,7039.923087811678,7427.121281587509,7788.305683634146,8254.56746244383,8635.725501434208,8818.672491483863,9087.723545839619,9237.596424156241,9644.753598465792,10094.912562690362,10364.906456526107,10228.542986939054,10120.220324750362,10368.24228965947,10566.101435729615,10802.083659860853,11073.981458308914,11417.733641781582,11744.518001256809],\"yaxis\":\"y\",\"type\":\"scattergl\"},{\"hovertemplate\":\"LOCATION=THA<br>TIME=%{x}<br>Value=%{y}<extra></extra>\",\"legendgroup\":\"THA\",\"line\":{\"color\":\"#FF97FF\",\"dash\":\"solid\"},\"marker\":{\"symbol\":\"circle\"},\"mode\":\"lines\",\"name\":\"THA\",\"showlegend\":true,\"x\":[1990.0,1991.0,1992.0,1993.0,1994.0,1995.0,1996.0,1997.0,1998.0,1999.0,2000.0,2001.0,2002.0,2003.0,2004.0,2005.0,2006.0,2007.0,2008.0,2009.0,2010.0,2011.0,2012.0,2013.0,2014.0,2015.0,2016.0,2017.0,2018.0,2019.0,2020.0,2021.0,2022.0],\"xaxis\":\"x\",\"y\":[1194.7185021884734,1440.133865795547,1623.655609589513,1698.4789612977304,1598.9614980696585,1680.7080949662782,1714.027454050638,1678.3496794282064,1639.7449617532588,1496.5842925593063,1721.121078931654,1789.7797847780848,1860.3292436292686,1809.2595065356832,1749.20373331996,1921.1738232602743,1967.5895145195868,1960.697895983592,1737.860376150094,1719.6275014104756,1747.9003134748173,1693.2117236239405,1700.1215164549963,1926.967702838855,1948.1480472837252,1947.061708532001,1928.7457272921768,1941.4740966062425,1951.6569448728676,1958.1369191623364,1967.3342565213136,1976.659134977488,1981.473447787661],\"yaxis\":\"y\",\"type\":\"scattergl\"},{\"hovertemplate\":\"LOCATION=TUR<br>TIME=%{x}<br>Value=%{y}<extra></extra>\",\"legendgroup\":\"TUR\",\"line\":{\"color\":\"#FECB52\",\"dash\":\"solid\"},\"marker\":{\"symbol\":\"circle\"},\"mode\":\"lines\",\"name\":\"TUR\",\"showlegend\":true,\"x\":[1990.0,1991.0,1992.0,1993.0,1994.0,1995.0,1996.0,1997.0,1998.0,1999.0,2000.0,2001.0,2002.0,2003.0,2004.0,2005.0,2006.0,2007.0,2008.0,2009.0,2010.0,2011.0,2012.0,2013.0,2014.0,2015.0,2016.0,2017.0,2018.0,2019.0,2020.0,2021.0,2022.0],\"xaxis\":\"x\",\"y\":[1183.7169535996277,1170.2520206426902,1157.8969881097194,1170.8443476121745,1131.0569302208673,1242.4565875037079,1130.5245898799171,1253.8751583350029,1254.684687733465,1348.7697886304045,1411.3573223091148,1308.7817833749255,1370.371310926535,1496.8625149333668,1583.5321855370985,1569.2297093660504,1572.996365897423,1806.4778940146161,1738.532573590575,1836.6000306999395,2241.4099834869967,2335.1012648330316,2560.8936886290953,2627.0015491257045,2784.1817518209573,2924.1876939453887,2961.246391515115,3004.355361876434,3026.8338576943224,3059.119303359389,3092.8607852162313,3126.9404458842714,3163.8537276676843],\"yaxis\":\"y\",\"type\":\"scattergl\"},{\"hovertemplate\":\"LOCATION=TZA<br>TIME=%{x}<br>Value=%{y}<extra></extra>\",\"legendgroup\":\"TZA\",\"line\":{\"color\":\"#636efa\",\"dash\":\"solid\"},\"marker\":{\"symbol\":\"circle\"},\"mode\":\"lines\",\"name\":\"TZA\",\"showlegend\":true,\"x\":[1990.0,1991.0,1992.0,1993.0,1994.0,1995.0,1996.0,1997.0,1998.0,1999.0,2000.0,2001.0,2002.0,2003.0,2004.0,2005.0,2006.0,2007.0,2008.0,2009.0,2010.0,2011.0,2012.0,2013.0,2014.0,2015.0,2016.0,2017.0,2018.0,2019.0,2020.0,2021.0,2022.0],\"xaxis\":\"x\",\"y\":[263.46321127840486,277.6290089358616,284.5709816287168,295.6357972890324,295.37850018032884,336.1382240706971,280.6766577926553,284.6214706895272,292.649558609019,313.9490887054523,328.080574930446,335.0471812134768,352.19611060847603,383.6216092613755,385.4669180418359,390.3404734600262,418.68786550706204,426.6239102162709,431.47209575784564,437.3361492701275,396.509300518549,439.0250196294803,460.08510575752723,475.09291891058695,482.98922594033263,492.912981046343,496.7590757544084,516.9801450742094,539.1403016260139,558.12485199243,578.7910314053017,599.407666447049,619.5048377981748],\"yaxis\":\"y\",\"type\":\"scattergl\"},{\"hovertemplate\":\"LOCATION=UKR<br>TIME=%{x}<br>Value=%{y}<extra></extra>\",\"legendgroup\":\"UKR\",\"line\":{\"color\":\"#EF553B\",\"dash\":\"solid\"},\"marker\":{\"symbol\":\"circle\"},\"mode\":\"lines\",\"name\":\"UKR\",\"showlegend\":true,\"x\":[1990.0,1991.0,1992.0,1993.0,1994.0,1995.0,1996.0,1997.0,1998.0,1999.0,2000.0,2001.0,2002.0,2003.0,2004.0,2005.0,2006.0,2007.0,2008.0,2009.0,2010.0,2011.0,2012.0,2013.0,2014.0,2015.0,2016.0,2017.0,2018.0,2019.0,2020.0,2021.0,2022.0],\"xaxis\":\"x\",\"y\":[4315.0,3993.0,3271.674244573809,2727.6969833643093,2361.3397760159833,2090.6173758902232,1953.1339399004523,1775.5104348607188,1656.0729128360827,1621.8983218248145,1577.2997053928434,1469.1318781175728,1597.4337746512106,1702.4549693570334,1845.5616024407182,1784.7136614759042,1969.0944082410665,2123.1121922108923,2411.6138008467797,2265.4831325982077,2326.735637220001,2270.8313986484363,2499.0737467715653,2517.4439425832406,2400.693183712016,2264.659685845186,2243.452783983281,2300.042222945939,2318.6276497080125,2360.532370291601,2385.0892365709747,2408.3630116003756,2434.6742434274993],\"yaxis\":\"y\",\"type\":\"scattergl\"},{\"hovertemplate\":\"LOCATION=URY<br>TIME=%{x}<br>Value=%{y}<extra></extra>\",\"legendgroup\":\"URY\",\"line\":{\"color\":\"#00cc96\",\"dash\":\"solid\"},\"marker\":{\"symbol\":\"circle\"},\"mode\":\"lines\",\"name\":\"URY\",\"showlegend\":true,\"x\":[1990.0,1991.0,1992.0,1993.0,1994.0,1995.0,1996.0,1997.0,1998.0,1999.0,2000.0,2001.0,2002.0,2003.0,2004.0,2005.0,2006.0,2007.0,2008.0,2009.0,2010.0,2011.0,2012.0,2013.0,2014.0,2015.0,2016.0,2017.0,2018.0,2019.0,2020.0,2021.0,2022.0],\"xaxis\":\"x\",\"y\":[280.96482565404824,427.0931977458852,441.47309906061685,391.21333098396553,499.09045477261367,405.61226552882187,431.03350335657996,422.954206804626,434.9992315005787,458.0204875926171,470.7146005708711,376.42149536649464,377.2776243550486,302.4539878038513,323.62516169790314,392.08903028316604,348.2982002565032,334.3219576460921,386.0212096704398,311.7026014345357,398.74753216117773,404.267266460106,385.8088614116434,348.67073947247184,416.60696477888257,445.44181721416504,449.0320323781134,450.5125533321738,451.5735031081647,454.4279158562878,458.0439942195884,462.0245480015408,466.29848589052034],\"yaxis\":\"y\",\"type\":\"scattergl\"},{\"hovertemplate\":\"LOCATION=USA<br>TIME=%{x}<br>Value=%{y}<extra></extra>\",\"legendgroup\":\"USA\",\"line\":{\"color\":\"#ab63fa\",\"dash\":\"solid\"},\"marker\":{\"symbol\":\"circle\"},\"mode\":\"lines\",\"name\":\"USA\",\"showlegend\":true,\"x\":[1990.0,1991.0,1992.0,1993.0,1994.0,1995.0,1996.0,1997.0,1998.0,1999.0,2000.0,2001.0,2002.0,2003.0,2004.0,2005.0,2006.0,2007.0,2008.0,2009.0,2010.0,2011.0,2012.0,2013.0,2014.0,2015.0,2016.0,2017.0,2018.0,2019.0,2020.0,2021.0,2022.0],\"xaxis\":\"x\",\"y\":[28635.40958971396,29349.55743284675,30420.543309114204,30568.738811098156,31547.209178810008,31805.435845939835,31904.025906086834,32031.819293129716,33294.020987226395,34806.07116495434,35134.47200541875,35072.52803642459,36565.68693164982,36537.106757123875,37337.13568323906,37556.33085735919,37934.597358157145,38169.190293396714,37698.20973058661,37119.28214240805,37085.56993172603,36836.203375886216,36339.46510436006,36526.73316512159,36529.09938783733,38418.06470834811,39360.911705359744,40263.16997680283,40223.28444666775,40577.531105082206,40962.07386751102,41314.93291723922,41549.411734162386],\"yaxis\":\"y\",\"type\":\"scattergl\"},{\"hovertemplate\":\"LOCATION=VNM<br>TIME=%{x}<br>Value=%{y}<extra></extra>\",\"legendgroup\":\"VNM\",\"line\":{\"color\":\"#FFA15A\",\"dash\":\"solid\"},\"marker\":{\"symbol\":\"circle\"},\"mode\":\"lines\",\"name\":\"VNM\",\"showlegend\":true,\"x\":[1990.0,1991.0,1992.0,1993.0,1994.0,1995.0,1996.0,1997.0,1998.0,1999.0,2000.0,2001.0,2002.0,2003.0,2004.0,2005.0,2006.0,2007.0,2008.0,2009.0,2010.0,2011.0,2012.0,2013.0,2014.0,2015.0,2016.0,2017.0,2018.0,2019.0,2020.0,2021.0,2022.0],\"xaxis\":\"x\",\"y\":[1062.0683892003472,1034.503270675645,1170.7527887850815,1212.9469828618066,1307.6970679963233,1374.1531175023915,1438.624026915374,1559.7538500625417,1645.4164231014176,1776.5164367728798,1908.6384699814014,2069.9990927433273,2298.006289499349,2477.5117141314595,2663.97632724715,2976.5533817824416,3336.6433291633166,3749.1438197091034,4149.476437630776,4644.544890954752,4780.548380295248,5568.234062419182,5359.521662844805,5755.098285980055,6158.82262402549,6234.091439480522,6319.141052600371,6473.480775862446,6604.228493793489,6750.600328480822,6875.292537397511,6999.776588936703,7146.743422003118],\"yaxis\":\"y\",\"type\":\"scattergl\"},{\"hovertemplate\":\"LOCATION=WLD<br>TIME=%{x}<br>Value=%{y}<extra></extra>\",\"legendgroup\":\"WLD\",\"line\":{\"color\":\"#19d3f3\",\"dash\":\"solid\"},\"marker\":{\"symbol\":\"circle\"},\"mode\":\"lines\",\"name\":\"WLD\",\"showlegend\":true,\"x\":[1992.0,1993.0,1994.0,1995.0,1996.0,1997.0,1998.0,1999.0,2000.0,2001.0,2002.0,2003.0,2004.0,2005.0,2006.0,2007.0,2008.0,2009.0,2010.0,2011.0,2012.0,2013.0,2014.0,2015.0,2016.0,2017.0,2018.0,2019.0,2020.0,2021.0,2022.0],\"xaxis\":\"x\",\"y\":[54341.72606838167,132354.62594651847,139792.46207784436,144796.87478329637,144121.2822281344,152444.33245989116,160158.53033384177,163104.19319083882,228429.13693330868,232441.78787867306,241695.30608569202,241665.77768698512,246313.9711249118,254127.05632774637,261181.15239889384,267720.1334217526,276457.5417328363,281667.4962063653,288920.3338958053,291268.57180786546,297054.94443598785,302945.21603403974,307652.4653002291,312536.89195573115,315810.808665878,320480.5807509223,323319.45970002684,327264.76412762894,331260.80163889186,335010.2177137689,338438.13569996634],\"yaxis\":\"y\",\"type\":\"scattergl\"},{\"hovertemplate\":\"LOCATION=ZAF<br>TIME=%{x}<br>Value=%{y}<extra></extra>\",\"legendgroup\":\"ZAF\",\"line\":{\"color\":\"#FF6692\",\"dash\":\"solid\"},\"marker\":{\"symbol\":\"circle\"},\"mode\":\"lines\",\"name\":\"ZAF\",\"showlegend\":true,\"x\":[1990.0,1991.0,1992.0,1993.0,1994.0,1995.0,1996.0,1997.0,1998.0,1999.0,2000.0,2001.0,2002.0,2003.0,2004.0,2005.0,2006.0,2007.0,2008.0,2009.0,2010.0,2011.0,2012.0,2013.0,2014.0,2015.0,2016.0,2017.0,2018.0,2019.0,2020.0,2021.0,2022.0],\"xaxis\":\"x\",\"y\":[1608.7961960118487,1580.3025588467904,1593.8893237963616,1525.907969653358,1565.3965876450065,1624.9591783678252,1613.2391221841535,1664.849800018685,1601.142784639236,1823.5995569444403,1808.329209659651,1899.3450638405798,1949.7870108674276,2026.6326742422227,2132.8469092446267,2264.4963678534605,2492.633611104705,2689.3609331426715,2897.3959326943377,2966.978321906384,3038.581254277522,3126.525889656944,3211.3273024893224,3181.334029433916,3169.6710262641272,3266.8544681532035,3399.3665860236224,3416.0443498918576,3411.422243651159,3442.9898656423943,3478.114354420556,3514.0607614861174,3551.6928838478107],\"yaxis\":\"y\",\"type\":\"scattergl\"},{\"hovertemplate\":\"LOCATION=ZMB<br>TIME=%{x}<br>Value=%{y}<extra></extra>\",\"legendgroup\":\"ZMB\",\"line\":{\"color\":\"#B6E880\",\"dash\":\"solid\"},\"marker\":{\"symbol\":\"circle\"},\"mode\":\"lines\",\"name\":\"ZMB\",\"showlegend\":true,\"x\":[1990.0,1991.0,1992.0,1993.0,1994.0,1995.0,1996.0,1997.0,1998.0,1999.0,2000.0,2001.0,2002.0,2003.0,2004.0,2005.0,2006.0,2007.0,2008.0,2009.0,2010.0,2011.0,2012.0,2013.0,2014.0,2015.0,2016.0,2017.0,2018.0,2019.0,2020.0,2021.0,2022.0],\"xaxis\":\"x\",\"y\":[72.22609951443792,76.4510882174952,78.48479245049836,85.93195179473418,86.83726185737112,82.38026785453766,87.63835787989287,91.78428552993014,92.7248597575742,102.19931789809405,97.7735956361795,100.83531530469817,119.81329948527735,120.69472458014653,118.39405269136695,123.51104944621994,122.22528996867102,127.32885981907073,155.6178894024818,204.84258412700763,241.32266853674238,247.29125605760925,277.42703992403926,305.22922204971894,308.97845221844955,317.9503562899526,321.6959650031725,330.0119431568806,338.27732309478813,346.94354060629115,356.7758518536251,370.0747180411623,386.2386872005318],\"yaxis\":\"y\",\"type\":\"scattergl\"}],                        {\"template\":{\"data\":{\"bar\":[{\"error_x\":{\"color\":\"#2a3f5f\"},\"error_y\":{\"color\":\"#2a3f5f\"},\"marker\":{\"line\":{\"color\":\"#E5ECF6\",\"width\":0.5},\"pattern\":{\"fillmode\":\"overlay\",\"size\":10,\"solidity\":0.2}},\"type\":\"bar\"}],\"barpolar\":[{\"marker\":{\"line\":{\"color\":\"#E5ECF6\",\"width\":0.5},\"pattern\":{\"fillmode\":\"overlay\",\"size\":10,\"solidity\":0.2}},\"type\":\"barpolar\"}],\"carpet\":[{\"aaxis\":{\"endlinecolor\":\"#2a3f5f\",\"gridcolor\":\"white\",\"linecolor\":\"white\",\"minorgridcolor\":\"white\",\"startlinecolor\":\"#2a3f5f\"},\"baxis\":{\"endlinecolor\":\"#2a3f5f\",\"gridcolor\":\"white\",\"linecolor\":\"white\",\"minorgridcolor\":\"white\",\"startlinecolor\":\"#2a3f5f\"},\"type\":\"carpet\"}],\"choropleth\":[{\"colorbar\":{\"outlinewidth\":0,\"ticks\":\"\"},\"type\":\"choropleth\"}],\"contour\":[{\"colorbar\":{\"outlinewidth\":0,\"ticks\":\"\"},\"colorscale\":[[0.0,\"#0d0887\"],[0.1111111111111111,\"#46039f\"],[0.2222222222222222,\"#7201a8\"],[0.3333333333333333,\"#9c179e\"],[0.4444444444444444,\"#bd3786\"],[0.5555555555555556,\"#d8576b\"],[0.6666666666666666,\"#ed7953\"],[0.7777777777777778,\"#fb9f3a\"],[0.8888888888888888,\"#fdca26\"],[1.0,\"#f0f921\"]],\"type\":\"contour\"}],\"contourcarpet\":[{\"colorbar\":{\"outlinewidth\":0,\"ticks\":\"\"},\"type\":\"contourcarpet\"}],\"heatmap\":[{\"colorbar\":{\"outlinewidth\":0,\"ticks\":\"\"},\"colorscale\":[[0.0,\"#0d0887\"],[0.1111111111111111,\"#46039f\"],[0.2222222222222222,\"#7201a8\"],[0.3333333333333333,\"#9c179e\"],[0.4444444444444444,\"#bd3786\"],[0.5555555555555556,\"#d8576b\"],[0.6666666666666666,\"#ed7953\"],[0.7777777777777778,\"#fb9f3a\"],[0.8888888888888888,\"#fdca26\"],[1.0,\"#f0f921\"]],\"type\":\"heatmap\"}],\"heatmapgl\":[{\"colorbar\":{\"outlinewidth\":0,\"ticks\":\"\"},\"colorscale\":[[0.0,\"#0d0887\"],[0.1111111111111111,\"#46039f\"],[0.2222222222222222,\"#7201a8\"],[0.3333333333333333,\"#9c179e\"],[0.4444444444444444,\"#bd3786\"],[0.5555555555555556,\"#d8576b\"],[0.6666666666666666,\"#ed7953\"],[0.7777777777777778,\"#fb9f3a\"],[0.8888888888888888,\"#fdca26\"],[1.0,\"#f0f921\"]],\"type\":\"heatmapgl\"}],\"histogram\":[{\"marker\":{\"pattern\":{\"fillmode\":\"overlay\",\"size\":10,\"solidity\":0.2}},\"type\":\"histogram\"}],\"histogram2d\":[{\"colorbar\":{\"outlinewidth\":0,\"ticks\":\"\"},\"colorscale\":[[0.0,\"#0d0887\"],[0.1111111111111111,\"#46039f\"],[0.2222222222222222,\"#7201a8\"],[0.3333333333333333,\"#9c179e\"],[0.4444444444444444,\"#bd3786\"],[0.5555555555555556,\"#d8576b\"],[0.6666666666666666,\"#ed7953\"],[0.7777777777777778,\"#fb9f3a\"],[0.8888888888888888,\"#fdca26\"],[1.0,\"#f0f921\"]],\"type\":\"histogram2d\"}],\"histogram2dcontour\":[{\"colorbar\":{\"outlinewidth\":0,\"ticks\":\"\"},\"colorscale\":[[0.0,\"#0d0887\"],[0.1111111111111111,\"#46039f\"],[0.2222222222222222,\"#7201a8\"],[0.3333333333333333,\"#9c179e\"],[0.4444444444444444,\"#bd3786\"],[0.5555555555555556,\"#d8576b\"],[0.6666666666666666,\"#ed7953\"],[0.7777777777777778,\"#fb9f3a\"],[0.8888888888888888,\"#fdca26\"],[1.0,\"#f0f921\"]],\"type\":\"histogram2dcontour\"}],\"mesh3d\":[{\"colorbar\":{\"outlinewidth\":0,\"ticks\":\"\"},\"type\":\"mesh3d\"}],\"parcoords\":[{\"line\":{\"colorbar\":{\"outlinewidth\":0,\"ticks\":\"\"}},\"type\":\"parcoords\"}],\"pie\":[{\"automargin\":true,\"type\":\"pie\"}],\"scatter\":[{\"marker\":{\"colorbar\":{\"outlinewidth\":0,\"ticks\":\"\"}},\"type\":\"scatter\"}],\"scatter3d\":[{\"line\":{\"colorbar\":{\"outlinewidth\":0,\"ticks\":\"\"}},\"marker\":{\"colorbar\":{\"outlinewidth\":0,\"ticks\":\"\"}},\"type\":\"scatter3d\"}],\"scattercarpet\":[{\"marker\":{\"colorbar\":{\"outlinewidth\":0,\"ticks\":\"\"}},\"type\":\"scattercarpet\"}],\"scattergeo\":[{\"marker\":{\"colorbar\":{\"outlinewidth\":0,\"ticks\":\"\"}},\"type\":\"scattergeo\"}],\"scattergl\":[{\"marker\":{\"colorbar\":{\"outlinewidth\":0,\"ticks\":\"\"}},\"type\":\"scattergl\"}],\"scattermapbox\":[{\"marker\":{\"colorbar\":{\"outlinewidth\":0,\"ticks\":\"\"}},\"type\":\"scattermapbox\"}],\"scatterpolar\":[{\"marker\":{\"colorbar\":{\"outlinewidth\":0,\"ticks\":\"\"}},\"type\":\"scatterpolar\"}],\"scatterpolargl\":[{\"marker\":{\"colorbar\":{\"outlinewidth\":0,\"ticks\":\"\"}},\"type\":\"scatterpolargl\"}],\"scatterternary\":[{\"marker\":{\"colorbar\":{\"outlinewidth\":0,\"ticks\":\"\"}},\"type\":\"scatterternary\"}],\"surface\":[{\"colorbar\":{\"outlinewidth\":0,\"ticks\":\"\"},\"colorscale\":[[0.0,\"#0d0887\"],[0.1111111111111111,\"#46039f\"],[0.2222222222222222,\"#7201a8\"],[0.3333333333333333,\"#9c179e\"],[0.4444444444444444,\"#bd3786\"],[0.5555555555555556,\"#d8576b\"],[0.6666666666666666,\"#ed7953\"],[0.7777777777777778,\"#fb9f3a\"],[0.8888888888888888,\"#fdca26\"],[1.0,\"#f0f921\"]],\"type\":\"surface\"}],\"table\":[{\"cells\":{\"fill\":{\"color\":\"#EBF0F8\"},\"line\":{\"color\":\"white\"}},\"header\":{\"fill\":{\"color\":\"#C8D4E3\"},\"line\":{\"color\":\"white\"}},\"type\":\"table\"}]},\"layout\":{\"annotationdefaults\":{\"arrowcolor\":\"#2a3f5f\",\"arrowhead\":0,\"arrowwidth\":1},\"autotypenumbers\":\"strict\",\"coloraxis\":{\"colorbar\":{\"outlinewidth\":0,\"ticks\":\"\"}},\"colorscale\":{\"diverging\":[[0,\"#8e0152\"],[0.1,\"#c51b7d\"],[0.2,\"#de77ae\"],[0.3,\"#f1b6da\"],[0.4,\"#fde0ef\"],[0.5,\"#f7f7f7\"],[0.6,\"#e6f5d0\"],[0.7,\"#b8e186\"],[0.8,\"#7fbc41\"],[0.9,\"#4d9221\"],[1,\"#276419\"]],\"sequential\":[[0.0,\"#0d0887\"],[0.1111111111111111,\"#46039f\"],[0.2222222222222222,\"#7201a8\"],[0.3333333333333333,\"#9c179e\"],[0.4444444444444444,\"#bd3786\"],[0.5555555555555556,\"#d8576b\"],[0.6666666666666666,\"#ed7953\"],[0.7777777777777778,\"#fb9f3a\"],[0.8888888888888888,\"#fdca26\"],[1.0,\"#f0f921\"]],\"sequentialminus\":[[0.0,\"#0d0887\"],[0.1111111111111111,\"#46039f\"],[0.2222222222222222,\"#7201a8\"],[0.3333333333333333,\"#9c179e\"],[0.4444444444444444,\"#bd3786\"],[0.5555555555555556,\"#d8576b\"],[0.6666666666666666,\"#ed7953\"],[0.7777777777777778,\"#fb9f3a\"],[0.8888888888888888,\"#fdca26\"],[1.0,\"#f0f921\"]]},\"colorway\":[\"#636efa\",\"#EF553B\",\"#00cc96\",\"#ab63fa\",\"#FFA15A\",\"#19d3f3\",\"#FF6692\",\"#B6E880\",\"#FF97FF\",\"#FECB52\"],\"font\":{\"color\":\"#2a3f5f\"},\"geo\":{\"bgcolor\":\"white\",\"lakecolor\":\"white\",\"landcolor\":\"#E5ECF6\",\"showlakes\":true,\"showland\":true,\"subunitcolor\":\"white\"},\"hoverlabel\":{\"align\":\"left\"},\"hovermode\":\"closest\",\"mapbox\":{\"style\":\"light\"},\"paper_bgcolor\":\"white\",\"plot_bgcolor\":\"#E5ECF6\",\"polar\":{\"angularaxis\":{\"gridcolor\":\"white\",\"linecolor\":\"white\",\"ticks\":\"\"},\"bgcolor\":\"#E5ECF6\",\"radialaxis\":{\"gridcolor\":\"white\",\"linecolor\":\"white\",\"ticks\":\"\"}},\"scene\":{\"xaxis\":{\"backgroundcolor\":\"#E5ECF6\",\"gridcolor\":\"white\",\"gridwidth\":2,\"linecolor\":\"white\",\"showbackground\":true,\"ticks\":\"\",\"zerolinecolor\":\"white\"},\"yaxis\":{\"backgroundcolor\":\"#E5ECF6\",\"gridcolor\":\"white\",\"gridwidth\":2,\"linecolor\":\"white\",\"showbackground\":true,\"ticks\":\"\",\"zerolinecolor\":\"white\"},\"zaxis\":{\"backgroundcolor\":\"#E5ECF6\",\"gridcolor\":\"white\",\"gridwidth\":2,\"linecolor\":\"white\",\"showbackground\":true,\"ticks\":\"\",\"zerolinecolor\":\"white\"}},\"shapedefaults\":{\"line\":{\"color\":\"#2a3f5f\"}},\"ternary\":{\"aaxis\":{\"gridcolor\":\"white\",\"linecolor\":\"white\",\"ticks\":\"\"},\"baxis\":{\"gridcolor\":\"white\",\"linecolor\":\"white\",\"ticks\":\"\"},\"bgcolor\":\"#E5ECF6\",\"caxis\":{\"gridcolor\":\"white\",\"linecolor\":\"white\",\"ticks\":\"\"}},\"title\":{\"x\":0.05},\"xaxis\":{\"automargin\":true,\"gridcolor\":\"white\",\"linecolor\":\"white\",\"ticks\":\"\",\"title\":{\"standoff\":15},\"zerolinecolor\":\"white\",\"zerolinewidth\":2},\"yaxis\":{\"automargin\":true,\"gridcolor\":\"white\",\"linecolor\":\"white\",\"ticks\":\"\",\"title\":{\"standoff\":15},\"zerolinecolor\":\"white\",\"zerolinewidth\":2}}},\"xaxis\":{\"anchor\":\"y\",\"domain\":[0.0,1.0],\"title\":{\"text\":\"TIME\"}},\"yaxis\":{\"anchor\":\"x\",\"domain\":[0.0,1.0],\"title\":{\"text\":\"Value\"}},\"legend\":{\"title\":{\"text\":\"LOCATION\"},\"tracegroupgap\":0},\"title\":{\"text\":\"Consumo de carne por ano e pa\\u00eds\"}},                        {\"responsive\": true}                    ).then(function(){\n",
              "                            \n",
              "var gd = document.getElementById('1539ff70-d1c3-4ae1-8c21-18b52e314a06');\n",
              "var x = new MutationObserver(function (mutations, observer) {{\n",
              "        var display = window.getComputedStyle(gd).display;\n",
              "        if (!display || display === 'none') {{\n",
              "            console.log([gd, 'removed!']);\n",
              "            Plotly.purge(gd);\n",
              "            observer.disconnect();\n",
              "        }}\n",
              "}});\n",
              "\n",
              "// Listen for the removal of the full notebook cells\n",
              "var notebookContainer = gd.closest('#notebook-container');\n",
              "if (notebookContainer) {{\n",
              "    x.observe(notebookContainer, {childList: true});\n",
              "}}\n",
              "\n",
              "// Listen for the clearing of the current output cell\n",
              "var outputEl = gd.closest('.output');\n",
              "if (outputEl) {{\n",
              "    x.observe(outputEl, {childList: true});\n",
              "}}\n",
              "\n",
              "                        })                };                            </script>        </div>\n",
              "</body>\n",
              "</html>"
            ]
          },
          "metadata": {}
        }
      ]
    },
    {
      "cell_type": "code",
      "source": [],
      "metadata": {
        "id": "0b_uQL6_OMhK"
      },
      "execution_count": null,
      "outputs": []
    }
  ]
}