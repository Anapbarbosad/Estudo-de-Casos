{
  "nbformat": 4,
  "nbformat_minor": 0,
  "metadata": {
    "colab": {
      "provenance": [],
      "authorship_tag": "ABX9TyMG1cvxkjgL2fvOUYQsBOPB",
      "include_colab_link": true
    },
    "kernelspec": {
      "name": "python3",
      "display_name": "Python 3"
    },
    "language_info": {
      "name": "python"
    }
  },
  "cells": [
    {
      "cell_type": "markdown",
      "metadata": {
        "id": "view-in-github",
        "colab_type": "text"
      },
      "source": [
        "<a href=\"https://colab.research.google.com/github/Anapbarbosad/Estudo-de-Casos/blob/main/EstudosDeCaso_Trabalho.ipynb\" target=\"_parent\"><img src=\"https://colab.research.google.com/assets/colab-badge.svg\" alt=\"Open In Colab\"/></a>"
      ]
    },
    {
      "cell_type": "markdown",
      "source": [
        "O presente trabalho visa mostrar o consumo de carne mundial ao longo dos anos (x-x)\n",
        "As colunas são:\n",
        "\n",
        "LOCATION = Localização, o nome do país\n",
        "\n",
        "SUBJECT= O tipo de animal\n",
        "\n",
        "TIME = O ano da informação\n",
        "\n",
        "MEASURE = Medida (KG_CAP) e (THND_TONNE)\n",
        "\n",
        "VALUE = O valor \n",
        "\n",
        "\n",
        "#inserir: mais com maior e menor consumo, ano com maior e menor consumo, explicação melhorada do objetivo do trabalho"
      ],
      "metadata": {
        "id": "AN511kNHgfG9"
      }
    },
    {
      "cell_type": "code",
      "source": [
        "import pandas as pd\n",
        "import numpy as np\n",
        "import seaborn as sb\n",
        "import matplotlib.pyplot as plt\n",
        "import plotly.express as px\n",
        "\n",
        "#importando bibliotecas"
      ],
      "metadata": {
        "id": "vKJGoIcZdHEJ"
      },
      "execution_count": 91,
      "outputs": []
    },
    {
      "cell_type": "code",
      "execution_count": 92,
      "metadata": {
        "colab": {
          "base_uri": "https://localhost:8080/",
          "height": 424
        },
        "id": "QNYCcCska3oq",
        "outputId": "e359e2d0-2b90-45b6-a622-26fc1ee314dd"
      },
      "outputs": [
        {
          "output_type": "display_data",
          "data": {
            "text/plain": [
              "      LOCATION SUBJECT     MEASURE    TIME      Value\n",
              "0          AUS    BEEF      KG_CAP  1991.0  27.721815\n",
              "1          AUS    BEEF      KG_CAP  1992.0  26.199591\n",
              "2          AUS    BEEF      KG_CAP  1993.0  26.169094\n",
              "3          AUS    BEEF      KG_CAP  1994.0  25.456134\n",
              "4          AUS    BEEF      KG_CAP  1995.0  25.340226\n",
              "...        ...     ...         ...     ...        ...\n",
              "13751      MYS   SHEEP  THND_TONNE  2018.0  41.373219\n",
              "13752      MYS   SHEEP  THND_TONNE  2019.0  42.042755\n",
              "13753      MYS   SHEEP  THND_TONNE  2020.0  42.695193\n",
              "13754      MYS   SHEEP  THND_TONNE  2021.0  43.412791\n",
              "13755      MYS   SHEEP  THND_TONNE  2022.0  44.154151\n",
              "\n",
              "[12256 rows x 5 columns]"
            ],
            "text/html": [
              "\n",
              "  <div id=\"df-680c7d8d-9a19-40b2-af20-54907f277595\">\n",
              "    <div class=\"colab-df-container\">\n",
              "      <div>\n",
              "<style scoped>\n",
              "    .dataframe tbody tr th:only-of-type {\n",
              "        vertical-align: middle;\n",
              "    }\n",
              "\n",
              "    .dataframe tbody tr th {\n",
              "        vertical-align: top;\n",
              "    }\n",
              "\n",
              "    .dataframe thead th {\n",
              "        text-align: right;\n",
              "    }\n",
              "</style>\n",
              "<table border=\"1\" class=\"dataframe\">\n",
              "  <thead>\n",
              "    <tr style=\"text-align: right;\">\n",
              "      <th></th>\n",
              "      <th>LOCATION</th>\n",
              "      <th>SUBJECT</th>\n",
              "      <th>MEASURE</th>\n",
              "      <th>TIME</th>\n",
              "      <th>Value</th>\n",
              "    </tr>\n",
              "  </thead>\n",
              "  <tbody>\n",
              "    <tr>\n",
              "      <th>0</th>\n",
              "      <td>AUS</td>\n",
              "      <td>BEEF</td>\n",
              "      <td>KG_CAP</td>\n",
              "      <td>1991.0</td>\n",
              "      <td>27.721815</td>\n",
              "    </tr>\n",
              "    <tr>\n",
              "      <th>1</th>\n",
              "      <td>AUS</td>\n",
              "      <td>BEEF</td>\n",
              "      <td>KG_CAP</td>\n",
              "      <td>1992.0</td>\n",
              "      <td>26.199591</td>\n",
              "    </tr>\n",
              "    <tr>\n",
              "      <th>2</th>\n",
              "      <td>AUS</td>\n",
              "      <td>BEEF</td>\n",
              "      <td>KG_CAP</td>\n",
              "      <td>1993.0</td>\n",
              "      <td>26.169094</td>\n",
              "    </tr>\n",
              "    <tr>\n",
              "      <th>3</th>\n",
              "      <td>AUS</td>\n",
              "      <td>BEEF</td>\n",
              "      <td>KG_CAP</td>\n",
              "      <td>1994.0</td>\n",
              "      <td>25.456134</td>\n",
              "    </tr>\n",
              "    <tr>\n",
              "      <th>4</th>\n",
              "      <td>AUS</td>\n",
              "      <td>BEEF</td>\n",
              "      <td>KG_CAP</td>\n",
              "      <td>1995.0</td>\n",
              "      <td>25.340226</td>\n",
              "    </tr>\n",
              "    <tr>\n",
              "      <th>...</th>\n",
              "      <td>...</td>\n",
              "      <td>...</td>\n",
              "      <td>...</td>\n",
              "      <td>...</td>\n",
              "      <td>...</td>\n",
              "    </tr>\n",
              "    <tr>\n",
              "      <th>13751</th>\n",
              "      <td>MYS</td>\n",
              "      <td>SHEEP</td>\n",
              "      <td>THND_TONNE</td>\n",
              "      <td>2018.0</td>\n",
              "      <td>41.373219</td>\n",
              "    </tr>\n",
              "    <tr>\n",
              "      <th>13752</th>\n",
              "      <td>MYS</td>\n",
              "      <td>SHEEP</td>\n",
              "      <td>THND_TONNE</td>\n",
              "      <td>2019.0</td>\n",
              "      <td>42.042755</td>\n",
              "    </tr>\n",
              "    <tr>\n",
              "      <th>13753</th>\n",
              "      <td>MYS</td>\n",
              "      <td>SHEEP</td>\n",
              "      <td>THND_TONNE</td>\n",
              "      <td>2020.0</td>\n",
              "      <td>42.695193</td>\n",
              "    </tr>\n",
              "    <tr>\n",
              "      <th>13754</th>\n",
              "      <td>MYS</td>\n",
              "      <td>SHEEP</td>\n",
              "      <td>THND_TONNE</td>\n",
              "      <td>2021.0</td>\n",
              "      <td>43.412791</td>\n",
              "    </tr>\n",
              "    <tr>\n",
              "      <th>13755</th>\n",
              "      <td>MYS</td>\n",
              "      <td>SHEEP</td>\n",
              "      <td>THND_TONNE</td>\n",
              "      <td>2022.0</td>\n",
              "      <td>44.154151</td>\n",
              "    </tr>\n",
              "  </tbody>\n",
              "</table>\n",
              "<p>12256 rows × 5 columns</p>\n",
              "</div>\n",
              "      <button class=\"colab-df-convert\" onclick=\"convertToInteractive('df-680c7d8d-9a19-40b2-af20-54907f277595')\"\n",
              "              title=\"Convert this dataframe to an interactive table.\"\n",
              "              style=\"display:none;\">\n",
              "        \n",
              "  <svg xmlns=\"http://www.w3.org/2000/svg\" height=\"24px\"viewBox=\"0 0 24 24\"\n",
              "       width=\"24px\">\n",
              "    <path d=\"M0 0h24v24H0V0z\" fill=\"none\"/>\n",
              "    <path d=\"M18.56 5.44l.94 2.06.94-2.06 2.06-.94-2.06-.94-.94-2.06-.94 2.06-2.06.94zm-11 1L8.5 8.5l.94-2.06 2.06-.94-2.06-.94L8.5 2.5l-.94 2.06-2.06.94zm10 10l.94 2.06.94-2.06 2.06-.94-2.06-.94-.94-2.06-.94 2.06-2.06.94z\"/><path d=\"M17.41 7.96l-1.37-1.37c-.4-.4-.92-.59-1.43-.59-.52 0-1.04.2-1.43.59L10.3 9.45l-7.72 7.72c-.78.78-.78 2.05 0 2.83L4 21.41c.39.39.9.59 1.41.59.51 0 1.02-.2 1.41-.59l7.78-7.78 2.81-2.81c.8-.78.8-2.07 0-2.86zM5.41 20L4 18.59l7.72-7.72 1.47 1.35L5.41 20z\"/>\n",
              "  </svg>\n",
              "      </button>\n",
              "      \n",
              "  <style>\n",
              "    .colab-df-container {\n",
              "      display:flex;\n",
              "      flex-wrap:wrap;\n",
              "      gap: 12px;\n",
              "    }\n",
              "\n",
              "    .colab-df-convert {\n",
              "      background-color: #E8F0FE;\n",
              "      border: none;\n",
              "      border-radius: 50%;\n",
              "      cursor: pointer;\n",
              "      display: none;\n",
              "      fill: #1967D2;\n",
              "      height: 32px;\n",
              "      padding: 0 0 0 0;\n",
              "      width: 32px;\n",
              "    }\n",
              "\n",
              "    .colab-df-convert:hover {\n",
              "      background-color: #E2EBFA;\n",
              "      box-shadow: 0px 1px 2px rgba(60, 64, 67, 0.3), 0px 1px 3px 1px rgba(60, 64, 67, 0.15);\n",
              "      fill: #174EA6;\n",
              "    }\n",
              "\n",
              "    [theme=dark] .colab-df-convert {\n",
              "      background-color: #3B4455;\n",
              "      fill: #D2E3FC;\n",
              "    }\n",
              "\n",
              "    [theme=dark] .colab-df-convert:hover {\n",
              "      background-color: #434B5C;\n",
              "      box-shadow: 0px 1px 3px 1px rgba(0, 0, 0, 0.15);\n",
              "      filter: drop-shadow(0px 1px 2px rgba(0, 0, 0, 0.3));\n",
              "      fill: #FFFFFF;\n",
              "    }\n",
              "  </style>\n",
              "\n",
              "      <script>\n",
              "        const buttonEl =\n",
              "          document.querySelector('#df-680c7d8d-9a19-40b2-af20-54907f277595 button.colab-df-convert');\n",
              "        buttonEl.style.display =\n",
              "          google.colab.kernel.accessAllowed ? 'block' : 'none';\n",
              "\n",
              "        async function convertToInteractive(key) {\n",
              "          const element = document.querySelector('#df-680c7d8d-9a19-40b2-af20-54907f277595');\n",
              "          const dataTable =\n",
              "            await google.colab.kernel.invokeFunction('convertToInteractive',\n",
              "                                                     [key], {});\n",
              "          if (!dataTable) return;\n",
              "\n",
              "          const docLinkHtml = 'Like what you see? Visit the ' +\n",
              "            '<a target=\"_blank\" href=https://colab.research.google.com/notebooks/data_table.ipynb>data table notebook</a>'\n",
              "            + ' to learn more about interactive tables.';\n",
              "          element.innerHTML = '';\n",
              "          dataTable['output_type'] = 'display_data';\n",
              "          await google.colab.output.renderOutput(dataTable, element);\n",
              "          const docLink = document.createElement('div');\n",
              "          docLink.innerHTML = docLinkHtml;\n",
              "          element.appendChild(docLink);\n",
              "        }\n",
              "      </script>\n",
              "    </div>\n",
              "  </div>\n",
              "  "
            ]
          },
          "metadata": {}
        }
      ],
      "source": [
        "df = pd.read_excel('df.xlsx')\n",
        "df = df.loc[df['TIME'] <= 2022]\n",
        "display(df)\n",
        "#filtrando apenas dados antes ou iguais a 2022"
      ]
    },
    {
      "cell_type": "code",
      "source": [
        "df.shape"
      ],
      "metadata": {
        "colab": {
          "base_uri": "https://localhost:8080/"
        },
        "id": "bfa2QOgQtw1f",
        "outputId": "95ae9a5d-37e6-41e4-c46a-8b318ed56427"
      },
      "execution_count": 93,
      "outputs": [
        {
          "output_type": "execute_result",
          "data": {
            "text/plain": [
              "(12256, 5)"
            ]
          },
          "metadata": {},
          "execution_count": 93
        }
      ]
    },
    {
      "cell_type": "code",
      "source": [
        "df.info()\n",
        "#pegando informações sobre o data frame\n"
      ],
      "metadata": {
        "colab": {
          "base_uri": "https://localhost:8080/"
        },
        "id": "CCflzhPxeY_I",
        "outputId": "8eff07bf-7a32-4eab-b92d-21a6b7424eca"
      },
      "execution_count": 95,
      "outputs": [
        {
          "output_type": "stream",
          "name": "stdout",
          "text": [
            "<class 'pandas.core.frame.DataFrame'>\n",
            "Int64Index: 12256 entries, 0 to 13755\n",
            "Data columns (total 5 columns):\n",
            " #   Column    Non-Null Count  Dtype  \n",
            "---  ------    --------------  -----  \n",
            " 0   LOCATION  12256 non-null  object \n",
            " 1   SUBJECT   12256 non-null  object \n",
            " 2   MEASURE   12256 non-null  object \n",
            " 3   TIME      12256 non-null  float64\n",
            " 4   Value     12256 non-null  float64\n",
            "dtypes: float64(2), object(3)\n",
            "memory usage: 574.5+ KB\n"
          ]
        }
      ]
    },
    {
      "cell_type": "code",
      "source": [
        "df.columns.values\n",
        "\n",
        "#Nome de cada coluna"
      ],
      "metadata": {
        "colab": {
          "base_uri": "https://localhost:8080/"
        },
        "id": "DMM_NTiOegLe",
        "outputId": "505f9bbb-7dd1-4669-e0d9-963d4f63b3f8"
      },
      "execution_count": 96,
      "outputs": [
        {
          "output_type": "execute_result",
          "data": {
            "text/plain": [
              "array(['LOCATION', 'SUBJECT', 'MEASURE', 'TIME', 'Value'], dtype=object)"
            ]
          },
          "metadata": {},
          "execution_count": 96
        }
      ]
    },
    {
      "cell_type": "code",
      "source": [
        "df.head(10)\n",
        "#mostrando os primeiros itens"
      ],
      "metadata": {
        "colab": {
          "base_uri": "https://localhost:8080/",
          "height": 363
        },
        "id": "LYhZeH_9f7Kc",
        "outputId": "19f96bba-ac86-4f2c-9143-7d2c3b1ee314"
      },
      "execution_count": 97,
      "outputs": [
        {
          "output_type": "execute_result",
          "data": {
            "text/plain": [
              "  LOCATION SUBJECT MEASURE    TIME      Value\n",
              "0      AUS    BEEF  KG_CAP  1991.0  27.721815\n",
              "1      AUS    BEEF  KG_CAP  1992.0  26.199591\n",
              "2      AUS    BEEF  KG_CAP  1993.0  26.169094\n",
              "3      AUS    BEEF  KG_CAP  1994.0  25.456134\n",
              "4      AUS    BEEF  KG_CAP  1995.0  25.340226\n",
              "5      AUS    BEEF  KG_CAP  1996.0  27.259104\n",
              "6      AUS    BEEF  KG_CAP  1997.0  28.802913\n",
              "7      AUS    BEEF  KG_CAP  1998.0  26.590477\n",
              "8      AUS    BEEF  KG_CAP  1999.0  27.918283\n",
              "9      AUS    BEEF  KG_CAP  2000.0  26.354624"
            ],
            "text/html": [
              "\n",
              "  <div id=\"df-3f38fdaf-a0c5-4e0f-8960-b534da1da690\">\n",
              "    <div class=\"colab-df-container\">\n",
              "      <div>\n",
              "<style scoped>\n",
              "    .dataframe tbody tr th:only-of-type {\n",
              "        vertical-align: middle;\n",
              "    }\n",
              "\n",
              "    .dataframe tbody tr th {\n",
              "        vertical-align: top;\n",
              "    }\n",
              "\n",
              "    .dataframe thead th {\n",
              "        text-align: right;\n",
              "    }\n",
              "</style>\n",
              "<table border=\"1\" class=\"dataframe\">\n",
              "  <thead>\n",
              "    <tr style=\"text-align: right;\">\n",
              "      <th></th>\n",
              "      <th>LOCATION</th>\n",
              "      <th>SUBJECT</th>\n",
              "      <th>MEASURE</th>\n",
              "      <th>TIME</th>\n",
              "      <th>Value</th>\n",
              "    </tr>\n",
              "  </thead>\n",
              "  <tbody>\n",
              "    <tr>\n",
              "      <th>0</th>\n",
              "      <td>AUS</td>\n",
              "      <td>BEEF</td>\n",
              "      <td>KG_CAP</td>\n",
              "      <td>1991.0</td>\n",
              "      <td>27.721815</td>\n",
              "    </tr>\n",
              "    <tr>\n",
              "      <th>1</th>\n",
              "      <td>AUS</td>\n",
              "      <td>BEEF</td>\n",
              "      <td>KG_CAP</td>\n",
              "      <td>1992.0</td>\n",
              "      <td>26.199591</td>\n",
              "    </tr>\n",
              "    <tr>\n",
              "      <th>2</th>\n",
              "      <td>AUS</td>\n",
              "      <td>BEEF</td>\n",
              "      <td>KG_CAP</td>\n",
              "      <td>1993.0</td>\n",
              "      <td>26.169094</td>\n",
              "    </tr>\n",
              "    <tr>\n",
              "      <th>3</th>\n",
              "      <td>AUS</td>\n",
              "      <td>BEEF</td>\n",
              "      <td>KG_CAP</td>\n",
              "      <td>1994.0</td>\n",
              "      <td>25.456134</td>\n",
              "    </tr>\n",
              "    <tr>\n",
              "      <th>4</th>\n",
              "      <td>AUS</td>\n",
              "      <td>BEEF</td>\n",
              "      <td>KG_CAP</td>\n",
              "      <td>1995.0</td>\n",
              "      <td>25.340226</td>\n",
              "    </tr>\n",
              "    <tr>\n",
              "      <th>5</th>\n",
              "      <td>AUS</td>\n",
              "      <td>BEEF</td>\n",
              "      <td>KG_CAP</td>\n",
              "      <td>1996.0</td>\n",
              "      <td>27.259104</td>\n",
              "    </tr>\n",
              "    <tr>\n",
              "      <th>6</th>\n",
              "      <td>AUS</td>\n",
              "      <td>BEEF</td>\n",
              "      <td>KG_CAP</td>\n",
              "      <td>1997.0</td>\n",
              "      <td>28.802913</td>\n",
              "    </tr>\n",
              "    <tr>\n",
              "      <th>7</th>\n",
              "      <td>AUS</td>\n",
              "      <td>BEEF</td>\n",
              "      <td>KG_CAP</td>\n",
              "      <td>1998.0</td>\n",
              "      <td>26.590477</td>\n",
              "    </tr>\n",
              "    <tr>\n",
              "      <th>8</th>\n",
              "      <td>AUS</td>\n",
              "      <td>BEEF</td>\n",
              "      <td>KG_CAP</td>\n",
              "      <td>1999.0</td>\n",
              "      <td>27.918283</td>\n",
              "    </tr>\n",
              "    <tr>\n",
              "      <th>9</th>\n",
              "      <td>AUS</td>\n",
              "      <td>BEEF</td>\n",
              "      <td>KG_CAP</td>\n",
              "      <td>2000.0</td>\n",
              "      <td>26.354624</td>\n",
              "    </tr>\n",
              "  </tbody>\n",
              "</table>\n",
              "</div>\n",
              "      <button class=\"colab-df-convert\" onclick=\"convertToInteractive('df-3f38fdaf-a0c5-4e0f-8960-b534da1da690')\"\n",
              "              title=\"Convert this dataframe to an interactive table.\"\n",
              "              style=\"display:none;\">\n",
              "        \n",
              "  <svg xmlns=\"http://www.w3.org/2000/svg\" height=\"24px\"viewBox=\"0 0 24 24\"\n",
              "       width=\"24px\">\n",
              "    <path d=\"M0 0h24v24H0V0z\" fill=\"none\"/>\n",
              "    <path d=\"M18.56 5.44l.94 2.06.94-2.06 2.06-.94-2.06-.94-.94-2.06-.94 2.06-2.06.94zm-11 1L8.5 8.5l.94-2.06 2.06-.94-2.06-.94L8.5 2.5l-.94 2.06-2.06.94zm10 10l.94 2.06.94-2.06 2.06-.94-2.06-.94-.94-2.06-.94 2.06-2.06.94z\"/><path d=\"M17.41 7.96l-1.37-1.37c-.4-.4-.92-.59-1.43-.59-.52 0-1.04.2-1.43.59L10.3 9.45l-7.72 7.72c-.78.78-.78 2.05 0 2.83L4 21.41c.39.39.9.59 1.41.59.51 0 1.02-.2 1.41-.59l7.78-7.78 2.81-2.81c.8-.78.8-2.07 0-2.86zM5.41 20L4 18.59l7.72-7.72 1.47 1.35L5.41 20z\"/>\n",
              "  </svg>\n",
              "      </button>\n",
              "      \n",
              "  <style>\n",
              "    .colab-df-container {\n",
              "      display:flex;\n",
              "      flex-wrap:wrap;\n",
              "      gap: 12px;\n",
              "    }\n",
              "\n",
              "    .colab-df-convert {\n",
              "      background-color: #E8F0FE;\n",
              "      border: none;\n",
              "      border-radius: 50%;\n",
              "      cursor: pointer;\n",
              "      display: none;\n",
              "      fill: #1967D2;\n",
              "      height: 32px;\n",
              "      padding: 0 0 0 0;\n",
              "      width: 32px;\n",
              "    }\n",
              "\n",
              "    .colab-df-convert:hover {\n",
              "      background-color: #E2EBFA;\n",
              "      box-shadow: 0px 1px 2px rgba(60, 64, 67, 0.3), 0px 1px 3px 1px rgba(60, 64, 67, 0.15);\n",
              "      fill: #174EA6;\n",
              "    }\n",
              "\n",
              "    [theme=dark] .colab-df-convert {\n",
              "      background-color: #3B4455;\n",
              "      fill: #D2E3FC;\n",
              "    }\n",
              "\n",
              "    [theme=dark] .colab-df-convert:hover {\n",
              "      background-color: #434B5C;\n",
              "      box-shadow: 0px 1px 3px 1px rgba(0, 0, 0, 0.15);\n",
              "      filter: drop-shadow(0px 1px 2px rgba(0, 0, 0, 0.3));\n",
              "      fill: #FFFFFF;\n",
              "    }\n",
              "  </style>\n",
              "\n",
              "      <script>\n",
              "        const buttonEl =\n",
              "          document.querySelector('#df-3f38fdaf-a0c5-4e0f-8960-b534da1da690 button.colab-df-convert');\n",
              "        buttonEl.style.display =\n",
              "          google.colab.kernel.accessAllowed ? 'block' : 'none';\n",
              "\n",
              "        async function convertToInteractive(key) {\n",
              "          const element = document.querySelector('#df-3f38fdaf-a0c5-4e0f-8960-b534da1da690');\n",
              "          const dataTable =\n",
              "            await google.colab.kernel.invokeFunction('convertToInteractive',\n",
              "                                                     [key], {});\n",
              "          if (!dataTable) return;\n",
              "\n",
              "          const docLinkHtml = 'Like what you see? Visit the ' +\n",
              "            '<a target=\"_blank\" href=https://colab.research.google.com/notebooks/data_table.ipynb>data table notebook</a>'\n",
              "            + ' to learn more about interactive tables.';\n",
              "          element.innerHTML = '';\n",
              "          dataTable['output_type'] = 'display_data';\n",
              "          await google.colab.output.renderOutput(dataTable, element);\n",
              "          const docLink = document.createElement('div');\n",
              "          docLink.innerHTML = docLinkHtml;\n",
              "          element.appendChild(docLink);\n",
              "        }\n",
              "      </script>\n",
              "    </div>\n",
              "  </div>\n",
              "  "
            ]
          },
          "metadata": {},
          "execution_count": 97
        }
      ]
    },
    {
      "cell_type": "code",
      "source": [
        "df.tail(10)\n",
        "#mostrando os 10 ultimos itens "
      ],
      "metadata": {
        "colab": {
          "base_uri": "https://localhost:8080/",
          "height": 363
        },
        "id": "6t1kGI2FgJeQ",
        "outputId": "4bca5c8a-5b4a-4a75-b495-7bee9b0a452d"
      },
      "execution_count": 98,
      "outputs": [
        {
          "output_type": "execute_result",
          "data": {
            "text/plain": [
              "      LOCATION SUBJECT     MEASURE    TIME      Value\n",
              "13746      MYS   SHEEP  THND_TONNE  2013.0  27.000000\n",
              "13747      MYS   SHEEP  THND_TONNE  2014.0  33.000000\n",
              "13748      MYS   SHEEP  THND_TONNE  2015.0  36.000000\n",
              "13749      MYS   SHEEP  THND_TONNE  2016.0  40.000000\n",
              "13750      MYS   SHEEP  THND_TONNE  2017.0  40.612340\n",
              "13751      MYS   SHEEP  THND_TONNE  2018.0  41.373219\n",
              "13752      MYS   SHEEP  THND_TONNE  2019.0  42.042755\n",
              "13753      MYS   SHEEP  THND_TONNE  2020.0  42.695193\n",
              "13754      MYS   SHEEP  THND_TONNE  2021.0  43.412791\n",
              "13755      MYS   SHEEP  THND_TONNE  2022.0  44.154151"
            ],
            "text/html": [
              "\n",
              "  <div id=\"df-a2f98be6-14e4-43cf-99da-e57bf31fe934\">\n",
              "    <div class=\"colab-df-container\">\n",
              "      <div>\n",
              "<style scoped>\n",
              "    .dataframe tbody tr th:only-of-type {\n",
              "        vertical-align: middle;\n",
              "    }\n",
              "\n",
              "    .dataframe tbody tr th {\n",
              "        vertical-align: top;\n",
              "    }\n",
              "\n",
              "    .dataframe thead th {\n",
              "        text-align: right;\n",
              "    }\n",
              "</style>\n",
              "<table border=\"1\" class=\"dataframe\">\n",
              "  <thead>\n",
              "    <tr style=\"text-align: right;\">\n",
              "      <th></th>\n",
              "      <th>LOCATION</th>\n",
              "      <th>SUBJECT</th>\n",
              "      <th>MEASURE</th>\n",
              "      <th>TIME</th>\n",
              "      <th>Value</th>\n",
              "    </tr>\n",
              "  </thead>\n",
              "  <tbody>\n",
              "    <tr>\n",
              "      <th>13746</th>\n",
              "      <td>MYS</td>\n",
              "      <td>SHEEP</td>\n",
              "      <td>THND_TONNE</td>\n",
              "      <td>2013.0</td>\n",
              "      <td>27.000000</td>\n",
              "    </tr>\n",
              "    <tr>\n",
              "      <th>13747</th>\n",
              "      <td>MYS</td>\n",
              "      <td>SHEEP</td>\n",
              "      <td>THND_TONNE</td>\n",
              "      <td>2014.0</td>\n",
              "      <td>33.000000</td>\n",
              "    </tr>\n",
              "    <tr>\n",
              "      <th>13748</th>\n",
              "      <td>MYS</td>\n",
              "      <td>SHEEP</td>\n",
              "      <td>THND_TONNE</td>\n",
              "      <td>2015.0</td>\n",
              "      <td>36.000000</td>\n",
              "    </tr>\n",
              "    <tr>\n",
              "      <th>13749</th>\n",
              "      <td>MYS</td>\n",
              "      <td>SHEEP</td>\n",
              "      <td>THND_TONNE</td>\n",
              "      <td>2016.0</td>\n",
              "      <td>40.000000</td>\n",
              "    </tr>\n",
              "    <tr>\n",
              "      <th>13750</th>\n",
              "      <td>MYS</td>\n",
              "      <td>SHEEP</td>\n",
              "      <td>THND_TONNE</td>\n",
              "      <td>2017.0</td>\n",
              "      <td>40.612340</td>\n",
              "    </tr>\n",
              "    <tr>\n",
              "      <th>13751</th>\n",
              "      <td>MYS</td>\n",
              "      <td>SHEEP</td>\n",
              "      <td>THND_TONNE</td>\n",
              "      <td>2018.0</td>\n",
              "      <td>41.373219</td>\n",
              "    </tr>\n",
              "    <tr>\n",
              "      <th>13752</th>\n",
              "      <td>MYS</td>\n",
              "      <td>SHEEP</td>\n",
              "      <td>THND_TONNE</td>\n",
              "      <td>2019.0</td>\n",
              "      <td>42.042755</td>\n",
              "    </tr>\n",
              "    <tr>\n",
              "      <th>13753</th>\n",
              "      <td>MYS</td>\n",
              "      <td>SHEEP</td>\n",
              "      <td>THND_TONNE</td>\n",
              "      <td>2020.0</td>\n",
              "      <td>42.695193</td>\n",
              "    </tr>\n",
              "    <tr>\n",
              "      <th>13754</th>\n",
              "      <td>MYS</td>\n",
              "      <td>SHEEP</td>\n",
              "      <td>THND_TONNE</td>\n",
              "      <td>2021.0</td>\n",
              "      <td>43.412791</td>\n",
              "    </tr>\n",
              "    <tr>\n",
              "      <th>13755</th>\n",
              "      <td>MYS</td>\n",
              "      <td>SHEEP</td>\n",
              "      <td>THND_TONNE</td>\n",
              "      <td>2022.0</td>\n",
              "      <td>44.154151</td>\n",
              "    </tr>\n",
              "  </tbody>\n",
              "</table>\n",
              "</div>\n",
              "      <button class=\"colab-df-convert\" onclick=\"convertToInteractive('df-a2f98be6-14e4-43cf-99da-e57bf31fe934')\"\n",
              "              title=\"Convert this dataframe to an interactive table.\"\n",
              "              style=\"display:none;\">\n",
              "        \n",
              "  <svg xmlns=\"http://www.w3.org/2000/svg\" height=\"24px\"viewBox=\"0 0 24 24\"\n",
              "       width=\"24px\">\n",
              "    <path d=\"M0 0h24v24H0V0z\" fill=\"none\"/>\n",
              "    <path d=\"M18.56 5.44l.94 2.06.94-2.06 2.06-.94-2.06-.94-.94-2.06-.94 2.06-2.06.94zm-11 1L8.5 8.5l.94-2.06 2.06-.94-2.06-.94L8.5 2.5l-.94 2.06-2.06.94zm10 10l.94 2.06.94-2.06 2.06-.94-2.06-.94-.94-2.06-.94 2.06-2.06.94z\"/><path d=\"M17.41 7.96l-1.37-1.37c-.4-.4-.92-.59-1.43-.59-.52 0-1.04.2-1.43.59L10.3 9.45l-7.72 7.72c-.78.78-.78 2.05 0 2.83L4 21.41c.39.39.9.59 1.41.59.51 0 1.02-.2 1.41-.59l7.78-7.78 2.81-2.81c.8-.78.8-2.07 0-2.86zM5.41 20L4 18.59l7.72-7.72 1.47 1.35L5.41 20z\"/>\n",
              "  </svg>\n",
              "      </button>\n",
              "      \n",
              "  <style>\n",
              "    .colab-df-container {\n",
              "      display:flex;\n",
              "      flex-wrap:wrap;\n",
              "      gap: 12px;\n",
              "    }\n",
              "\n",
              "    .colab-df-convert {\n",
              "      background-color: #E8F0FE;\n",
              "      border: none;\n",
              "      border-radius: 50%;\n",
              "      cursor: pointer;\n",
              "      display: none;\n",
              "      fill: #1967D2;\n",
              "      height: 32px;\n",
              "      padding: 0 0 0 0;\n",
              "      width: 32px;\n",
              "    }\n",
              "\n",
              "    .colab-df-convert:hover {\n",
              "      background-color: #E2EBFA;\n",
              "      box-shadow: 0px 1px 2px rgba(60, 64, 67, 0.3), 0px 1px 3px 1px rgba(60, 64, 67, 0.15);\n",
              "      fill: #174EA6;\n",
              "    }\n",
              "\n",
              "    [theme=dark] .colab-df-convert {\n",
              "      background-color: #3B4455;\n",
              "      fill: #D2E3FC;\n",
              "    }\n",
              "\n",
              "    [theme=dark] .colab-df-convert:hover {\n",
              "      background-color: #434B5C;\n",
              "      box-shadow: 0px 1px 3px 1px rgba(0, 0, 0, 0.15);\n",
              "      filter: drop-shadow(0px 1px 2px rgba(0, 0, 0, 0.3));\n",
              "      fill: #FFFFFF;\n",
              "    }\n",
              "  </style>\n",
              "\n",
              "      <script>\n",
              "        const buttonEl =\n",
              "          document.querySelector('#df-a2f98be6-14e4-43cf-99da-e57bf31fe934 button.colab-df-convert');\n",
              "        buttonEl.style.display =\n",
              "          google.colab.kernel.accessAllowed ? 'block' : 'none';\n",
              "\n",
              "        async function convertToInteractive(key) {\n",
              "          const element = document.querySelector('#df-a2f98be6-14e4-43cf-99da-e57bf31fe934');\n",
              "          const dataTable =\n",
              "            await google.colab.kernel.invokeFunction('convertToInteractive',\n",
              "                                                     [key], {});\n",
              "          if (!dataTable) return;\n",
              "\n",
              "          const docLinkHtml = 'Like what you see? Visit the ' +\n",
              "            '<a target=\"_blank\" href=https://colab.research.google.com/notebooks/data_table.ipynb>data table notebook</a>'\n",
              "            + ' to learn more about interactive tables.';\n",
              "          element.innerHTML = '';\n",
              "          dataTable['output_type'] = 'display_data';\n",
              "          await google.colab.output.renderOutput(dataTable, element);\n",
              "          const docLink = document.createElement('div');\n",
              "          docLink.innerHTML = docLinkHtml;\n",
              "          element.appendChild(docLink);\n",
              "        }\n",
              "      </script>\n",
              "    </div>\n",
              "  </div>\n",
              "  "
            ]
          },
          "metadata": {},
          "execution_count": 98
        }
      ]
    },
    {
      "cell_type": "code",
      "source": [
        "print(df['LOCATION'].unique())\n",
        "\n",
        "#Listando os países do dataframe\n",
        "\n"
      ],
      "metadata": {
        "colab": {
          "base_uri": "https://localhost:8080/"
        },
        "id": "Dj8BEjq1uBl1",
        "outputId": "b95004a4-ebce-4589-b145-52282a4abec8"
      },
      "execution_count": 99,
      "outputs": [
        {
          "output_type": "stream",
          "name": "stdout",
          "text": [
            "['AUS' 'CAN' 'JPN' 'KOR' 'MEX' 'NZL' 'TUR' 'USA' 'DZA' 'ARG' 'BGD' 'BRA'\n",
            " 'CHL' 'CHN' 'COL' 'EGY' 'ETH' 'GHA' 'HTI' 'IND' 'IDN' 'IRN' 'ISR' 'KAZ'\n",
            " 'MYS' 'MOZ' 'NGA' 'PAK' 'PRY' 'PER' 'PHL' 'RUS' 'SAU' 'ZAF' 'SDN' 'TZA'\n",
            " 'THA' 'UKR' 'URY' 'VNM' 'ZMB' 'WLD' 'SSA' 'OECD' 'BRICS' 'EU28' 'NOR'\n",
            " 'CHE']\n"
          ]
        }
      ]
    },
    {
      "cell_type": "code",
      "source": [
        "print(df['SUBJECT'].unique())\n",
        "#Listando os tipos de carne do dataframe\n"
      ],
      "metadata": {
        "colab": {
          "base_uri": "https://localhost:8080/"
        },
        "id": "NG65kCbuuScD",
        "outputId": "cdf455a2-932e-4e4e-8d37-3412da34907e"
      },
      "execution_count": 100,
      "outputs": [
        {
          "output_type": "stream",
          "name": "stdout",
          "text": [
            "['BEEF' 'PIG' 'POULTRY' 'SHEEP']\n"
          ]
        }
      ]
    },
    {
      "cell_type": "code",
      "source": [
        "meat = df.groupby(by='SUBJECT')['Value'].sum().reset_index().sort_values('Value', ascending=False)\n",
        "meat\n",
        "\n",
        "labels = meat['SUBJECT']\n",
        "values = meat['Value']\n",
        "plt.figure(figsize=(5,5))\n",
        "plt.pie(values, labels=labels, autopct = '%1.2f%%', startangle=0,explode = (0.1, 0.04, 0.01, 0.01),)\n",
        "plt.title('  Consumo mundial de carne em porcentagens')\n",
        "plt.show()\n",
        "\n",
        "plt.figure(figsize=(5,5))\n",
        "sb.barplot(x = meat['SUBJECT'], y = meat['Value'], data=meat)\n",
        "plt.title('Consumo mundial de carne')\n",
        "plt.xticks(rotation=90)\n",
        "\n",
        "#É possível perceber que a carne de porco é a mais consumida em termos mundiais, seguida de aves, bovina e de carneiro.\n"
      ],
      "metadata": {
        "colab": {
          "base_uri": "https://localhost:8080/",
          "height": 702
        },
        "id": "CxWoFZccuvZX",
        "outputId": "b42802d0-c265-4299-a5cf-1345bc6d4cfd"
      },
      "execution_count": 121,
      "outputs": [
        {
          "output_type": "display_data",
          "data": {
            "text/plain": [
              "<Figure size 360x360 with 1 Axes>"
            ],
            "image/png": "[encoded data removed]"
          },
          "metadata": {}
        },
        {
          "output_type": "execute_result",
          "data": {
            "text/plain": [
              "(array([0, 1, 2, 3]), <a list of 4 Text major ticklabel objects>)"
            ]
          },
          "metadata": {},
          "execution_count": 121
        },
        {
          "output_type": "display_data",
          "data": {
            "text/plain": [
              "<Figure size 360x360 with 1 Axes>"
            ],
            "image/png": "[encoded data removed]"
          },
          "metadata": {
            "needs_background": "light"
          }
        }
      ]
    },
    {
      "cell_type": "code",
      "source": [
        "time = df.groupby(by=['TIME'])['Value'].sum().reset_index().sort_values('TIME', ascending=True)\n",
        "plt.figure(figsize=(7,5))\n",
        "sb.lineplot(x=time['TIME'], y = time['Value'])\n",
        "plt.show()\n",
        "\n",
        "#É possível perceber que o consumo de Carne aumentou "
      ],
      "metadata": {
        "colab": {
          "base_uri": "https://localhost:8080/",
          "height": 334
        },
        "id": "5O7o0MozvG9m",
        "outputId": "d00a579a-8e8f-44c3-d9a5-5488188c9aa2"
      },
      "execution_count": 103,
      "outputs": [
        {
          "output_type": "display_data",
          "data": {
            "text/plain": [
              "<Figure size 504x360 with 1 Axes>"
            ],
            "image/png": "[encoded data removed]"
          },
          "metadata": {
            "needs_background": "light"
          }
        }
      ]
    },
    {
      "cell_type": "code",
      "source": [
        "df['LOCATION'].value_counts()\n",
        "\n",
        "#Verificando quantos dados sobre cada país estão no dataframe"
      ],
      "metadata": {
        "colab": {
          "base_uri": "https://localhost:8080/"
        },
        "id": "6LasLmRNzzNv",
        "outputId": "1a10d759-c8df-475c-e52e-398b83de1935"
      },
      "execution_count": 109,
      "outputs": [
        {
          "output_type": "execute_result",
          "data": {
            "text/plain": [
              "MYS      264\n",
              "THA      264\n",
              "IDN      264\n",
              "IRN      264\n",
              "ISR      264\n",
              "VNM      264\n",
              "CAN      264\n",
              "MOZ      264\n",
              "NGA      264\n",
              "PAK      264\n",
              "PRY      264\n",
              "PER      264\n",
              "PHL      264\n",
              "URY      264\n",
              "SAU      264\n",
              "ZAF      264\n",
              "SDN      264\n",
              "IND      264\n",
              "HTI      264\n",
              "GHA      264\n",
              "DZA      264\n",
              "JPN      264\n",
              "SSA      264\n",
              "MEX      264\n",
              "NZL      264\n",
              "TUR      264\n",
              "USA      264\n",
              "TZA      264\n",
              "ZMB      264\n",
              "BGD      264\n",
              "BRA      264\n",
              "CHL      264\n",
              "COL      264\n",
              "EGY      264\n",
              "CHN      262\n",
              "ARG      262\n",
              "AUS      260\n",
              "KOR      260\n",
              "UKR      256\n",
              "KAZ      256\n",
              "ETH      252\n",
              "RUS      246\n",
              "BRICS    246\n",
              "EU28     244\n",
              "OECD     242\n",
              "WLD      230\n",
              "NOR      132\n",
              "CHE      132\n",
              "Name: LOCATION, dtype: int64"
            ]
          },
          "metadata": {},
          "execution_count": 109
        }
      ]
    },
    {
      "cell_type": "code",
      "source": [
        "df.groupby(['LOCATION'])['Value'].mean().sort_values(ascending=False)\n",
        "#O país que mais consome carne em média é a China. \n"
      ],
      "metadata": {
        "colab": {
          "base_uri": "https://localhost:8080/"
        },
        "id": "RwBgqqYA3gh-",
        "outputId": "96c4c465-541b-4fea-eeff-fc48df53b717"
      },
      "execution_count": 133,
      "outputs": [
        {
          "output_type": "execute_result",
          "data": {
            "text/plain": [
              "LOCATION\n",
              "WLD      33542.506864\n",
              "BRICS    12725.248687\n",
              "OECD     12655.175333\n",
              "CHN       8468.982089\n",
              "EU28      5275.850251\n",
              "USA       4505.582662\n",
              "BRA       1972.000259\n",
              "RUS       1119.306824\n",
              "SSA        976.425796\n",
              "MEX        725.719843\n",
              "JPN        684.900803\n",
              "IND        557.637178\n",
              "ARG        521.695389\n",
              "VNM        473.039795\n",
              "CAN        383.890609\n",
              "PHL        342.560501\n",
              "IDN        330.129203\n",
              "KOR        324.799977\n",
              "ZAF        312.643463\n",
              "AUS        305.589233\n",
              "UKR        293.914306\n",
              "PAK        292.445672\n",
              "IRN        267.167162\n",
              "TUR        244.874263\n",
              "COL        243.192720\n",
              "THA        222.238246\n",
              "EGY        220.188496\n",
              "MYS        190.527732\n",
              "SAU        176.720096\n",
              "CHL        156.060216\n",
              "PER        148.890418\n",
              "NGA        138.933179\n",
              "CHE        135.517019\n",
              "KAZ        127.032176\n",
              "SDN         88.385729\n",
              "ISR         88.179534\n",
              "DZA         86.917083\n",
              "NOR         75.699419\n",
              "BGD         65.215226\n",
              "ETH         64.651227\n",
              "NZL         59.810854\n",
              "PRY         56.196200\n",
              "TZA         51.018590\n",
              "URY         50.783472\n",
              "GHA         25.346412\n",
              "ZMB         23.848151\n",
              "MOZ         23.219807\n",
              "HTI         17.983110\n",
              "Name: Value, dtype: float64"
            ]
          },
          "metadata": {},
          "execution_count": 133
        }
      ]
    },
    {
      "cell_type": "code",
      "source": [
        "fig=px.line(df_copy,x=\"TIME\", y=\"Value\",color=\"LOCATION\",title=  'Consumo de carne por ano e país')\n",
        "fig.show() \n",
        "df_year_total=df_copy.groupby(['TIME'])['Value'].agg('sum').reset_index()\n",
        "\n"
      ],
      "metadata": {
        "colab": {
          "base_uri": "https://localhost:8080/",
          "height": 542
        },
        "id": "BuOFVv6O1USz",
        "outputId": "56730516-4157-443e-cf97-0567f1672b7b"
      },
      "execution_count": 153,
      "outputs": [
        {
          "output_type": "display_data",
          "data": {
            "text/html": [
              "<html>\n",
              "<head><meta charset=\"utf-8\" /></head>\n",
              "<body>\n",
              "    <div>            <script src=\"https://cdnjs.cloudflare.com/ajax/libs/mathjax/2.7.5/MathJax.js?config=TeX-AMS-MML_SVG\"></script><script type=\"text/javascript\">if (window.MathJax) {MathJax.Hub.Config({SVG: {font: \"STIX-Web\"}});}</script>                <script type=\"text/javascript\">window.PlotlyConfig = {MathJaxConfig: 'local'};</script>\n",
              "        <script src=\"https://cdn.plot.ly/plotly-2.8.3.min.js\"></script>                <div id=\"47df99f2-7b25-4dda-b820-b33f28d0fd72\" class=\"plotly-graph-div\" style=\"height:525px; width:100%;\"></div>            <script type=\"text/javascript\">                                    window.PLOTLYENV=window.PLOTLYENV || {};                                    if (document.getElementById(\"47df99f2-7b25-4dda-b820-b33f28d0fd72\")) {                    Plotly.newPlot(                        \"47df99f2-7b25-4dda-b820-b33f28d0fd72\",                        [{\"hovertemplate\":\"LOCATION=ARG<br>TIME=%{x}<br>Value=%{y}<extra></extra>\",\"legendgroup\":\"ARG\",\"line\":{\"color\":\"#636efa\",\"dash\":\"solid\"},\"marker\":{\"symbol\":\"circle\"},\"mode\":\"lines\",\"name\":\"ARG\",\"showlegend\":true,\"x\":[1990.0,1991.0,1992.0,1993.0,1994.0,1995.0,1996.0,1997.0,1998.0,1999.0,2000.0,2001.0,2002.0,2003.0,2004.0,2005.0,2006.0,2007.0,2008.0,2009.0,2010.0,2011.0,2012.0,2013.0,2014.0,2015.0,2016.0,2017.0,2018.0,2019.0,2020.0,2021.0,2022.0],\"xaxis\":\"x\",\"y\":[3080.373,3083.089002086163,3292.990999564141,3505.2439989122154,3420.9260033825644,3292.6289066025342,3289.073912264977,3379.550909880781,3411.103116625666,3686.295931585277,3660.2648418249883,3290.5066395534473,3151.243840585438,3353.659169234041,3606.4189810197804,3759.531101048594,3962.95630359673,4303.14742929182,4400.498273962278,4501.529989935139,4283.6323302923565,4300.7163,4409.38177867077,4678.348731999999,4594.8727176994225,4928.946570645713,4840.510258098245,5055.64140264615,5079.455217065553,5085.774303612319,5122.567571311462,5159.1783997089005,5148.746061210465],\"yaxis\":\"y\",\"type\":\"scattergl\"},{\"hovertemplate\":\"LOCATION=AUS<br>TIME=%{x}<br>Value=%{y}<extra></extra>\",\"legendgroup\":\"AUS\",\"line\":{\"color\":\"#EF553B\",\"dash\":\"solid\"},\"marker\":{\"symbol\":\"circle\"},\"mode\":\"lines\",\"name\":\"AUS\",\"showlegend\":true,\"x\":[1990.0,1991.0,1992.0,1993.0,1994.0,1995.0,1996.0,1997.0,1998.0,1999.0,2000.0,2001.0,2002.0,2003.0,2004.0,2005.0,2006.0,2007.0,2008.0,2009.0,2010.0,2011.0,2012.0,2013.0,2014.0,2015.0,2016.0,2017.0,2018.0,2019.0,2020.0,2021.0,2022.0],\"xaxis\":\"x\",\"y\":[789.3576751,1819.438927399999,1791.690411799999,1819.8739761,1873.87846992,1811.0916691799998,1858.8239402,1956.87168438,1979.01293437,2034.72727958,2078.97286662,2009.199032199999,2111.82683627,2131.5888283100003,2273.8240605399988,2316.4133349599997,2376.3327025999997,2376.924427699999,2312.3845403699997,2368.71371142536,2547.427450507048,2534.5203613125,2613.49206658712,2676.91809003673,2679.608284739499,2719.732284237178,2844.8042416465432,2874.26727874297,2919.762418923276,2958.0741186367204,3002.680095933678,3038.00601432875,3071.011565695609],\"yaxis\":\"y\",\"type\":\"scattergl\"},{\"hovertemplate\":\"LOCATION=BGD<br>TIME=%{x}<br>Value=%{y}<extra></extra>\",\"legendgroup\":\"BGD\",\"line\":{\"color\":\"#00cc96\",\"dash\":\"solid\"},\"marker\":{\"symbol\":\"circle\"},\"mode\":\"lines\",\"name\":\"BGD\",\"showlegend\":true,\"x\":[1990.0,1991.0,1992.0,1993.0,1994.0,1995.0,1996.0,1997.0,1998.0,1999.0,2000.0,2001.0,2002.0,2003.0,2004.0,2005.0,2006.0,2007.0,2008.0,2009.0,2010.0,2011.0,2012.0,2013.0,2014.0,2015.0,2016.0,2017.0,2018.0,2019.0,2020.0,2021.0,2022.0],\"xaxis\":\"x\",\"y\":[299.00009,307.00009,319.00009,335.00009,348.00009,361.00009,393.00009,419.00009,405.00009,416.00009,420.00009,423.00009,437.00009,470.00009,492.00009,511.00009,534.00009,552.00009,562.00009,579.00009,594.00009,612.00009,620.00009,628.00009,632.00009,641.00009,646.00009,658.018283940858,668.755573726991,682.250567059092,699.550615382648,718.364303931777,738.58024525794],\"yaxis\":\"y\",\"type\":\"scattergl\"},{\"hovertemplate\":\"LOCATION=BRA<br>TIME=%{x}<br>Value=%{y}<extra></extra>\",\"legendgroup\":\"BRA\",\"line\":{\"color\":\"#ab63fa\",\"dash\":\"solid\"},\"marker\":{\"symbol\":\"circle\"},\"mode\":\"lines\",\"name\":\"BRA\",\"showlegend\":true,\"x\":[1990.0,1991.0,1992.0,1993.0,1994.0,1995.0,1996.0,1997.0,1998.0,1999.0,2000.0,2001.0,2002.0,2003.0,2004.0,2005.0,2006.0,2007.0,2008.0,2009.0,2010.0,2011.0,2012.0,2013.0,2014.0,2015.0,2016.0,2017.0,2018.0,2019.0,2020.0,2021.0,2022.0],\"xaxis\":\"x\",\"y\":[7352.659355541401,7745.29378801498,7940.855247849382,8309.511328870292,9189.356948965507,10521.393262876634,11132.817616149303,11342.143988437636,11745.133394,12361.52846699999,13807.345278,14203.66285599999,14863.64038999999,14572.238583,14851.91154199999,15270.77161199999,15730.743675,16827.512428944392,17519.647327281,18016.8734481152,18769.11581124579,19287.8556335596,19341.135738999998,19454.57306607,19863.072964044808,19983.0442429463,20302.975203540413,20867.017150779655,21083.858987633877,21282.630808356633,21442.993466953034,21632.09369651125,21863.75047174551],\"yaxis\":\"y\",\"type\":\"scattergl\"},{\"hovertemplate\":\"LOCATION=BRICS<br>TIME=%{x}<br>Value=%{y}<extra></extra>\",\"legendgroup\":\"BRICS\",\"line\":{\"color\":\"#FFA15A\",\"dash\":\"solid\"},\"marker\":{\"symbol\":\"circle\"},\"mode\":\"lines\",\"name\":\"BRICS\",\"showlegend\":true,\"x\":[1992.0,1993.0,1994.0,1995.0,1996.0,1997.0,1998.0,1999.0,2000.0,2001.0,2002.0,2003.0,2004.0,2005.0,2006.0,2007.0,2008.0,2009.0,2010.0,2011.0,2012.0,2013.0,2014.0,2015.0,2016.0,2017.0,2018.0,2019.0,2020.0,2021.0,2022.0],\"xaxis\":\"x\",\"y\":[25079.704246323498,59837.2766558127,65649.20994094323,70208.04895803273,69050.9856266451,76547.31947946592,80768.86700488979,81721.3209972662,85725.7853307138,88570.1531753443,92442.8500220997,91043.0961665541,92642.13288856679,97173.69110213671,100069.58003837889,100517.52197958529,107415.4321248151,111079.3686706845,114837.3921402,114652.46044584071,119522.47498315552,122289.94753039532,123991.46705729415,124322.49447119962,125491.64178862641,127099.59239268272,128855.05017988292,130791.17619185383,132474.52203239518,134050.07277719423,135634.2076510186],\"yaxis\":\"y\",\"type\":\"scattergl\"},{\"hovertemplate\":\"LOCATION=CAN<br>TIME=%{x}<br>Value=%{y}<extra></extra>\",\"legendgroup\":\"CAN\",\"line\":{\"color\":\"#19d3f3\",\"dash\":\"solid\"},\"marker\":{\"symbol\":\"circle\"},\"mode\":\"lines\",\"name\":\"CAN\",\"showlegend\":true,\"x\":[1990.0,1991.0,1992.0,1993.0,1994.0,1995.0,1996.0,1997.0,1998.0,1999.0,2000.0,2001.0,2002.0,2003.0,2004.0,2005.0,2006.0,2007.0,2008.0,2009.0,2010.0,2011.0,2012.0,2013.0,2014.0,2015.0,2016.0,2017.0,2018.0,2019.0,2020.0,2021.0,2022.0],\"xaxis\":\"x\",\"y\":[2546.957209999999,2549.22841,2626.34847,2610.97273,2732.7664800000002,2738.690614999999,2694.254699999999,2719.943545,2877.326759999999,3006.01278,3026.418795,3065.91164499999,3067.83889499999,3073.99828499999,3118.3517150000002,3009.333599866599,3058.000378474999,3172.4876266349997,3140.65796948,3098.66939499999,3052.7720157842,2997.62773599391,3051.37876628803,3036.337221435539,3018.00728050215,3103.704048599999,3162.7764595938843,3194.194323756911,3183.811722953111,3284.422087356018,3310.082446665784,3312.833426451974,3305.829283218986],\"yaxis\":\"y\",\"type\":\"scattergl\"},{\"hovertemplate\":\"LOCATION=CHE<br>TIME=%{x}<br>Value=%{y}<extra></extra>\",\"legendgroup\":\"CHE\",\"line\":{\"color\":\"#FF6692\",\"dash\":\"solid\"},\"marker\":{\"symbol\":\"circle\"},\"mode\":\"lines\",\"name\":\"CHE\",\"showlegend\":true,\"x\":[1990.0,1991.0,1992.0,1993.0,1994.0,1995.0,1996.0,1997.0,1998.0,1999.0,2000.0,2001.0,2002.0,2003.0,2004.0,2005.0,2006.0,2007.0,2008.0,2009.0,2010.0,2011.0,2012.0,2013.0,2014.0,2015.0,2016.0,2017.0,2018.0,2019.0,2020.0,2021.0,2022.0],\"xaxis\":\"x\",\"y\":[531.999730103764,537.999640184893,532.999640173847,522.999640049787,498.999730654941,505.99964059015804,493.999640247643,492.99964054453403,506.99964026212604,499.242819288781,496.155640027481,501.399729374738,508.837820081023,513.19373,512.5816392370609,516.692731633354,522.879551617598,535.676551708657,551.291731491724,550.594069210614,570.1941971261881,574.5837137721351,561.526532366659,568.290171909218,584.9032823405839,579.756647106554,575.80520710141,581.866763428432,584.594537384,588.393779595111,591.673846056223,594.9364819173339,598.178332728445],\"yaxis\":\"y\",\"type\":\"scattergl\"},{\"hovertemplate\":\"LOCATION=CHL<br>TIME=%{x}<br>Value=%{y}<extra></extra>\",\"legendgroup\":\"CHL\",\"line\":{\"color\":\"#B6E880\",\"dash\":\"solid\"},\"marker\":{\"symbol\":\"circle\"},\"mode\":\"lines\",\"name\":\"CHL\",\"showlegend\":true,\"x\":[1990.0,1991.0,1992.0,1993.0,1994.0,1995.0,1996.0,1997.0,1998.0,1999.0,2000.0,2001.0,2002.0,2003.0,2004.0,2005.0,2006.0,2007.0,2008.0,2009.0,2010.0,2011.0,2012.0,2013.0,2014.0,2015.0,2016.0,2017.0,2018.0,2019.0,2020.0,2021.0,2022.0],\"xaxis\":\"x\",\"y\":[495.0,509.0,583.999999046326,667.0,729.0,818.0,864.0,910.0,945.0000009536739,953.999999046326,1012.000015258788,1024.0,1030.0,1072.0,1115.0,1144.0,1234.0,1300.0,1291.000030517577,1260.0,1329.0,1383.0,1431.0,1519.0,1499.0,1501.000030517577,1619.0,1644.38215013118,1652.507429820175,1668.7615680485092,1685.120880461092,1703.115701631161,1722.746362696675],\"yaxis\":\"y\",\"type\":\"scattergl\"},{\"hovertemplate\":\"LOCATION=CHN<br>TIME=%{x}<br>Value=%{y}<extra></extra>\",\"legendgroup\":\"CHN\",\"line\":{\"color\":\"#FF97FF\",\"dash\":\"solid\"},\"marker\":{\"symbol\":\"circle\"},\"mode\":\"lines\",\"name\":\"CHN\",\"showlegend\":true,\"x\":[1990.0,1991.0,1992.0,1993.0,1994.0,1995.0,1996.0,1997.0,1998.0,1999.0,2000.0,2001.0,2002.0,2003.0,2004.0,2005.0,2006.0,2007.0,2008.0,2009.0,2010.0,2011.0,2012.0,2013.0,2014.0,2015.0,2016.0,2017.0,2018.0,2019.0,2020.0,2021.0,2022.0],\"xaxis\":\"x\",\"y\":[24710.0,30668.40000152587,33710.59999847412,37644.20000457764,42789.0,46647.80001831055,45320.80004882813,52273.6000366211,56614.6000366211,57887.200012207,60594.400024414004,61836.800048828096,64219.6000366211,63167.400024414004,64254.400024414004,67475.200012207,69296.400024414,67518.0,72316.0000305176,75492.0000305176,78412.99809467769,77408.2009040076,81560.99947905942,84697.48660169943,86131.31993892444,86040.87200237064,86418.49089429235,87064.93550176702,88378.3951095562,89883.34765434639,91205.19330290085,92383.68738350063,93513.40966729463],\"yaxis\":\"y\",\"type\":\"scattergl\"},{\"hovertemplate\":\"LOCATION=COL<br>TIME=%{x}<br>Value=%{y}<extra></extra>\",\"legendgroup\":\"COL\",\"line\":{\"color\":\"#FECB52\",\"dash\":\"solid\"},\"marker\":{\"symbol\":\"circle\"},\"mode\":\"lines\",\"name\":\"COL\",\"showlegend\":true,\"x\":[1990.0,1991.0,1992.0,1993.0,1994.0,1995.0,1996.0,1997.0,1998.0,1999.0,2000.0,2001.0,2002.0,2003.0,2004.0,2005.0,2006.0,2007.0,2008.0,2009.0,2010.0,2011.0,2012.0,2013.0,2014.0,2015.0,2016.0,2017.0,2018.0,2019.0,2020.0,2021.0,2022.0],\"xaxis\":\"x\",\"y\":[1180.0,1209.0,1151.0,1205.0,1309.0,1425.0,1367.0,1347.0,1390.0,1363.0,1406.0,1448.0,1484.0,1489.0,1581.0,1726.0,1855.0,1937.0,2008.0,1968.0,2073.0,2192.0,2301.0,2457.0,2570.0,2636.0,2615.0,2650.266956614385,2677.579008131213,2709.1262103652393,2744.184276359152,2780.123921160004,2815.0028101318017],\"yaxis\":\"y\",\"type\":\"scattergl\"},{\"hovertemplate\":\"LOCATION=DZA<br>TIME=%{x}<br>Value=%{y}<extra></extra>\",\"legendgroup\":\"DZA\",\"line\":{\"color\":\"#636efa\",\"dash\":\"solid\"},\"marker\":{\"symbol\":\"circle\"},\"mode\":\"lines\",\"name\":\"DZA\",\"showlegend\":true,\"x\":[1990.0,1991.0,1992.0,1993.0,1994.0,1995.0,1996.0,1997.0,1998.0,1999.0,2000.0,2001.0,2002.0,2003.0,2004.0,2005.0,2006.0,2007.0,2008.0,2009.0,2010.0,2011.0,2012.0,2013.0,2014.0,2015.0,2016.0,2017.0,2018.0,2019.0,2020.0,2021.0,2022.0],\"xaxis\":\"x\",\"y\":[440.0,457.0,478.0,503.0,521.0,520.0,537.0,516.0,559.0,557.0,575.0,534.0,576.0,613.0,688.0,705.0,670.0,676.0,662.0,697.0,702.0,740.0,802.0,818.0,838.0,832.0,834.0,855.576280959961,868.761846208606,883.236268708103,898.786596694734,918.0452339587739,937.5369424119569],\"yaxis\":\"y\",\"type\":\"scattergl\"},{\"hovertemplate\":\"LOCATION=EGY<br>TIME=%{x}<br>Value=%{y}<extra></extra>\",\"legendgroup\":\"EGY\",\"line\":{\"color\":\"#EF553B\",\"dash\":\"solid\"},\"marker\":{\"symbol\":\"circle\"},\"mode\":\"lines\",\"name\":\"EGY\",\"showlegend\":true,\"x\":[1990.0,1991.0,1992.0,1993.0,1994.0,1995.0,1996.0,1997.0,1998.0,1999.0,2000.0,2001.0,2002.0,2003.0,2004.0,2005.0,2006.0,2007.0,2008.0,2009.0,2010.0,2011.0,2012.0,2013.0,2014.0,2015.0,2016.0,2017.0,2018.0,2019.0,2020.0,2021.0,2022.0],\"xaxis\":\"x\",\"y\":[759.0,846.0,865.0,944.0,1005.0,1044.0,1090.0,1276.0,1293.0,1365.0,1432.0,1250.0,1323.0,1376.0,1455.0,1565.0,1815.0,1979.0,1881.0,2021.0,2150.0,2148.0,2341.0,2201.0,2269.0,2343.0,2374.0,2419.628280022275,2459.248117846242,2500.413882356815,2551.6711379680137,2591.472640327062,2632.8112977414803],\"yaxis\":\"y\",\"type\":\"scattergl\"},{\"hovertemplate\":\"LOCATION=ETH<br>TIME=%{x}<br>Value=%{y}<extra></extra>\",\"legendgroup\":\"ETH\",\"line\":{\"color\":\"#00cc96\",\"dash\":\"solid\"},\"marker\":{\"symbol\":\"circle\"},\"mode\":\"lines\",\"name\":\"ETH\",\"showlegend\":true,\"x\":[1990.0,1991.0,1992.0,1993.0,1994.0,1995.0,1996.0,1997.0,1998.0,1999.0,2000.0,2001.0,2002.0,2003.0,2004.0,2005.0,2006.0,2007.0,2008.0,2009.0,2010.0,2011.0,2012.0,2013.0,2014.0,2015.0,2016.0,2017.0,2018.0,2019.0,2020.0,2021.0,2022.0],\"xaxis\":\"x\",\"y\":[328.0,329.0,327.0,328.0,328.0,332.0,364.0,366.0,374.0000038146969,389.0,394.0,421.0,486.0,475.0,487.0,505.0,549.0,556.0,569.0,551.0,622.0,604.0,543.0,553.0,562.0,570.0,556.0,574.9201164975469,583.2057532796589,595.903746566925,614.486063666309,641.2771139465,675.10340854367],\"yaxis\":\"y\",\"type\":\"scattergl\"},{\"hovertemplate\":\"LOCATION=EU28<br>TIME=%{x}<br>Value=%{y}<extra></extra>\",\"legendgroup\":\"EU28\",\"line\":{\"color\":\"#ab63fa\",\"dash\":\"solid\"},\"marker\":{\"symbol\":\"circle\"},\"mode\":\"lines\",\"name\":\"EU28\",\"showlegend\":true,\"x\":[1990.0,1991.0,1992.0,1993.0,1994.0,1995.0,1996.0,1997.0,1998.0,1999.0,2000.0,2001.0,2002.0,2003.0,2004.0,2005.0,2006.0,2007.0,2008.0,2009.0,2010.0,2011.0,2012.0,2013.0,2014.0,2015.0,2016.0,2017.0,2018.0,2019.0,2020.0,2021.0,2022.0],\"xaxis\":\"x\",\"y\":[29695.59335497,29460.727659540004,29701.41666596,29815.57470523,30390.64561253,30646.751367409997,31046.560073839995,31149.24473504,32951.280336309996,32077.9699288,40722.887025970005,41299.25321084,42368.55228129,41812.73153973,41666.633392129996,41975.46012127,41815.71212180999,42927.907316419994,42270.63539445,41691.15922404,42187.37081249,42114.6550729,41539.23517339,41037.93572294,42058.76115194,43370.91442269999,43756.35218375,44087.1319237204,43784.03559372584,43784.88758861665,44056.604896115634,44034.53348525372,43933.700798237114],\"yaxis\":\"y\",\"type\":\"scattergl\"},{\"hovertemplate\":\"LOCATION=GHA<br>TIME=%{x}<br>Value=%{y}<extra></extra>\",\"legendgroup\":\"GHA\",\"line\":{\"color\":\"#FFA15A\",\"dash\":\"solid\"},\"marker\":{\"symbol\":\"circle\"},\"mode\":\"lines\",\"name\":\"GHA\",\"showlegend\":true,\"x\":[1990.0,1991.0,1992.0,1993.0,1994.0,1995.0,1996.0,1997.0,1998.0,1999.0,2000.0,2001.0,2002.0,2003.0,2004.0,2005.0,2006.0,2007.0,2008.0,2009.0,2010.0,2011.0,2012.0,2013.0,2014.0,2015.0,2016.0,2017.0,2018.0,2019.0,2020.0,2021.0,2022.0],\"xaxis\":\"x\",\"y\":[67.0,89.0,87.0,77.0,76.0,78.0,75.0,77.0,75.0,93.0,97.0,91.0,111.0,139.0,131.0,144.0,168.0,223.0,224.0,210.0,245.0,286.0,311.0,339.0,295.0,287.0,300.0,314.089380137282,328.27310661972194,341.4652618865539,352.5094672722219,362.895103621307,374.215788868635],\"yaxis\":\"y\",\"type\":\"scattergl\"},{\"hovertemplate\":\"LOCATION=HTI<br>TIME=%{x}<br>Value=%{y}<extra></extra>\",\"legendgroup\":\"HTI\",\"line\":{\"color\":\"#19d3f3\",\"dash\":\"solid\"},\"marker\":{\"symbol\":\"circle\"},\"mode\":\"lines\",\"name\":\"HTI\",\"showlegend\":true,\"x\":[1990.0,1991.0,1992.0,1993.0,1994.0,1995.0,1996.0,1997.0,1998.0,1999.0,2000.0,2001.0,2002.0,2003.0,2004.0,2005.0,2006.0,2007.0,2008.0,2009.0,2010.0,2011.0,2012.0,2013.0,2014.0,2015.0,2016.0,2017.0,2018.0,2019.0,2020.0,2021.0,2022.0],\"xaxis\":\"x\",\"y\":[49.0,51.0,55.0,59.0,65.0,74.0,74.0,81.0,95.0,109.0,102.0,108.0,120.0,127.0,113.0,126.0,125.0,132.0,129.0,142.0,164.0,175.0,177.0,175.0,175.0,188.0,189.0,193.2128191793089,195.9512519104359,199.427217007659,203.36196064724498,207.6078714556079,211.834580493349],\"yaxis\":\"y\",\"type\":\"scattergl\"},{\"hovertemplate\":\"LOCATION=IDN<br>TIME=%{x}<br>Value=%{y}<extra></extra>\",\"legendgroup\":\"IDN\",\"line\":{\"color\":\"#FF6692\",\"dash\":\"solid\"},\"marker\":{\"symbol\":\"circle\"},\"mode\":\"lines\",\"name\":\"IDN\",\"showlegend\":true,\"x\":[1990.0,1991.0,1992.0,1993.0,1994.0,1995.0,1996.0,1997.0,1998.0,1999.0,2000.0,2001.0,2002.0,2003.0,2004.0,2005.0,2006.0,2007.0,2008.0,2009.0,2010.0,2011.0,2012.0,2013.0,2014.0,2015.0,2016.0,2017.0,2018.0,2019.0,2020.0,2021.0,2022.0],\"xaxis\":\"x\",\"y\":[1451.0,1567.0,1581.0,1837.0,1969.0,1914.0,2067.0,2074.0,1725.0,1638.0,1869.0,2012.0,2101.0,2188.999969482422,2328.0,2247.0,2496.0,2499.0,2630.0,2744.0,2967.0,3135.0,3200.0,3380.0,3447.0,3510.0,3545.0,3605.745367898327,3680.320193935257,3748.222532152304,3821.962390452137,3897.846577747262,3975.004250811055],\"yaxis\":\"y\",\"type\":\"scattergl\"},{\"hovertemplate\":\"LOCATION=IND<br>TIME=%{x}<br>Value=%{y}<extra></extra>\",\"legendgroup\":\"IND\",\"line\":{\"color\":\"#B6E880\",\"dash\":\"solid\"},\"marker\":{\"symbol\":\"circle\"},\"mode\":\"lines\",\"name\":\"IND\",\"showlegend\":true,\"x\":[1990.0,1991.0,1992.0,1993.0,1994.0,1995.0,1996.0,1997.0,1998.0,1999.0,2000.0,2001.0,2002.0,2003.0,2004.0,2005.0,2006.0,2007.0,2008.0,2009.0,2010.0,2011.0,2012.0,2013.0,2014.0,2015.0,2016.0,2017.0,2018.0,2019.0,2020.0,2021.0,2022.0],\"xaxis\":\"x\",\"y\":[3459.0,3620.0,3695.0,3761.0,3778.0,3791.0001220703098,3933.0,3847.0,3952.0,4020.0,4003.0001220703098,4125.0,4264.00012207031,4261.0,4333.00012207031,4340.99987792969,4484.0,4765.0,4887.99987792969,5107.0,4993.99987792969,4709.0,4608.0,4263.9998779296875,4299.0001220703125,4676.000061035155,4913.999938964844,5063.719471354713,5197.583966262929,5312.4064358013,5427.208507001487,5549.826774728883,5672.05278981074],\"yaxis\":\"y\",\"type\":\"scattergl\"},{\"hovertemplate\":\"LOCATION=IRN<br>TIME=%{x}<br>Value=%{y}<extra></extra>\",\"legendgroup\":\"IRN\",\"line\":{\"color\":\"#FF97FF\",\"dash\":\"solid\"},\"marker\":{\"symbol\":\"circle\"},\"mode\":\"lines\",\"name\":\"IRN\",\"showlegend\":true,\"x\":[1990.0,1991.0,1992.0,1993.0,1994.0,1995.0,1996.0,1997.0,1998.0,1999.0,2000.0,2001.0,2002.0,2003.0,2004.0,2005.0,2006.0,2007.0,2008.0,2009.0,2010.0,2011.0,2012.0,2013.0,2014.0,2015.0,2016.0,2017.0,2018.0,2019.0,2020.0,2021.0,2022.0],\"xaxis\":\"x\",\"y\":[1094.00009,1138.00009,1264.00009,1345.00009,1335.00009,1351.00009,1478.00009,1532.00009,1576.00009,1481.00009,1577.00009,1668.00009,1713.00009,1888.00009,2008.00009,2062.00009,2207.00009,2333.00009,2268.00009,2627.00009,2581.0,2660.00009,2635.0,2579.00009,2645.00021207031,2712.00009,2759.00009,2744.814730528901,2791.1134330189116,2838.307986523824,2886.039555958184,2939.92474294848,2999.032887716844],\"yaxis\":\"y\",\"type\":\"scattergl\"},{\"hovertemplate\":\"LOCATION=ISR<br>TIME=%{x}<br>Value=%{y}<extra></extra>\",\"legendgroup\":\"ISR\",\"line\":{\"color\":\"#FECB52\",\"dash\":\"solid\"},\"marker\":{\"symbol\":\"circle\"},\"mode\":\"lines\",\"name\":\"ISR\",\"showlegend\":true,\"x\":[1990.0,1991.0,1992.0,1993.0,1994.0,1995.0,1996.0,1997.0,1998.0,1999.0,2000.0,2001.0,2002.0,2003.0,2004.0,2005.0,2006.0,2007.0,2008.0,2009.0,2010.0,2011.0,2012.0,2013.0,2014.0,2015.0,2016.0,2017.0,2018.0,2019.0,2020.0,2021.0,2022.0],\"xaxis\":\"x\",\"y\":[255.0,287.0,294.0,318.0,368.0,359.0,380.00001525878804,393.0,396.0,404.0,569.0,601.0,630.0,635.0,654.0,666.0,746.0,736.0,782.0,742.0,771.0,790.0,820.0,788.0,788.0,796.0,798.0,810.570415222652,822.9350812293841,834.877005556807,846.959438691058,859.426468709858,872.2748502113379],\"yaxis\":\"y\",\"type\":\"scattergl\"},{\"hovertemplate\":\"LOCATION=JPN<br>TIME=%{x}<br>Value=%{y}<extra></extra>\",\"legendgroup\":\"JPN\",\"line\":{\"color\":\"#636efa\",\"dash\":\"solid\"},\"marker\":{\"symbol\":\"circle\"},\"mode\":\"lines\",\"name\":\"JPN\",\"showlegend\":true,\"x\":[1990.0,1991.0,1992.0,1993.0,1994.0,1995.0,1996.0,1997.0,1998.0,1999.0,2000.0,2001.0,2002.0,2003.0,2004.0,2005.0,2006.0,2007.0,2008.0,2009.0,2010.0,2011.0,2012.0,2013.0,2014.0,2015.0,2016.0,2017.0,2018.0,2019.0,2020.0,2021.0,2022.0],\"xaxis\":\"x\",\"y\":[5028.57928571429,5013.7485714285685,5130.86142857142,5190.98785714286,5334.11314285714,5470.75571428571,5513.05142857142,5340.317,5325.48885714286,5375.15699999999,5539.23242857142,5302.39438,5420.58424142857,5355.94314285714,5393.8477142857,5313.6847142857205,5226.6012857142905,5275.65671428571,5332.499571428571,5342.10614285714,5459.6015714285695,5454.78214242857,5547.9172222856905,5525.26414285715,5599.3912857142805,5667.424,5718.363380367549,5747.499661495616,5763.476750698229,5756.529304305551,5746.850006099293,5734.833983559756,5728.611418907152],\"yaxis\":\"y\",\"type\":\"scattergl\"},{\"hovertemplate\":\"LOCATION=KAZ<br>TIME=%{x}<br>Value=%{y}<extra></extra>\",\"legendgroup\":\"KAZ\",\"line\":{\"color\":\"#EF553B\",\"dash\":\"solid\"},\"marker\":{\"symbol\":\"circle\"},\"mode\":\"lines\",\"name\":\"KAZ\",\"showlegend\":true,\"x\":[1990.0,1991.0,1992.0,1993.0,1994.0,1995.0,1996.0,1997.0,1998.0,1999.0,2000.0,2001.0,2002.0,2003.0,2004.0,2005.0,2006.0,2007.0,2008.0,2009.0,2010.0,2011.0,2012.0,2013.0,2014.0,2015.0,2016.0,2017.0,2018.0,2019.0,2020.0,2021.0,2022.0],\"xaxis\":\"x\",\"y\":[1475.0,1453.0,1188.0,1227.0,1092.0,872.0,766.0,651.0,601.0,580.0,596.0,640.0,679.0,703.0,776.0,846.0,948.0,987.0,1016.0,997.0,1029.0,1030.0,964.0,967.0,988.0,999.0,992.0,998.939075142569,1000.053600747395,1008.0496198336459,1020.807810548956,1040.507006664772,1060.843025041762],\"yaxis\":\"y\",\"type\":\"scattergl\"},{\"hovertemplate\":\"LOCATION=KOR<br>TIME=%{x}<br>Value=%{y}<extra></extra>\",\"legendgroup\":\"KOR\",\"line\":{\"color\":\"#00cc96\",\"dash\":\"solid\"},\"marker\":{\"symbol\":\"circle\"},\"mode\":\"lines\",\"name\":\"KOR\",\"showlegend\":true,\"x\":[1990.0,1991.0,1992.0,1993.0,1994.0,1995.0,1996.0,1997.0,1998.0,1999.0,2000.0,2001.0,2002.0,2003.0,2004.0,2005.0,2006.0,2007.0,2008.0,2009.0,2010.0,2011.0,2012.0,2013.0,2014.0,2015.0,2016.0,2017.0,2018.0,2019.0,2020.0,2021.0,2022.0],\"xaxis\":\"x\",\"y\":[281.969038919674,1206.752019030011,1493.894383679692,1502.9821215172042,1568.89980330809,1704.984998503895,1823.666318729928,1850.933527774133,1749.0000784664999,2073.999932653276,2062.0,2083.3447745306494,2209.6498367582617,2369.002452171027,2119.35398440839,2199.681261667573,2537.983510187334,2670.999864823506,2705.999835447536,2675.999817012316,2884.999742338155,2920.9998264373,2893.99982981725,3124.99979416139,3371.9998436112,3512.99983013279,3554.1548047423903,3584.932476676322,3614.3462837618163,3642.68482801971,3670.721700547711,3698.8834620239886,3728.6128321106607],\"yaxis\":\"y\",\"type\":\"scattergl\"},{\"hovertemplate\":\"LOCATION=MEX<br>TIME=%{x}<br>Value=%{y}<extra></extra>\",\"legendgroup\":\"MEX\",\"line\":{\"color\":\"#ab63fa\",\"dash\":\"solid\"},\"marker\":{\"symbol\":\"circle\"},\"mode\":\"lines\",\"name\":\"MEX\",\"showlegend\":true,\"x\":[1990.0,1991.0,1992.0,1993.0,1994.0,1995.0,1996.0,1997.0,1998.0,1999.0,2000.0,2001.0,2002.0,2003.0,2004.0,2005.0,2006.0,2007.0,2008.0,2009.0,2010.0,2011.0,2012.0,2013.0,2014.0,2015.0,2016.0,2017.0,2018.0,2019.0,2020.0,2021.0,2022.0],\"xaxis\":\"x\",\"y\":[2524.870937210973,2957.9504713738297,3084.723929574779,3153.8734803952298,3551.49569899879,3505.877055188529,3687.0880838362,4011.500814382839,4429.36366174218,4619.88535835371,4853.3217102709095,5098.1228388409,5480.2651575049595,5672.40088930336,5706.70521445471,5961.974546135831,5967.372165398379,6185.28839188875,6431.701595812967,6570.327358509235,6598.670337459767,6526.143457605851,6736.109214416532,7031.512586856924,7108.082818009675,7399.604947020471,7529.379234422722,7614.754873990192,7773.221185020693,7935.08627610312,8053.567170958626,8186.977340020354,8305.335743111373],\"yaxis\":\"y\",\"type\":\"scattergl\"},{\"hovertemplate\":\"LOCATION=MOZ<br>TIME=%{x}<br>Value=%{y}<extra></extra>\",\"legendgroup\":\"MOZ\",\"line\":{\"color\":\"#FFA15A\",\"dash\":\"solid\"},\"marker\":{\"symbol\":\"circle\"},\"mode\":\"lines\",\"name\":\"MOZ\",\"showlegend\":true,\"x\":[1990.0,1991.0,1992.0,1993.0,1994.0,1995.0,1996.0,1997.0,1998.0,1999.0,2000.0,2001.0,2002.0,2003.0,2004.0,2005.0,2006.0,2007.0,2008.0,2009.0,2010.0,2011.0,2012.0,2013.0,2014.0,2015.0,2016.0,2017.0,2018.0,2019.0,2020.0,2021.0,2022.0],\"xaxis\":\"x\",\"y\":[68.0,71.0,70.0,72.0,76.0,76.0,79.0,82.0,87.0,82.0,195.0,192.0,195.0,165.0,180.0,198.0,161.0,178.0,174.0,182.0,185.0,200.0,220.0,237.0,245.0,254.0,257.0,265.4983435478408,273.4033842796808,283.3194878180319,295.048996674174,307.56374592692896,320.1176180201109],\"yaxis\":\"y\",\"type\":\"scattergl\"},{\"hovertemplate\":\"LOCATION=MYS<br>TIME=%{x}<br>Value=%{y}<extra></extra>\",\"legendgroup\":\"MYS\",\"line\":{\"color\":\"#19d3f3\",\"dash\":\"solid\"},\"marker\":{\"symbol\":\"circle\"},\"mode\":\"lines\",\"name\":\"MYS\",\"showlegend\":true,\"x\":[1990.0,1991.0,1992.0,1993.0,1994.0,1995.0,1996.0,1997.0,1998.0,1999.0,2000.0,2001.0,2002.0,2003.0,2004.0,2005.0,2006.0,2007.0,2008.0,2009.0,2010.0,2011.0,2012.0,2013.0,2014.0,2015.0,2016.0,2017.0,2018.0,2019.0,2020.0,2021.0,2022.0],\"xaxis\":\"x\",\"y\":[693.0,794.0,902.9999847412109,1002.0,1070.0,1110.0,1123.0,1136.0,1119.0,1057.0,1063.0,1139.0,1221.0,1240.0,1342.0,1384.0,1453.0,1461.0,1428.0,1531.0,1703.0,1749.0,1784.0,1845.0,1898.0,1957.0,1972.0,2017.935055051818,2042.907229356676,2077.0210264326442,2111.1777174838703,2147.0476588138017,2181.929326199129],\"yaxis\":\"y\",\"type\":\"scattergl\"},{\"hovertemplate\":\"LOCATION=NGA<br>TIME=%{x}<br>Value=%{y}<extra></extra>\",\"legendgroup\":\"NGA\",\"line\":{\"color\":\"#FF6692\",\"dash\":\"solid\"},\"marker\":{\"symbol\":\"circle\"},\"mode\":\"lines\",\"name\":\"NGA\",\"showlegend\":true,\"x\":[1990.0,1991.0,1992.0,1993.0,1994.0,1995.0,1996.0,1997.0,1998.0,1999.0,2000.0,2001.0,2002.0,2003.0,2004.0,2005.0,2006.0,2007.0,2008.0,2009.0,2010.0,2011.0,2012.0,2013.0,2014.0,2015.0,2016.0,2017.0,2018.0,2019.0,2020.0,2021.0,2022.0],\"xaxis\":\"x\",\"y\":[650.0,648.0,658.0,707.0,761.0,791.0,827.0,879.0,907.0,941.0,938.0,1067.0,1137.0,1067.0,1108.0,1113.0,1098.0,1195.0,1229.0,1264.0,1187.0,898.0,1036.0,1302.0,1339.0,1368.0,1377.0,1409.575979764842,1441.983018900434,1476.888485492634,1514.5214450306958,1553.280975145957,1591.375960848684],\"yaxis\":\"y\",\"type\":\"scattergl\"},{\"hovertemplate\":\"LOCATION=NOR<br>TIME=%{x}<br>Value=%{y}<extra></extra>\",\"legendgroup\":\"NOR\",\"line\":{\"color\":\"#B6E880\",\"dash\":\"solid\"},\"marker\":{\"symbol\":\"circle\"},\"mode\":\"lines\",\"name\":\"NOR\",\"showlegend\":true,\"x\":[1990.0,1991.0,1992.0,1993.0,1994.0,1995.0,1996.0,1997.0,1998.0,1999.0,2000.0,2001.0,2002.0,2003.0,2004.0,2005.0,2006.0,2007.0,2008.0,2009.0,2010.0,2011.0,2012.0,2013.0,2014.0,2015.0,2016.0,2017.0,2018.0,2019.0,2020.0,2021.0,2022.0],\"xaxis\":\"x\",\"y\":[202.00009,207.0,216.0,223.0,237.99982,245.9997299999999,255.99991,249.00009,255.0,249.15599999999978,264.0489999999998,267.552,266.988,275.848,287.73,294.112,295.459,316.0749999999999,335.479,323.9739999999999,326.8839999999989,333.6079999999998,346.2739999999999,358.866,352.292,360.328,371.8996767475768,368.5,373.35,377.2,381.05,384.90000000000003,388.75],\"yaxis\":\"y\",\"type\":\"scattergl\"},{\"hovertemplate\":\"LOCATION=NZL<br>TIME=%{x}<br>Value=%{y}<extra></extra>\",\"legendgroup\":\"NZL\",\"line\":{\"color\":\"#FF97FF\",\"dash\":\"solid\"},\"marker\":{\"symbol\":\"circle\"},\"mode\":\"lines\",\"name\":\"NZL\",\"showlegend\":true,\"x\":[1990.0,1991.0,1992.0,1993.0,1994.0,1995.0,1996.0,1997.0,1998.0,1999.0,2000.0,2001.0,2002.0,2003.0,2004.0,2005.0,2006.0,2007.0,2008.0,2009.0,2010.0,2011.0,2012.0,2013.0,2014.0,2015.0,2016.0,2017.0,2018.0,2019.0,2020.0,2021.0,2022.0],\"xaxis\":\"x\",\"y\":[338.11516416499,339.81511621924,353.378132476772,331.042715922613,403.592393127464,425.0704169177519,369.14822500193003,393.107226320803,390.024262461689,391.033397742922,413.903606050505,421.48027051998497,383.89409161344486,457.359960974412,408.523497148089,430.6241597945629,433.742187858679,444.528649770184,444.349923357953,361.724228313543,361.50241517307103,401.89884399223104,413.678831266824,370.941071298167,389.181855521359,398.040313667051,375.88905539601103,407.063884045927,426.23257755910004,422.802863055131,426.714679344911,432.621466091622,436.102329359929],\"yaxis\":\"y\",\"type\":\"scattergl\"},{\"hovertemplate\":\"LOCATION=OECD<br>TIME=%{x}<br>Value=%{y}<extra></extra>\",\"legendgroup\":\"OECD\",\"line\":{\"color\":\"#FECB52\",\"dash\":\"solid\"},\"marker\":{\"symbol\":\"circle\"},\"mode\":\"lines\",\"name\":\"OECD\",\"showlegend\":true,\"x\":[1990.0,1991.0,1992.0,1993.0,1994.0,1995.0,1996.0,1997.0,1998.0,1999.0,2000.0,2001.0,2002.0,2003.0,2004.0,2005.0,2006.0,2007.0,2008.0,2009.0,2010.0,2011.0,2012.0,2013.0,2014.0,2015.0,2016.0,2017.0,2018.0,2019.0,2020.0,2021.0,2022.0],\"xaxis\":\"x\",\"y\":[25295.95389421584,58939.59514476936,60781.64732172255,61399.57930213715,62971.686146116524,63639.1441282913,63952.84888078047,64514.61747635063,67772.8896356888,68821.87216303078,97467.4200200148,97941.26163048134,101296.9012439129,101284.70245581013,102056.88930372872,102833.69746184161,103601.96987852958,105795.38130949382,104915.85587347212,103823.68479189673,105295.82656343037,105082.9898428601,104735.17584635012,105072.06100308061,106642.0397322202,110626.04628383745,112501.23894704823,114053.70175811145,114020.39204629985,114762.09539778231,115698.3037003112,116293.97337168883,116675.38052737885],\"yaxis\":\"y\",\"type\":\"scattergl\"},{\"hovertemplate\":\"LOCATION=PAK<br>TIME=%{x}<br>Value=%{y}<extra></extra>\",\"legendgroup\":\"PAK\",\"line\":{\"color\":\"#636efa\",\"dash\":\"solid\"},\"marker\":{\"symbol\":\"circle\"},\"mode\":\"lines\",\"name\":\"PAK\",\"showlegend\":true,\"x\":[1990.0,1991.0,1992.0,1993.0,1994.0,1995.0,1996.0,1997.0,1998.0,1999.0,2000.0,2001.0,2002.0,2003.0,2004.0,2005.0,2006.0,2007.0,2008.0,2009.0,2010.0,2011.0,2012.0,2013.0,2014.0,2015.0,2016.0,2017.0,2018.0,2019.0,2020.0,2021.0,2022.0],\"xaxis\":\"x\",\"y\":[1312.00009,1370.00009,1460.00009,1632.00009,1744.00009,1843.00009,1511.00009,1653.00009,1580.00009,1637.00009,1676.00009,1725.00009,1780.00009,1831.00009,1874.00009,1921.00009,2216.00009,2302.00009,2391.00009,2496.00009,2598.00009,2715.00009,2839.00009,2963.00009,3034.00009,3103.00009,3160.00009,3223.6549325936808,3317.573979888646,3371.650948625226,3443.371913621279,3516.468638839926,3595.430286939486],\"yaxis\":\"y\",\"type\":\"scattergl\"},{\"hovertemplate\":\"LOCATION=PER<br>TIME=%{x}<br>Value=%{y}<extra></extra>\",\"legendgroup\":\"PER\",\"line\":{\"color\":\"#EF553B\",\"dash\":\"solid\"},\"marker\":{\"symbol\":\"circle\"},\"mode\":\"lines\",\"name\":\"PER\",\"showlegend\":true,\"x\":[1990.0,1991.0,1992.0,1993.0,1994.0,1995.0,1996.0,1997.0,1998.0,1999.0,2000.0,2001.0,2002.0,2003.0,2004.0,2005.0,2006.0,2007.0,2008.0,2009.0,2010.0,2011.0,2012.0,2013.0,2014.0,2015.0,2016.0,2017.0,2018.0,2019.0,2020.0,2021.0,2022.0],\"xaxis\":\"x\",\"y\":[474.0,514.0,540.0,522.0,532.0,579.0,620.0,685.0,705.0,749.0,808.0,847.0,891.0,864.0,879.0,969.0,1039.0,1109.0,1212.0,1305.0,1379.0,1446.0,1553.0,1603.0,1648.0,1761.0,1780.0,1797.721883582228,1819.95913311859,1846.941157542542,1873.957692046941,1913.9185312168202,1935.6174797243],\"yaxis\":\"y\",\"type\":\"scattergl\"},{\"hovertemplate\":\"LOCATION=PHL<br>TIME=%{x}<br>Value=%{y}<extra></extra>\",\"legendgroup\":\"PHL\",\"line\":{\"color\":\"#00cc96\",\"dash\":\"solid\"},\"marker\":{\"symbol\":\"circle\"},\"mode\":\"lines\",\"name\":\"PHL\",\"showlegend\":true,\"x\":[1990.0,1991.0,1992.0,1993.0,1994.0,1995.0,1996.0,1997.0,1998.0,1999.0,2000.0,2001.0,2002.0,2003.0,2004.0,2005.0,2006.0,2007.0,2008.0,2009.0,2010.0,2011.0,2012.0,2013.0,2014.0,2015.0,2016.0,2017.0,2018.0,2019.0,2020.0,2021.0,2022.0],\"xaxis\":\"x\",\"y\":[1093.0,1154.0,1142.0,1284.0,1350.0,1476.0,1789.0,1929.0,1976.0,2140.0,2236.0,2318.0,2444.0,2495.0,2537.0,2554.0,2731.0,2936.0,3022.0,3062.0,3215.0,3312.0,3294.0,3432.0,3573.0,3588.0,3692.0,3797.73855874844,3852.810088511657,3936.4548807659303,4021.148950975062,4090.468281552366,4163.694561407883],\"yaxis\":\"y\",\"type\":\"scattergl\"},{\"hovertemplate\":\"LOCATION=PRY<br>TIME=%{x}<br>Value=%{y}<extra></extra>\",\"legendgroup\":\"PRY\",\"line\":{\"color\":\"#ab63fa\",\"dash\":\"solid\"},\"marker\":{\"symbol\":\"circle\"},\"mode\":\"lines\",\"name\":\"PRY\",\"showlegend\":true,\"x\":[1990.0,1991.0,1992.0,1993.0,1994.0,1995.0,1996.0,1997.0,1998.0,1999.0,2000.0,2001.0,2002.0,2003.0,2004.0,2005.0,2006.0,2007.0,2008.0,2009.0,2010.0,2011.0,2012.0,2013.0,2014.0,2015.0,2016.0,2017.0,2018.0,2019.0,2020.0,2021.0,2022.0],\"xaxis\":\"x\",\"y\":[232.0,319.0,350.0,345.0,355.0,371.0,352.0,356.0,355.0,391.00001525878804,341.0,333.0,346.0,377.0,303.0,270.000007629395,383.0,383.0,429.999984741211,460.0,430.999984741211,410.0,446.0,434.00001525878804,439.0,467.0,466.999984741211,478.98624959181103,484.7570312243249,492.844767319666,502.458560639718,512.7329632606151,523.614842595583],\"yaxis\":\"y\",\"type\":\"scattergl\"},{\"hovertemplate\":\"LOCATION=RUS<br>TIME=%{x}<br>Value=%{y}<extra></extra>\",\"legendgroup\":\"RUS\",\"line\":{\"color\":\"#FFA15A\",\"dash\":\"solid\"},\"marker\":{\"symbol\":\"circle\"},\"mode\":\"lines\",\"name\":\"RUS\",\"showlegend\":true,\"x\":[1992.0,1993.0,1994.0,1995.0,1996.0,1997.0,1998.0,1999.0,2000.0,2001.0,2002.0,2003.0,2004.0,2005.0,2006.0,2007.0,2008.0,2009.0,2010.0,2011.0,2012.0,2013.0,2014.0,2015.0,2016.0,2017.0,2018.0,2019.0,2020.0,2021.0,2022.0],\"xaxis\":\"x\",\"y\":[6111.248999999989,8626.56532236475,8357.85299197774,7653.855554775289,7081.36796166779,7450.57545440725,6885.13357426867,5661.592518059149,5545.03990622946,6538.6902705162,7179.60947340851,7050.45755914001,7105.8212000824,7859.7196,8106.4364000000005,8761.009550640869,9840.78488908691,9543.4951920518,9670.27835634686,10169.40390827353,10850.339765096121,10740.887984696123,10576.07403225455,10404.578164847573,10507.17575182875,10738.044958930537,10833.52397819858,10919.65338553611,10971.035982151994,11020.614196331255,11083.734926555448],\"yaxis\":\"y\",\"type\":\"scattergl\"},{\"hovertemplate\":\"LOCATION=SAU<br>TIME=%{x}<br>Value=%{y}<extra></extra>\",\"legendgroup\":\"SAU\",\"line\":{\"color\":\"#19d3f3\",\"dash\":\"solid\"},\"marker\":{\"symbol\":\"circle\"},\"mode\":\"lines\",\"name\":\"SAU\",\"showlegend\":true,\"x\":[1990.0,1991.0,1992.0,1993.0,1994.0,1995.0,1996.0,1997.0,1998.0,1999.0,2000.0,2001.0,2002.0,2003.0,2004.0,2005.0,2006.0,2007.0,2008.0,2009.0,2010.0,2011.0,2012.0,2013.0,2014.0,2015.0,2016.0,2017.0,2018.0,2019.0,2020.0,2021.0,2022.0],\"xaxis\":\"x\",\"y\":[652.00009,718.00009,679.278776523438,655.946150180664,619.5962661474609,815.883436557617,765.586302158202,829.924009677734,925.00009,988.00009,1102.000015258789,1139.0,1091.414367675781,1105.0,1081.0,1239.971389770508,1230.0,1313.0,1360.00009,1471.917509433594,1569.0,1688.0,1738.761154174805,1804.528244018555,1773.016845703125,1976.140808105469,2004.172760009766,2049.172653403124,2083.970499566759,2121.7734341139762,2159.971845405564,2198.085477568623,2238.516961261606],\"yaxis\":\"y\",\"type\":\"scattergl\"},{\"hovertemplate\":\"LOCATION=SDN<br>TIME=%{x}<br>Value=%{y}<extra></extra>\",\"legendgroup\":\"SDN\",\"line\":{\"color\":\"#FF6692\",\"dash\":\"solid\"},\"marker\":{\"symbol\":\"circle\"},\"mode\":\"lines\",\"name\":\"SDN\",\"showlegend\":true,\"x\":[1990.0,1991.0,1992.0,1993.0,1994.0,1995.0,1996.0,1997.0,1998.0,1999.0,2000.0,2001.0,2002.0,2003.0,2004.0,2005.0,2006.0,2007.0,2008.0,2009.0,2010.0,2011.0,2012.0,2013.0,2014.0,2015.0,2016.0,2017.0,2018.0,2019.0,2020.0,2021.0,2022.0],\"xaxis\":\"x\",\"y\":[345.00009,382.00009,401.00009,412.00009,437.00009,481.00009,481.00009,518.0000747412109,539.00009,549.000105258788,575.0000747412109,612.00009,614.00009,642.00009,654.00009,708.00009,820.00009,819.00009,847.00009,833.00009,856.00009,866.00009,884.00009,884.00009,883.000059482422,888.000059482422,886.000120517577,894.6909480945719,895.608958026001,908.2954560471519,921.190172748541,940.281038608812,957.2154291082279],\"yaxis\":\"y\",\"type\":\"scattergl\"},{\"hovertemplate\":\"LOCATION=SSA<br>TIME=%{x}<br>Value=%{y}<extra></extra>\",\"legendgroup\":\"SSA\",\"line\":{\"color\":\"#B6E880\",\"dash\":\"solid\"},\"marker\":{\"symbol\":\"circle\"},\"mode\":\"lines\",\"name\":\"SSA\",\"showlegend\":true,\"x\":[1990.0,1991.0,1992.0,1993.0,1994.0,1995.0,1996.0,1997.0,1998.0,1999.0,2000.0,2001.0,2002.0,2003.0,2004.0,2005.0,2006.0,2007.0,2008.0,2009.0,2010.0,2011.0,2012.0,2013.0,2014.0,2015.0,2016.0,2017.0,2018.0,2019.0,2020.0,2021.0,2022.0],\"xaxis\":\"x\",\"y\":[4438.0001780926505,4539.0001876294,4629.000182861029,4650.0001780926505,4702.00018,4860.00019525879,5020.0001761853,5256.00015711181,5424.0001895367495,5616.00019525879,5990.0001513897605,6309.00018381469,6702.22240137451,6821.00018,7032.00017427795,7419.0001780926505,7780.000175231626,8246.00017606609,8627.00017237061,8810.00017237061,9079.00018572204,9229.00017046326,9636.000168555911,10086.0001761853,10356.000149482421,10220.00015615815,10112.0002171933,10360.04718470636,10557.96634622808,10793.98051177507,11065.88981178934,11409.60664056123,11736.374341459341],\"yaxis\":\"y\",\"type\":\"scattergl\"},{\"hovertemplate\":\"LOCATION=THA<br>TIME=%{x}<br>Value=%{y}<extra></extra>\",\"legendgroup\":\"THA\",\"line\":{\"color\":\"#FF97FF\",\"dash\":\"solid\"},\"marker\":{\"symbol\":\"circle\"},\"mode\":\"lines\",\"name\":\"THA\",\"showlegend\":true,\"x\":[1990.0,1991.0,1992.0,1993.0,1994.0,1995.0,1996.0,1997.0,1998.0,1999.0,2000.0,2001.0,2002.0,2003.0,2004.0,2005.0,2006.0,2007.0,2008.0,2009.0,2010.0,2011.0,2012.0,2013.0,2014.0,2015.0,2016.0,2017.0,2018.0,2019.0,2020.0,2021.0,2022.0],\"xaxis\":\"x\",\"y\":[1178.0,1420.0,1601.0000610351549,1675.0,1577.0,1658.0,1691.0,1656.0,1618.0,1476.999938964844,1699.0000610351549,1767.0000610351549,1837.0,1787.0,1728.0,1898.0,1944.000061035156,1937.0,1717.0,1699.000045776367,1727.000061035156,1673.000061035156,1680.0000610351549,1904.0000610351549,1925.0000610351549,1923.999984741211,1906.0000610351549,1918.6211844605468,1928.726909140267,1935.161683115689,1944.278533549834,1953.515559302539,1958.284376909494],\"yaxis\":\"y\",\"type\":\"scattergl\"},{\"hovertemplate\":\"LOCATION=TUR<br>TIME=%{x}<br>Value=%{y}<extra></extra>\",\"legendgroup\":\"TUR\",\"line\":{\"color\":\"#FECB52\",\"dash\":\"solid\"},\"marker\":{\"symbol\":\"circle\"},\"mode\":\"lines\",\"name\":\"TUR\",\"showlegend\":true,\"x\":[1990.0,1991.0,1992.0,1993.0,1994.0,1995.0,1996.0,1997.0,1998.0,1999.0,2000.0,2001.0,2002.0,2003.0,2004.0,2005.0,2006.0,2007.0,2008.0,2009.0,2010.0,2011.0,2012.0,2013.0,2014.0,2015.0,2016.0,2017.0,2018.0,2019.0,2020.0,2021.0,2022.0],\"xaxis\":\"x\",\"y\":[1166.0,1153.0,1141.0,1154.0,1115.0,1225.0,1115.0,1237.0,1238.0,1331.0,1393.0,1292.0,1353.0,1478.0,1564.0,1550.0,1554.0,1785.00009,1718.0001510351499,1815.00009,2216.00009,2309.00009,2533.0,2599.0,2755.0,2894.0,2931.0,2973.968264991424,2996.478259645023,3028.663480448677,3062.286943838701,3096.242887609446,3132.9922451493712],\"yaxis\":\"y\",\"type\":\"scattergl\"},{\"hovertemplate\":\"LOCATION=TZA<br>TIME=%{x}<br>Value=%{y}<extra></extra>\",\"legendgroup\":\"TZA\",\"line\":{\"color\":\"#636efa\",\"dash\":\"solid\"},\"marker\":{\"symbol\":\"circle\"},\"mode\":\"lines\",\"name\":\"TZA\",\"showlegend\":true,\"x\":[1990.0,1991.0,1992.0,1993.0,1994.0,1995.0,1996.0,1997.0,1998.0,1999.0,2000.0,2001.0,2002.0,2003.0,2004.0,2005.0,2006.0,2007.0,2008.0,2009.0,2010.0,2011.0,2012.0,2013.0,2014.0,2015.0,2016.0,2017.0,2018.0,2019.0,2020.0,2021.0,2022.0],\"xaxis\":\"x\",\"y\":[256.0,270.0,277.0,288.0,288.0,328.0,274.0,278.0,286.0,307.0,321.0,328.0,345.0,376.0,378.0,383.0,411.0,419.0,424.0,430.0,390.0,432.0,453.0,468.0,476.0,486.0,490.0,510.15880264036696,532.236974774403,551.185974607147,571.80474020066,592.3794580402049,612.444344442315],\"yaxis\":\"y\",\"type\":\"scattergl\"},{\"hovertemplate\":\"LOCATION=UKR<br>TIME=%{x}<br>Value=%{y}<extra></extra>\",\"legendgroup\":\"UKR\",\"line\":{\"color\":\"#EF553B\",\"dash\":\"solid\"},\"marker\":{\"symbol\":\"circle\"},\"mode\":\"lines\",\"name\":\"UKR\",\"showlegend\":true,\"x\":[1990.0,1991.0,1992.0,1993.0,1994.0,1995.0,1996.0,1997.0,1998.0,1999.0,2000.0,2001.0,2002.0,2003.0,2004.0,2005.0,2006.0,2007.0,2008.0,2009.0,2010.0,2011.0,2012.0,2013.0,2014.0,2015.0,2016.0,2017.0,2018.0,2019.0,2020.0,2021.0,2022.0],\"xaxis\":\"x\",\"y\":[4315.0,3993.0,3224.0,2688.0,2327.0,2060.0,1924.000001907349,1749.0,1631.0,1597.0,1553.0,1446.0,1572.0,1675.0,1815.0,1755.0,1936.0,2087.0,2370.0,2226.0,2286.0,2231.0,2455.0,2473.0,2358.0,2224.0,2203.0,2258.358284767383,2276.344973439276,2317.230914977866,2341.101832811716,2363.707122101562,2389.28145802245],\"yaxis\":\"y\",\"type\":\"scattergl\"},{\"hovertemplate\":\"LOCATION=URY<br>TIME=%{x}<br>Value=%{y}<extra></extra>\",\"legendgroup\":\"URY\",\"line\":{\"color\":\"#00cc96\",\"dash\":\"solid\"},\"marker\":{\"symbol\":\"circle\"},\"mode\":\"lines\",\"name\":\"URY\",\"showlegend\":true,\"x\":[1990.0,1991.0,1992.0,1993.0,1994.0,1995.0,1996.0,1997.0,1998.0,1999.0,2000.0,2001.0,2002.0,2003.0,2004.0,2005.0,2006.0,2007.0,2008.0,2009.0,2010.0,2011.0,2012.0,2013.0,2014.0,2015.0,2016.0,2017.0,2018.0,2019.0,2020.0,2021.0,2022.0],\"xaxis\":\"x\",\"y\":[226.000015258789,345.0,356.99998855590786,316.0,405.0,329.0,350.00001525878804,344.0,354.0,373.0,384.0,306.00001525878804,308.0,247.0,264.0,320.0,283.999969482422,273.000001907349,315.0,254.0,326.0,330.0,315.0,286.0,342.000001907349,365.00002861022904,367.999998092651,369.476186041112,370.583331727859,373.16424550283,376.3710743902579,379.875733407778,383.623964486381],\"yaxis\":\"y\",\"type\":\"scattergl\"},{\"hovertemplate\":\"LOCATION=USA<br>TIME=%{x}<br>Value=%{y}<extra></extra>\",\"legendgroup\":\"USA\",\"line\":{\"color\":\"#ab63fa\",\"dash\":\"solid\"},\"marker\":{\"symbol\":\"circle\"},\"mode\":\"lines\",\"name\":\"USA\",\"showlegend\":true,\"x\":[1990.0,1991.0,1992.0,1993.0,1994.0,1995.0,1996.0,1997.0,1998.0,1999.0,2000.0,2001.0,2002.0,2003.0,2004.0,2005.0,2006.0,2007.0,2008.0,2009.0,2010.0,2011.0,2012.0,2013.0,2014.0,2015.0,2016.0,2017.0,2018.0,2019.0,2020.0,2021.0,2022.0],\"xaxis\":\"x\",\"y\":[28546.796940515847,29259.44891137703,30327.914980359397,30476.442198655408,31453.039526086115,31711.587484464453,31810.92433163087,31939.39498961196,33199.19832858146,34707.93710142938,35036.47893224555,34975.60374917497,36465.464083966566,36437.63562746423,37236.33808652468,37455.72099222803,37833.88697486825,38068.83667626203,37599.85613008076,37023.41675552853,36990.40393112337,36742.17059841766,36247.56420993182,36434.996201585345,36437.811929841555,38322.54175985584,39263.814703280055,40164.56974190945,40125.64020557911,40479.7124980402,40863.99159559848,41216.662654090775,41451.23476595211],\"yaxis\":\"y\",\"type\":\"scattergl\"},{\"hovertemplate\":\"LOCATION=VNM<br>TIME=%{x}<br>Value=%{y}<extra></extra>\",\"legendgroup\":\"VNM\",\"line\":{\"color\":\"#FFA15A\",\"dash\":\"solid\"},\"marker\":{\"symbol\":\"circle\"},\"mode\":\"lines\",\"name\":\"VNM\",\"showlegend\":true,\"x\":[1990.0,1991.0,1992.0,1993.0,1994.0,1995.0,1996.0,1997.0,1998.0,1999.0,2000.0,2001.0,2002.0,2003.0,2004.0,2005.0,2006.0,2007.0,2008.0,2009.0,2010.0,2011.0,2012.0,2013.0,2014.0,2015.0,2016.0,2017.0,2018.0,2019.0,2020.0,2021.0,2022.0],\"xaxis\":\"x\",\"y\":[1050.0,1023.0,1158.0,1200.0,1294.0,1360.0,1424.0,1544.0,1629.0,1759.0,1890.0,2050.0,2276.0,2454.0,2639.0,2949.0,3306.0,3715.0,4112.0,4603.0,4738.0,5519.0,5313.0,5706.0,6107.0,6182.0,6267.0,6420.577374272976,6550.751204565176,6696.405328636753,6820.561971723931,6944.507448902712,7090.739905305479],\"yaxis\":\"y\",\"type\":\"scattergl\"},{\"hovertemplate\":\"LOCATION=WLD<br>TIME=%{x}<br>Value=%{y}<extra></extra>\",\"legendgroup\":\"WLD\",\"line\":{\"color\":\"#19d3f3\",\"dash\":\"solid\"},\"marker\":{\"symbol\":\"circle\"},\"mode\":\"lines\",\"name\":\"WLD\",\"showlegend\":true,\"x\":[1992.0,1993.0,1994.0,1995.0,1996.0,1997.0,1998.0,1999.0,2000.0,2001.0,2002.0,2003.0,2004.0,2005.0,2006.0,2007.0,2008.0,2009.0,2010.0,2011.0,2012.0,2013.0,2014.0,2015.0,2016.0,2017.0,2018.0,2019.0,2020.0,2021.0,2022.0],\"xaxis\":\"x\",\"y\":[54332.8979517903,132335.01229513527,139772.0325465898,144775.9786935992,144100.77262375611,152422.9227563016,160136.3492161038,163081.8667632833,228399.47105023748,232411.92233548762,241664.6325666837,241635.4585691734,246283.4418875931,254095.8917805196,261149.5068762544,267688.0514363442,276424.7870746202,281634.50172009703,288886.8517459373,291235.1673907173,297021.27171397634,302911.2863034996,307618.39725030074,312502.6288432982,315776.56455484487,320446.2143499095,323285.1591987095,327230.4035459706,331226.3738279533,334975.74570198974,338403.64808113663],\"yaxis\":\"y\",\"type\":\"scattergl\"},{\"hovertemplate\":\"LOCATION=ZAF<br>TIME=%{x}<br>Value=%{y}<extra></extra>\",\"legendgroup\":\"ZAF\",\"line\":{\"color\":\"#FF6692\",\"dash\":\"solid\"},\"marker\":{\"symbol\":\"circle\"},\"mode\":\"lines\",\"name\":\"ZAF\",\"showlegend\":true,\"x\":[1990.0,1991.0,1992.0,1993.0,1994.0,1995.0,1996.0,1997.0,1998.0,1999.0,2000.0,2001.0,2002.0,2003.0,2004.0,2005.0,2006.0,2007.0,2008.0,2009.0,2010.0,2011.0,2012.0,2013.0,2014.0,2015.0,2016.0,2017.0,2018.0,2019.0,2020.0,2021.0,2022.0],\"xaxis\":\"x\",\"y\":[1575.0,1548.0,1562.0,1496.0,1535.0,1594.0,1583.0,1634.0,1572.0,1791.0,1776.0,1866.0,1916.0,1992.0,2097.0,2227.0,2451.9999389648438,2646.0,2851.0,2920.0,2991.0,3078.0,3162.0,3133.0,3122.0,3218.0,3349.0,3365.875309850935,3361.688138231396,3393.137907813192,3428.090773387656,3463.850726122012,3501.2597956122436],\"yaxis\":\"y\",\"type\":\"scattergl\"},{\"hovertemplate\":\"LOCATION=ZMB<br>TIME=%{x}<br>Value=%{y}<extra></extra>\",\"legendgroup\":\"ZMB\",\"line\":{\"color\":\"#B6E880\",\"dash\":\"solid\"},\"marker\":{\"symbol\":\"circle\"},\"mode\":\"lines\",\"name\":\"ZMB\",\"showlegend\":true,\"x\":[1990.0,1991.0,1992.0,1993.0,1994.0,1995.0,1996.0,1997.0,1998.0,1999.0,2000.0,2001.0,2002.0,2003.0,2004.0,2005.0,2006.0,2007.0,2008.0,2009.0,2010.0,2011.0,2012.0,2013.0,2014.0,2015.0,2016.0,2017.0,2018.0,2019.0,2020.0,2021.0,2022.0],\"xaxis\":\"x\",\"y\":[66.0,70.0,72.0,79.0,80.0,76.0,81.0,85.0,86.0,95.0,91.0,94.0,112.0,113.0,111.0,116.0,115.0,120.0,147.0,194.0,229.0,235.0,264.0,291.0,295.0,303.999998092651,307.999998092651,316.3735754191789,324.70026900123,333.4135669557669,343.254361598453,356.447814573454,372.422673610367],\"yaxis\":\"y\",\"type\":\"scattergl\"}],                        {\"template\":{\"data\":{\"bar\":[{\"error_x\":{\"color\":\"#2a3f5f\"},\"error_y\":{\"color\":\"#2a3f5f\"},\"marker\":{\"line\":{\"color\":\"#E5ECF6\",\"width\":0.5},\"pattern\":{\"fillmode\":\"overlay\",\"size\":10,\"solidity\":0.2}},\"type\":\"bar\"}],\"barpolar\":[{\"marker\":{\"line\":{\"color\":\"#E5ECF6\",\"width\":0.5},\"pattern\":{\"fillmode\":\"overlay\",\"size\":10,\"solidity\":0.2}},\"type\":\"barpolar\"}],\"carpet\":[{\"aaxis\":{\"endlinecolor\":\"#2a3f5f\",\"gridcolor\":\"white\",\"linecolor\":\"white\",\"minorgridcolor\":\"white\",\"startlinecolor\":\"#2a3f5f\"},\"baxis\":{\"endlinecolor\":\"#2a3f5f\",\"gridcolor\":\"white\",\"linecolor\":\"white\",\"minorgridcolor\":\"white\",\"startlinecolor\":\"#2a3f5f\"},\"type\":\"carpet\"}],\"choropleth\":[{\"colorbar\":{\"outlinewidth\":0,\"ticks\":\"\"},\"type\":\"choropleth\"}],\"contour\":[{\"colorbar\":{\"outlinewidth\":0,\"ticks\":\"\"},\"colorscale\":[[0.0,\"#0d0887\"],[0.1111111111111111,\"#46039f\"],[0.2222222222222222,\"#7201a8\"],[0.3333333333333333,\"#9c179e\"],[0.4444444444444444,\"#bd3786\"],[0.5555555555555556,\"#d8576b\"],[0.6666666666666666,\"#ed7953\"],[0.7777777777777778,\"#fb9f3a\"],[0.8888888888888888,\"#fdca26\"],[1.0,\"#f0f921\"]],\"type\":\"contour\"}],\"contourcarpet\":[{\"colorbar\":{\"outlinewidth\":0,\"ticks\":\"\"},\"type\":\"contourcarpet\"}],\"heatmap\":[{\"colorbar\":{\"outlinewidth\":0,\"ticks\":\"\"},\"colorscale\":[[0.0,\"#0d0887\"],[0.1111111111111111,\"#46039f\"],[0.2222222222222222,\"#7201a8\"],[0.3333333333333333,\"#9c179e\"],[0.4444444444444444,\"#bd3786\"],[0.5555555555555556,\"#d8576b\"],[0.6666666666666666,\"#ed7953\"],[0.7777777777777778,\"#fb9f3a\"],[0.8888888888888888,\"#fdca26\"],[1.0,\"#f0f921\"]],\"type\":\"heatmap\"}],\"heatmapgl\":[{\"colorbar\":{\"outlinewidth\":0,\"ticks\":\"\"},\"colorscale\":[[0.0,\"#0d0887\"],[0.1111111111111111,\"#46039f\"],[0.2222222222222222,\"#7201a8\"],[0.3333333333333333,\"#9c179e\"],[0.4444444444444444,\"#bd3786\"],[0.5555555555555556,\"#d8576b\"],[0.6666666666666666,\"#ed7953\"],[0.7777777777777778,\"#fb9f3a\"],[0.8888888888888888,\"#fdca26\"],[1.0,\"#f0f921\"]],\"type\":\"heatmapgl\"}],\"histogram\":[{\"marker\":{\"pattern\":{\"fillmode\":\"overlay\",\"size\":10,\"solidity\":0.2}},\"type\":\"histogram\"}],\"histogram2d\":[{\"colorbar\":{\"outlinewidth\":0,\"ticks\":\"\"},\"colorscale\":[[0.0,\"#0d0887\"],[0.1111111111111111,\"#46039f\"],[0.2222222222222222,\"#7201a8\"],[0.3333333333333333,\"#9c179e\"],[0.4444444444444444,\"#bd3786\"],[0.5555555555555556,\"#d8576b\"],[0.6666666666666666,\"#ed7953\"],[0.7777777777777778,\"#fb9f3a\"],[0.8888888888888888,\"#fdca26\"],[1.0,\"#f0f921\"]],\"type\":\"histogram2d\"}],\"histogram2dcontour\":[{\"colorbar\":{\"outlinewidth\":0,\"ticks\":\"\"},\"colorscale\":[[0.0,\"#0d0887\"],[0.1111111111111111,\"#46039f\"],[0.2222222222222222,\"#7201a8\"],[0.3333333333333333,\"#9c179e\"],[0.4444444444444444,\"#bd3786\"],[0.5555555555555556,\"#d8576b\"],[0.6666666666666666,\"#ed7953\"],[0.7777777777777778,\"#fb9f3a\"],[0.8888888888888888,\"#fdca26\"],[1.0,\"#f0f921\"]],\"type\":\"histogram2dcontour\"}],\"mesh3d\":[{\"colorbar\":{\"outlinewidth\":0,\"ticks\":\"\"},\"type\":\"mesh3d\"}],\"parcoords\":[{\"line\":{\"colorbar\":{\"outlinewidth\":0,\"ticks\":\"\"}},\"type\":\"parcoords\"}],\"pie\":[{\"automargin\":true,\"type\":\"pie\"}],\"scatter\":[{\"marker\":{\"colorbar\":{\"outlinewidth\":0,\"ticks\":\"\"}},\"type\":\"scatter\"}],\"scatter3d\":[{\"line\":{\"colorbar\":{\"outlinewidth\":0,\"ticks\":\"\"}},\"marker\":{\"colorbar\":{\"outlinewidth\":0,\"ticks\":\"\"}},\"type\":\"scatter3d\"}],\"scattercarpet\":[{\"marker\":{\"colorbar\":{\"outlinewidth\":0,\"ticks\":\"\"}},\"type\":\"scattercarpet\"}],\"scattergeo\":[{\"marker\":{\"colorbar\":{\"outlinewidth\":0,\"ticks\":\"\"}},\"type\":\"scattergeo\"}],\"scattergl\":[{\"marker\":{\"colorbar\":{\"outlinewidth\":0,\"ticks\":\"\"}},\"type\":\"scattergl\"}],\"scattermapbox\":[{\"marker\":{\"colorbar\":{\"outlinewidth\":0,\"ticks\":\"\"}},\"type\":\"scattermapbox\"}],\"scatterpolar\":[{\"marker\":{\"colorbar\":{\"outlinewidth\":0,\"ticks\":\"\"}},\"type\":\"scatterpolar\"}],\"scatterpolargl\":[{\"marker\":{\"colorbar\":{\"outlinewidth\":0,\"ticks\":\"\"}},\"type\":\"scatterpolargl\"}],\"scatterternary\":[{\"marker\":{\"colorbar\":{\"outlinewidth\":0,\"ticks\":\"\"}},\"type\":\"scatterternary\"}],\"surface\":[{\"colorbar\":{\"outlinewidth\":0,\"ticks\":\"\"},\"colorscale\":[[0.0,\"#0d0887\"],[0.1111111111111111,\"#46039f\"],[0.2222222222222222,\"#7201a8\"],[0.3333333333333333,\"#9c179e\"],[0.4444444444444444,\"#bd3786\"],[0.5555555555555556,\"#d8576b\"],[0.6666666666666666,\"#ed7953\"],[0.7777777777777778,\"#fb9f3a\"],[0.8888888888888888,\"#fdca26\"],[1.0,\"#f0f921\"]],\"type\":\"surface\"}],\"table\":[{\"cells\":{\"fill\":{\"color\":\"#EBF0F8\"},\"line\":{\"color\":\"white\"}},\"header\":{\"fill\":{\"color\":\"#C8D4E3\"},\"line\":{\"color\":\"white\"}},\"type\":\"table\"}]},\"layout\":{\"annotationdefaults\":{\"arrowcolor\":\"#2a3f5f\",\"arrowhead\":0,\"arrowwidth\":1},\"autotypenumbers\":\"strict\",\"coloraxis\":{\"colorbar\":{\"outlinewidth\":0,\"ticks\":\"\"}},\"colorscale\":{\"diverging\":[[0,\"#8e0152\"],[0.1,\"#c51b7d\"],[0.2,\"#de77ae\"],[0.3,\"#f1b6da\"],[0.4,\"#fde0ef\"],[0.5,\"#f7f7f7\"],[0.6,\"#e6f5d0\"],[0.7,\"#b8e186\"],[0.8,\"#7fbc41\"],[0.9,\"#4d9221\"],[1,\"#276419\"]],\"sequential\":[[0.0,\"#0d0887\"],[0.1111111111111111,\"#46039f\"],[0.2222222222222222,\"#7201a8\"],[0.3333333333333333,\"#9c179e\"],[0.4444444444444444,\"#bd3786\"],[0.5555555555555556,\"#d8576b\"],[0.6666666666666666,\"#ed7953\"],[0.7777777777777778,\"#fb9f3a\"],[0.8888888888888888,\"#fdca26\"],[1.0,\"#f0f921\"]],\"sequentialminus\":[[0.0,\"#0d0887\"],[0.1111111111111111,\"#46039f\"],[0.2222222222222222,\"#7201a8\"],[0.3333333333333333,\"#9c179e\"],[0.4444444444444444,\"#bd3786\"],[0.5555555555555556,\"#d8576b\"],[0.6666666666666666,\"#ed7953\"],[0.7777777777777778,\"#fb9f3a\"],[0.8888888888888888,\"#fdca26\"],[1.0,\"#f0f921\"]]},\"colorway\":[\"#636efa\",\"#EF553B\",\"#00cc96\",\"#ab63fa\",\"#FFA15A\",\"#19d3f3\",\"#FF6692\",\"#B6E880\",\"#FF97FF\",\"#FECB52\"],\"font\":{\"color\":\"#2a3f5f\"},\"geo\":{\"bgcolor\":\"white\",\"lakecolor\":\"white\",\"landcolor\":\"#E5ECF6\",\"showlakes\":true,\"showland\":true,\"subunitcolor\":\"white\"},\"hoverlabel\":{\"align\":\"left\"},\"hovermode\":\"closest\",\"mapbox\":{\"style\":\"light\"},\"paper_bgcolor\":\"white\",\"plot_bgcolor\":\"#E5ECF6\",\"polar\":{\"angularaxis\":{\"gridcolor\":\"white\",\"linecolor\":\"white\",\"ticks\":\"\"},\"bgcolor\":\"#E5ECF6\",\"radialaxis\":{\"gridcolor\":\"white\",\"linecolor\":\"white\",\"ticks\":\"\"}},\"scene\":{\"xaxis\":{\"backgroundcolor\":\"#E5ECF6\",\"gridcolor\":\"white\",\"gridwidth\":2,\"linecolor\":\"white\",\"showbackground\":true,\"ticks\":\"\",\"zerolinecolor\":\"white\"},\"yaxis\":{\"backgroundcolor\":\"#E5ECF6\",\"gridcolor\":\"white\",\"gridwidth\":2,\"linecolor\":\"white\",\"showbackground\":true,\"ticks\":\"\",\"zerolinecolor\":\"white\"},\"zaxis\":{\"backgroundcolor\":\"#E5ECF6\",\"gridcolor\":\"white\",\"gridwidth\":2,\"linecolor\":\"white\",\"showbackground\":true,\"ticks\":\"\",\"zerolinecolor\":\"white\"}},\"shapedefaults\":{\"line\":{\"color\":\"#2a3f5f\"}},\"ternary\":{\"aaxis\":{\"gridcolor\":\"white\",\"linecolor\":\"white\",\"ticks\":\"\"},\"baxis\":{\"gridcolor\":\"white\",\"linecolor\":\"white\",\"ticks\":\"\"},\"bgcolor\":\"#E5ECF6\",\"caxis\":{\"gridcolor\":\"white\",\"linecolor\":\"white\",\"ticks\":\"\"}},\"title\":{\"x\":0.05},\"xaxis\":{\"automargin\":true,\"gridcolor\":\"white\",\"linecolor\":\"white\",\"ticks\":\"\",\"title\":{\"standoff\":15},\"zerolinecolor\":\"white\",\"zerolinewidth\":2},\"yaxis\":{\"automargin\":true,\"gridcolor\":\"white\",\"linecolor\":\"white\",\"ticks\":\"\",\"title\":{\"standoff\":15},\"zerolinecolor\":\"white\",\"zerolinewidth\":2}}},\"xaxis\":{\"anchor\":\"y\",\"domain\":[0.0,1.0],\"title\":{\"text\":\"TIME\"}},\"yaxis\":{\"anchor\":\"x\",\"domain\":[0.0,1.0],\"title\":{\"text\":\"Value\"}},\"legend\":{\"title\":{\"text\":\"LOCATION\"},\"tracegroupgap\":0},\"title\":{\"text\":\"Consumo de carne por ano e pa\\u00eds\"}},                        {\"responsive\": true}                    ).then(function(){\n",
              "                            \n",
              "var gd = document.getElementById('47df99f2-7b25-4dda-b820-b33f28d0fd72');\n",
              "var x = new MutationObserver(function (mutations, observer) {{\n",
              "        var display = window.getComputedStyle(gd).display;\n",
              "        if (!display || display === 'none') {{\n",
              "            console.log([gd, 'removed!']);\n",
              "            Plotly.purge(gd);\n",
              "            observer.disconnect();\n",
              "        }}\n",
              "}});\n",
              "\n",
              "// Listen for the removal of the full notebook cells\n",
              "var notebookContainer = gd.closest('#notebook-container');\n",
              "if (notebookContainer) {{\n",
              "    x.observe(notebookContainer, {childList: true});\n",
              "}}\n",
              "\n",
              "// Listen for the clearing of the current output cell\n",
              "var outputEl = gd.closest('.output');\n",
              "if (outputEl) {{\n",
              "    x.observe(outputEl, {childList: true});\n",
              "}}\n",
              "\n",
              "                        })                };                            </script>        </div>\n",
              "</body>\n",
              "</html>"
            ]
          },
          "metadata": {}
        }
      ]
    },
    {
      "cell_type": "code",
      "source": [],
      "metadata": {
        "id": "PxNHXg7Y53B3"
      },
      "execution_count": null,
      "outputs": []
    }
  ]
}